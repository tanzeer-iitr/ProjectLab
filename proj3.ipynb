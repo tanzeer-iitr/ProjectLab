{
 "cells": [
  {
   "cell_type": "markdown",
   "id": "f91ce70c-3fc5-418a-9aa4-acdac9d99ee0",
   "metadata": {},
   "source": [
    "### RandomOverSampler"
   ]
  },
  {
   "cell_type": "code",
   "execution_count": 1,
   "id": "3219b937-dd0a-49f2-b695-038824ee47a1",
   "metadata": {},
   "outputs": [],
   "source": [
    "#importing\n",
    "\n",
    "import numpy as np\n",
    "import pandas as pd\n",
    "import matplotlib as mpl\n",
    "from sklearn.model_selection import train_test_split\n",
    "import imblearn\n",
    "from imblearn.over_sampling import RandomOverSampler\n"
   ]
  },
  {
   "cell_type": "code",
   "execution_count": 2,
   "id": "4f896000",
   "metadata": {},
   "outputs": [],
   "source": [
    "#data read\n",
    "\n",
    "data = pd.read_csv(\"creditcard.csv\")\n",
    "data.head()\n",
    "X=data.iloc[:,1:30]\n",
    "y=data.iloc[:,-1]"
   ]
  },
  {
   "cell_type": "code",
   "execution_count": 3,
   "id": "7578efaa",
   "metadata": {},
   "outputs": [],
   "source": [
    "# Over-sampling\n",
    "\n",
    "oversample = RandomOverSampler(sampling_strategy='minority')\n",
    "\n",
    "X_over, y_over = oversample.fit_resample(X, y)\n",
    "\n",
    "y_over = y_over.to_frame()\n",
    "horizontal_concat = pd.concat([X_over, y_over], axis=1)\n",
    "data = horizontal_concat\n"
   ]
  },
  {
   "cell_type": "code",
   "execution_count": 4,
   "id": "75b5ea80-4d80-45ca-9d3f-f8c55ab9dcf3",
   "metadata": {},
   "outputs": [
    {
     "name": "stdout",
     "output_type": "stream",
     "text": [
      "(568630, 30)\n",
      "(568630, 30)\n",
      "568630\n"
     ]
    }
   ],
   "source": [
    "\n",
    "data10= data.sample(frac = 1,random_state=1)\n",
    "data2 = data10\n",
    "print(data.shape)\n",
    "print(data10.shape)\n",
    "print(len(data10))\n"
   ]
  },
  {
   "cell_type": "code",
   "execution_count": 5,
   "id": "9cc6452f-c9cb-45f5-9463-20d605cb3d27",
   "metadata": {},
   "outputs": [
    {
     "name": "stdout",
     "output_type": "stream",
     "text": [
      "568630\n",
      "(454904, 30)\n",
      "(113726, 30)\n",
      "0.8\n"
     ]
    }
   ],
   "source": [
    "\n",
    "(data_train, data_test) = train_test_split(data10, test_size=0.2, stratify=data10['Class'], random_state=11)\n",
    "\n",
    "print(data_train.shape)\n",
    "print(data_test.shape)\n",
    "print(len(data_train)/len(data_train+data_test))"
   ]
  },
  {
   "cell_type": "code",
   "execution_count": 6,
   "id": "12114a59-fd0a-48f1-a511-7748ed753988",
   "metadata": {},
   "outputs": [
    {
     "name": "stdout",
     "output_type": "stream",
     "text": [
      "227452\n",
      "56863\n",
      "0.8\n"
     ]
    }
   ],
   "source": [
    "print(data_train.Class.sum())\n",
    "print(data_test.Class.sum())\n",
    "print(data_train.Class.sum()/(data_train.Class.sum()+data_test.Class.sum()))"
   ]
  },
  {
   "cell_type": "code",
   "execution_count": 13,
   "id": "9942821c-138a-4e49-9bdd-6ef66627a5d9",
   "metadata": {},
   "outputs": [],
   "source": [
    "# data_train.describe()"
   ]
  },
  {
   "cell_type": "code",
   "execution_count": 7,
   "id": "13222ffa-ed62-4861-b208-9fbf4fa01fd8",
   "metadata": {},
   "outputs": [
    {
     "name": "stdout",
     "output_type": "stream",
     "text": [
      "(454904, 29)\n",
      "(454904,)\n",
      "(113726, 29)\n",
      "(113726,)\n"
     ]
    }
   ],
   "source": [
    "# separate dependent feature from independent features\n",
    "(data_train_indep, data_test_indep) = [dt.drop(['Class'], axis=1, inplace=False) for dt in [data_train, data_test]]\n",
    "(data_train_dep, data_test_dep) = [dt['Class'] for dt in [data_train, data_test]]\n",
    "print(data_train_indep.shape)\n",
    "print(data_train_dep.shape)\n",
    "print(data_test_indep.shape)\n",
    "print(data_test_dep.shape)"
   ]
  },
  {
   "cell_type": "markdown",
   "id": "23cb0c4f",
   "metadata": {},
   "source": [
    "### Random Forest - RandomOverSampler"
   ]
  },
  {
   "cell_type": "code",
   "execution_count": 11,
   "id": "751b3acf-dc44-46be-889b-643e822ce52d",
   "metadata": {},
   "outputs": [
    {
     "name": "stdout",
     "output_type": "stream",
     "text": [
      "Wrong predictions = 3 / 113726\n",
      "Accuracy score = 0.9999736208079067\n",
      "\n",
      "ROC-AUC score = 0.9999736208079067\n",
      "\n",
      "Classification Report :\n",
      "              precision    recall  f1-score   support\n",
      "\n",
      "           0       1.00      1.00      1.00     56863\n",
      "           1       1.00      1.00      1.00     56863\n",
      "\n",
      "    accuracy                           1.00    113726\n",
      "   macro avg       1.00      1.00      1.00    113726\n",
      "weighted avg       1.00      1.00      1.00    113726\n",
      "\n"
     ]
    }
   ],
   "source": [
    "from sklearn.ensemble import RandomForestClassifier\n",
    "from sklearn.metrics import classification_report,accuracy_score, confusion_matrix\n",
    "rfc = RandomForestClassifier()\n",
    "rfc.fit(data_train_indep, data_train_dep)\n",
    "pred = rfc.predict(data_test_indep)\n",
    "n_errors = (pred != data_test_dep).sum()\n",
    "# print(n_errors)\n",
    "print(\"Wrong predictions = {} / {}\".format(n_errors, len(data_test_indep)))\n",
    "print(\"Accuracy score = {}\\n\".format(accuracy_score(data_test_dep,pred)))\n",
    "\n",
    "print(\"ROC-AUC score = {}\\n\".format(roc_auc_score(data_test_dep,pred)))\n",
    "\n",
    "print(\"Classification Report :\")\n",
    "print(classification_report(data_test_dep,pred))"
   ]
  },
  {
   "cell_type": "code",
   "execution_count": 14,
   "id": "cc31595d-fc49-4369-811d-4ccbb36aebd4",
   "metadata": {},
   "outputs": [
    {
     "data": {
      "image/png": "[encoded data removed]",
      "text/plain": [
       "<Figure size 640x480 with 2 Axes>"
      ]
     },
     "metadata": {},
     "output_type": "display_data"
    }
   ],
   "source": [
    "from sklearn import metrics\n",
    "import matplotlib.pyplot as plt\n",
    "cm = metrics.confusion_matrix(data_test_dep,pred)\n",
    "\n",
    "cm_display = metrics.ConfusionMatrixDisplay(confusion_matrix = cm, display_labels = [\"Normal\", \"Fraud\"])\n",
    "\n",
    "cm_display.plot()\n",
    "plt.show()"
   ]
  },
  {
   "cell_type": "markdown",
   "id": "a07cd6b9-5095-4ab6-b0d9-6e325c98f55d",
   "metadata": {},
   "source": [
    "### Logistic Regression - RandomOverSampler"
   ]
  },
  {
   "cell_type": "code",
   "execution_count": 15,
   "id": "6e54bf35-9bcd-4b76-bc74-d6a19b058655",
   "metadata": {},
   "outputs": [
    {
     "name": "stdout",
     "output_type": "stream",
     "text": [
      "Wrong predictions = 5782 / 113726\n",
      "Accuracy score = 0.9491585037722244\n",
      "\n",
      "ROC-AUC score = 0.9491585037722244\n",
      "\n",
      "Classification Report :\n",
      "              precision    recall  f1-score   support\n",
      "\n",
      "           0       0.93      0.98      0.95     56863\n",
      "           1       0.98      0.92      0.95     56863\n",
      "\n",
      "    accuracy                           0.95    113726\n",
      "   macro avg       0.95      0.95      0.95    113726\n",
      "weighted avg       0.95      0.95      0.95    113726\n",
      "\n"
     ]
    }
   ],
   "source": [
    "from sklearn.ensemble import RandomForestClassifier\n",
    "from sklearn.metrics import classification_report,accuracy_score, confusion_matrix\n",
    "from sklearn.linear_model import LogisticRegression\n",
    "from sklearn.metrics import roc_auc_score\n",
    "\n",
    "lr = LogisticRegression(solver='liblinear')\n",
    "lr.fit(data_train_indep, data_train_dep)\n",
    "\n",
    "pred = lr.predict(data_test_indep)\n",
    "n_errors = (pred != data_test_dep).sum()\n",
    "\n",
    "print(\"Wrong predictions = {} / {}\".format(n_errors, len(data_test_indep)))\n",
    "print(\"Accuracy score = {}\\n\".format(accuracy_score(data_test_dep, pred)))\n",
    "\n",
    "print(\"ROC-AUC score = {}\\n\".format(roc_auc_score(data_test_dep,pred)))\n",
    "\n",
    "print(\"Classification Report :\")\n",
    "print(classification_report(data_test_dep,pred))\n",
    "\n"
   ]
  },
  {
   "cell_type": "code",
   "execution_count": 16,
   "id": "440499da",
   "metadata": {},
   "outputs": [
    {
     "data": {
      "image/png": "[encoded data removed]",
      "text/plain": [
       "<Figure size 640x480 with 2 Axes>"
      ]
     },
     "metadata": {},
     "output_type": "display_data"
    }
   ],
   "source": [
    "from sklearn import metrics\n",
    "import matplotlib.pyplot as plt\n",
    "cm = metrics.confusion_matrix(data_test_dep,pred)\n",
    "\n",
    "cm_display = metrics.ConfusionMatrixDisplay(confusion_matrix = cm, display_labels = [\"Normal\", \"Fraud\"])\n",
    "\n",
    "cm_display.plot()\n",
    "plt.show()"
   ]
  },
  {
   "cell_type": "markdown",
   "id": "f77b3112",
   "metadata": {},
   "source": [
    "### ANN - Random Over Sampler"
   ]
  },
  {
   "cell_type": "code",
   "execution_count": 17,
   "id": "2acca508-e221-4780-81de-6fbbb83db9f9",
   "metadata": {},
   "outputs": [
    {
     "ename": "ModuleNotFoundError",
     "evalue": "No module named 'tensorflow'",
     "output_type": "error",
     "traceback": [
      "\u001b[1;31m---------------------------------------------------------------------------\u001b[0m",
      "\u001b[1;31mModuleNotFoundError\u001b[0m                       Traceback (most recent call last)",
      "Cell \u001b[1;32mIn[17], line 1\u001b[0m\n\u001b[1;32m----> 1\u001b[0m \u001b[38;5;28;01mimport\u001b[39;00m \u001b[38;5;21;01mtensorflow\u001b[39;00m\n\u001b[0;32m      2\u001b[0m \u001b[38;5;28;01mfrom\u001b[39;00m \u001b[38;5;21;01mtensorflow\u001b[39;00m\u001b[38;5;21;01m.\u001b[39;00m\u001b[38;5;21;01mkeras\u001b[39;00m\u001b[38;5;21;01m.\u001b[39;00m\u001b[38;5;21;01mlayers\u001b[39;00m \u001b[38;5;28;01mimport\u001b[39;00m Dense\n\u001b[0;32m      3\u001b[0m \u001b[38;5;28;01mfrom\u001b[39;00m \u001b[38;5;21;01mtensorflow\u001b[39;00m\u001b[38;5;21;01m.\u001b[39;00m\u001b[38;5;21;01mkeras\u001b[39;00m\u001b[38;5;21;01m.\u001b[39;00m\u001b[38;5;21;01mmodels\u001b[39;00m \u001b[38;5;28;01mimport\u001b[39;00m Sequential\n",
      "\u001b[1;31mModuleNotFoundError\u001b[0m: No module named 'tensorflow'"
     ]
    }
   ],
   "source": [
    "import tensorflow\n",
    "from tensorflow.keras.layers import Dense\n",
    "from tensorflow.keras.models import Sequential"
   ]
  },
  {
   "cell_type": "code",
   "execution_count": null,
   "id": "9ecf4313",
   "metadata": {},
   "outputs": [],
   "source": []
  }
 ],
 "metadata": {
  "kernelspec": {
   "display_name": "Python 3 (ipykernel)",
   "language": "python",
   "name": "python3"
  },
  "language_info": {
   "codemirror_mode": {
    "name": "ipython",
    "version": 3
   },
   "file_extension": ".py",
   "mimetype": "text/x-python",
   "name": "python",
   "nbconvert_exporter": "python",
   "pygments_lexer": "ipython3",
   "version": "3.11.4"
  }
 },
 "nbformat": 4,
 "nbformat_minor": 5
}

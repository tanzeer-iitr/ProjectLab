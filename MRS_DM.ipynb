{
 "cells": [
  {
   "cell_type": "markdown",
   "id": "0cf8576b",
   "metadata": {},
   "source": [
    "### Importing Libraries"
   ]
  },
  {
   "cell_type": "code",
   "execution_count": 370,
   "id": "43cef88d",
   "metadata": {},
   "outputs": [],
   "source": [
    "import pandas as pd\n",
    "import numpy as np\n",
    "import matplotlib.pyplot as plt\n",
    "import re"
   ]
  },
  {
   "cell_type": "code",
   "execution_count": 371,
   "id": "5d57bb1e",
   "metadata": {},
   "outputs": [],
   "source": [
    "import warnings\n",
    "warnings.filterwarnings('ignore')"
   ]
  },
  {
   "cell_type": "markdown",
   "id": "df7970df",
   "metadata": {},
   "source": [
    "### Exploring dataset"
   ]
  },
  {
   "cell_type": "code",
   "execution_count": 372,
   "id": "87ed624d",
   "metadata": {
    "scrolled": true
   },
   "outputs": [
    {
     "data": {
      "text/html": [
       "<div>\n",
       "<style scoped>\n",
       "    .dataframe tbody tr th:only-of-type {\n",
       "        vertical-align: middle;\n",
       "    }\n",
       "\n",
       "    .dataframe tbody tr th {\n",
       "        vertical-align: top;\n",
       "    }\n",
       "\n",
       "    .dataframe thead th {\n",
       "        text-align: right;\n",
       "    }\n",
       "</style>\n",
       "<table border=\"1\" class=\"dataframe\">\n",
       "  <thead>\n",
       "    <tr style=\"text-align: right;\">\n",
       "      <th></th>\n",
       "      <th>name</th>\n",
       "      <th>ratings</th>\n",
       "      <th>price</th>\n",
       "      <th>imgURL</th>\n",
       "      <th>corpus</th>\n",
       "    </tr>\n",
       "  </thead>\n",
       "  <tbody>\n",
       "    <tr>\n",
       "      <th>2541</th>\n",
       "      <td>REDMI Note 9 (Shadow Black, 64 GB)</td>\n",
       "      <td>4.3</td>\n",
       "      <td>11999</td>\n",
       "      <td>https://rukminim2.flixcart.com/image/312/312/khglj0w0/mobile/m/t/7/redmi-note-9-m2003j15si-mi-original-imafxgzhx4prwpgq.jpeg?q=70</td>\n",
       "      <td>Storage64 GBRAM4 GBExpandable Storage512GB  SystemAndroid 10Processor TypeMediaTek Helio G85Processor Speed2 48MP 8MP 2MP 2MP 48MP 13MP 4G Capacity5020 Display Size16.59 cm (6.53 inch)Resolution2340 x 1080 PixelsResolution TypeFull HD+GPUArm Mali-G52 clocked up to 1000MHzDisplay TypeFull HD+ DisplayHD Game SupportYesOther Display Features19.5:9 Aspect Ratio, Brightness: 450 nits (Typ), Color Contrast Ratio: 1500:1 (Typ), NTSC: 84% (Typ), TUV Rheinland Low Blue Light Certification, Reading mode 2.0, Full Screen Gestures, Corning Gorilla Glass 5, Splash-proof Nano Coating</td>\n",
       "    </tr>\n",
       "    <tr>\n",
       "      <th>2542</th>\n",
       "      <td>OnePlus 9 5G (Astral Black, 128 GB)</td>\n",
       "      <td>3.9</td>\n",
       "      <td>30203</td>\n",
       "      <td>https://rukminim2.flixcart.com/image/312/312/xif0q/mobile/9/o/l/-original-imagdh2zh7hbwyxh.jpeg?q=70</td>\n",
       "      <td>Storage128 GBRAM8  SystemAndroid 11Processor Speed2.4 48MP 5G Capacity4500 Display Size16.64 cm (6.55 inch)Resolution2400 x 1080 pixel</td>\n",
       "    </tr>\n",
       "    <tr>\n",
       "      <th>2543</th>\n",
       "      <td>Motorola a50</td>\n",
       "      <td>4.1</td>\n",
       "      <td>1549</td>\n",
       "      <td>https://rukminim2.flixcart.com/image/312/312/kw9krrk0/mobile/j/3/w/-original-imag8zgfh9ykggsp.jpeg?q=70</td>\n",
       "      <td>NaN</td>\n",
       "    </tr>\n",
       "    <tr>\n",
       "      <th>2544</th>\n",
       "      <td>SAMSUNG Galaxy S22 Ultra 5G (Phantom Black, 256 GB)</td>\n",
       "      <td>4.3</td>\n",
       "      <td>20463</td>\n",
       "      <td>https://rukminim2.flixcart.com/image/312/312/xif0q/mobile/w/t/r/-original-imaggj68cgtdacxn.jpeg?q=70</td>\n",
       "      <td>Storage256 GBRAM12  SystemAndroid 12Processor TypeOcta CoreProcessor Speed2.99 108MP 12MP 10MP 10MP 108MP 10MP 12MP 10MP 40MP 5G Capacity5000 Display Size17.27 cm (6.8 inch)Resolution3088 x 1440 PixelsResolution TypeQuad HD+GPUQualcomm Adreno 730Display TypeDynamic AMOLED 2X DisplayHD Game SupportYes</td>\n",
       "    </tr>\n",
       "    <tr>\n",
       "      <th>2545</th>\n",
       "      <td>vivo T2x 5G (Aurora Gold, 128 GB)</td>\n",
       "      <td>4.4</td>\n",
       "      <td>13999</td>\n",
       "      <td>https://rukminim2.flixcart.com/image/312/312/xif0q/mobile/c/s/x/-original-imagzjhwaaewgj8r.jpeg?q=70</td>\n",
       "      <td>Storage128 GBRAM6  SystemAndroid 13Processor TypeDimensity 6020Processor Speed2.2 50MP 2MP 50MP 2MP 8MP 8MP 5G Capacity5000 Display Size16.71 cm (6.58 inch)Resolution2408 x 1080 PixelsResolution TypeFull HD+Display TypeFull HD+ LCD Display</td>\n",
       "    </tr>\n",
       "  </tbody>\n",
       "</table>\n",
       "</div>"
      ],
      "text/plain": [
       "                                                     name  ratings  price  \\\n",
       "2541                   REDMI Note 9 (Shadow Black, 64 GB)      4.3  11999   \n",
       "2542                  OnePlus 9 5G (Astral Black, 128 GB)      3.9  30203   \n",
       "2543                                         Motorola a50      4.1   1549   \n",
       "2544  SAMSUNG Galaxy S22 Ultra 5G (Phantom Black, 256 GB)      4.3  20463   \n",
       "2545                    vivo T2x 5G (Aurora Gold, 128 GB)      4.4  13999   \n",
       "\n",
       "                                                                                                                                 imgURL  \\\n",
       "2541  https://rukminim2.flixcart.com/image/312/312/khglj0w0/mobile/m/t/7/redmi-note-9-m2003j15si-mi-original-imafxgzhx4prwpgq.jpeg?q=70   \n",
       "2542                               https://rukminim2.flixcart.com/image/312/312/xif0q/mobile/9/o/l/-original-imagdh2zh7hbwyxh.jpeg?q=70   \n",
       "2543                            https://rukminim2.flixcart.com/image/312/312/kw9krrk0/mobile/j/3/w/-original-imag8zgfh9ykggsp.jpeg?q=70   \n",
       "2544                               https://rukminim2.flixcart.com/image/312/312/xif0q/mobile/w/t/r/-original-imaggj68cgtdacxn.jpeg?q=70   \n",
       "2545                               https://rukminim2.flixcart.com/image/312/312/xif0q/mobile/c/s/x/-original-imagzjhwaaewgj8r.jpeg?q=70   \n",
       "\n",
       "                                                                                                                                                                                                                                                                                                                                                                                                                                                                                                                                                                                                corpus  \n",
       "2541  Storage64 GBRAM4 GBExpandable Storage512GB  SystemAndroid 10Processor TypeMediaTek Helio G85Processor Speed2 48MP 8MP 2MP 2MP 48MP 13MP 4G Capacity5020 Display Size16.59 cm (6.53 inch)Resolution2340 x 1080 PixelsResolution TypeFull HD+GPUArm Mali-G52 clocked up to 1000MHzDisplay TypeFull HD+ DisplayHD Game SupportYesOther Display Features19.5:9 Aspect Ratio, Brightness: 450 nits (Typ), Color Contrast Ratio: 1500:1 (Typ), NTSC: 84% (Typ), TUV Rheinland Low Blue Light Certification, Reading mode 2.0, Full Screen Gestures, Corning Gorilla Glass 5, Splash-proof Nano Coating  \n",
       "2542                                                                                                                                                                                                                                                                                                                                                                                                                                                            Storage128 GBRAM8  SystemAndroid 11Processor Speed2.4 48MP 5G Capacity4500 Display Size16.64 cm (6.55 inch)Resolution2400 x 1080 pixel  \n",
       "2543                                                                                                                                                                                                                                                                                                                                                                                                                                                                                                                                                                                               NaN  \n",
       "2544                                                                                                                                                                                                                                                                                     Storage256 GBRAM12  SystemAndroid 12Processor TypeOcta CoreProcessor Speed2.99 108MP 12MP 10MP 10MP 108MP 10MP 12MP 10MP 40MP 5G Capacity5000 Display Size17.27 cm (6.8 inch)Resolution3088 x 1440 PixelsResolution TypeQuad HD+GPUQualcomm Adreno 730Display TypeDynamic AMOLED 2X DisplayHD Game SupportYes  \n",
       "2545                                                                                                                                                                                                                                                                                                                                                   Storage128 GBRAM6  SystemAndroid 13Processor TypeDimensity 6020Processor Speed2.2 50MP 2MP 50MP 2MP 8MP 8MP 5G Capacity5000 Display Size16.71 cm (6.58 inch)Resolution2408 x 1080 PixelsResolution TypeFull HD+Display TypeFull HD+ LCD Display  "
      ]
     },
     "execution_count": 372,
     "metadata": {},
     "output_type": "execute_result"
    }
   ],
   "source": [
    "data = pd.read_csv('dataset.csv')\n",
    "data.tail()"
   ]
  },
  {
   "cell_type": "markdown",
   "id": "39598a43",
   "metadata": {},
   "source": [
    "### Data Cleaning - removing missing values"
   ]
  },
  {
   "cell_type": "code",
   "execution_count": 373,
   "id": "1a19bd61",
   "metadata": {},
   "outputs": [
    {
     "data": {
      "text/plain": [
       "((2546, 5),\n",
       " name        0\n",
       " ratings     0\n",
       " price       0\n",
       " imgURL      0\n",
       " corpus     12\n",
       " dtype: int64)"
      ]
     },
     "execution_count": 373,
     "metadata": {},
     "output_type": "execute_result"
    }
   ],
   "source": [
    "# before cleaning\n",
    "data_size = data.shape\n",
    "missing_values = data.isnull().sum()\n",
    "data_size, missing_values"
   ]
  },
  {
   "cell_type": "code",
   "execution_count": 374,
   "id": "f6920147",
   "metadata": {},
   "outputs": [
    {
     "data": {
      "text/plain": [
       "((2534, 5),\n",
       " name       0\n",
       " ratings    0\n",
       " price      0\n",
       " imgURL     0\n",
       " corpus     0\n",
       " dtype: int64)"
      ]
     },
     "execution_count": 374,
     "metadata": {},
     "output_type": "execute_result"
    }
   ],
   "source": [
    "data = data.dropna()\n",
    "\n",
    "# after cleaning\n",
    "data_size = data.shape\n",
    "missing_values = data.isnull().sum()\n",
    "data_size, missing_values"
   ]
  },
  {
   "cell_type": "markdown",
   "id": "ee76f29a",
   "metadata": {},
   "source": [
    "### Feature Extraction"
   ]
  },
  {
   "cell_type": "code",
   "execution_count": 375,
   "id": "594eb56c",
   "metadata": {
    "scrolled": true
   },
   "outputs": [
    {
     "data": {
      "text/html": [
       "<div>\n",
       "<style scoped>\n",
       "    .dataframe tbody tr th:only-of-type {\n",
       "        vertical-align: middle;\n",
       "    }\n",
       "\n",
       "    .dataframe tbody tr th {\n",
       "        vertical-align: top;\n",
       "    }\n",
       "\n",
       "    .dataframe thead th {\n",
       "        text-align: right;\n",
       "    }\n",
       "</style>\n",
       "<table border=\"1\" class=\"dataframe\">\n",
       "  <thead>\n",
       "    <tr style=\"text-align: right;\">\n",
       "      <th></th>\n",
       "      <th>name</th>\n",
       "      <th>ratings</th>\n",
       "      <th>price</th>\n",
       "      <th>imgURL</th>\n",
       "      <th>corpus</th>\n",
       "      <th>Storage</th>\n",
       "      <th>RAM</th>\n",
       "      <th>OS</th>\n",
       "      <th>Processor</th>\n",
       "      <th>Brand</th>\n",
       "    </tr>\n",
       "  </thead>\n",
       "  <tbody>\n",
       "    <tr>\n",
       "      <th>2540</th>\n",
       "      <td>SAMSUNG Galaxy S20 FE 5G (Cloud Navy, 128 GB)</td>\n",
       "      <td>4.2</td>\n",
       "      <td>27440</td>\n",
       "      <td>https://rukminim2.flixcart.com/image/312/312/xif0q/mobile/a/m/w/-original-imag47fdfgmg2gnh.jpeg?q=70</td>\n",
       "      <td>Storage128 GBRAM8  SystemAndroid 10Processor Speed2.73 12MP 5G Capacity4500 Display Size16.51 cm (6.5 inch)Resolution2400 x 1080 Pixels</td>\n",
       "      <td>128.0</td>\n",
       "      <td>8.0</td>\n",
       "      <td>Android 10</td>\n",
       "      <td>Speed2.73</td>\n",
       "      <td>SAMSUNG</td>\n",
       "    </tr>\n",
       "    <tr>\n",
       "      <th>2541</th>\n",
       "      <td>REDMI Note 9 (Shadow Black, 64 GB)</td>\n",
       "      <td>4.3</td>\n",
       "      <td>11999</td>\n",
       "      <td>https://rukminim2.flixcart.com/image/312/312/khglj0w0/mobile/m/t/7/redmi-note-9-m2003j15si-mi-original-imafxgzhx4prwpgq.jpeg?q=70</td>\n",
       "      <td>Storage64 GBRAM4 GBExpandable Storage512GB  SystemAndroid 10Processor TypeMediaTek Helio G85Processor Speed2 48MP 8MP 2MP 2MP 48MP 13MP 4G Capacity5020 Display Size16.59 cm (6.53 inch)Resolution2340 x 1080 PixelsResolution TypeFull HD+GPUArm Mali-G52 clocked up to 1000MHzDisplay TypeFull HD+ DisplayHD Game SupportYesOther Display Features19.5:9 Aspect Ratio, Brightness: 450 nits (Typ), Color Contrast Ratio: 1500:1 (Typ), NTSC: 84% (Typ), TUV Rheinland Low Blue Light Certification, Reading mode 2.0, Full Screen Gestures, Corning Gorilla Glass 5, Splash-proof Nano Coating</td>\n",
       "      <td>64.0</td>\n",
       "      <td>4.0</td>\n",
       "      <td>Android 10</td>\n",
       "      <td>TypeMediaTek</td>\n",
       "      <td>REDMI</td>\n",
       "    </tr>\n",
       "    <tr>\n",
       "      <th>2542</th>\n",
       "      <td>OnePlus 9 5G (Astral Black, 128 GB)</td>\n",
       "      <td>3.9</td>\n",
       "      <td>30203</td>\n",
       "      <td>https://rukminim2.flixcart.com/image/312/312/xif0q/mobile/9/o/l/-original-imagdh2zh7hbwyxh.jpeg?q=70</td>\n",
       "      <td>Storage128 GBRAM8  SystemAndroid 11Processor Speed2.4 48MP 5G Capacity4500 Display Size16.64 cm (6.55 inch)Resolution2400 x 1080 pixel</td>\n",
       "      <td>128.0</td>\n",
       "      <td>8.0</td>\n",
       "      <td>Android 11</td>\n",
       "      <td>Speed2.4</td>\n",
       "      <td>OnePlus</td>\n",
       "    </tr>\n",
       "    <tr>\n",
       "      <th>2544</th>\n",
       "      <td>SAMSUNG Galaxy S22 Ultra 5G (Phantom Black, 256 GB)</td>\n",
       "      <td>4.3</td>\n",
       "      <td>20463</td>\n",
       "      <td>https://rukminim2.flixcart.com/image/312/312/xif0q/mobile/w/t/r/-original-imaggj68cgtdacxn.jpeg?q=70</td>\n",
       "      <td>Storage256 GBRAM12  SystemAndroid 12Processor TypeOcta CoreProcessor Speed2.99 108MP 12MP 10MP 10MP 108MP 10MP 12MP 10MP 40MP 5G Capacity5000 Display Size17.27 cm (6.8 inch)Resolution3088 x 1440 PixelsResolution TypeQuad HD+GPUQualcomm Adreno 730Display TypeDynamic AMOLED 2X DisplayHD Game SupportYes</td>\n",
       "      <td>256.0</td>\n",
       "      <td>12.0</td>\n",
       "      <td>Android 12</td>\n",
       "      <td>TypeOcta</td>\n",
       "      <td>SAMSUNG</td>\n",
       "    </tr>\n",
       "    <tr>\n",
       "      <th>2545</th>\n",
       "      <td>vivo T2x 5G (Aurora Gold, 128 GB)</td>\n",
       "      <td>4.4</td>\n",
       "      <td>13999</td>\n",
       "      <td>https://rukminim2.flixcart.com/image/312/312/xif0q/mobile/c/s/x/-original-imagzjhwaaewgj8r.jpeg?q=70</td>\n",
       "      <td>Storage128 GBRAM6  SystemAndroid 13Processor TypeDimensity 6020Processor Speed2.2 50MP 2MP 50MP 2MP 8MP 8MP 5G Capacity5000 Display Size16.71 cm (6.58 inch)Resolution2408 x 1080 PixelsResolution TypeFull HD+Display TypeFull HD+ LCD Display</td>\n",
       "      <td>128.0</td>\n",
       "      <td>6.0</td>\n",
       "      <td>Android 13</td>\n",
       "      <td>TypeDimensity</td>\n",
       "      <td>vivo</td>\n",
       "    </tr>\n",
       "  </tbody>\n",
       "</table>\n",
       "</div>"
      ],
      "text/plain": [
       "                                                     name  ratings  price  \\\n",
       "2540        SAMSUNG Galaxy S20 FE 5G (Cloud Navy, 128 GB)      4.2  27440   \n",
       "2541                   REDMI Note 9 (Shadow Black, 64 GB)      4.3  11999   \n",
       "2542                  OnePlus 9 5G (Astral Black, 128 GB)      3.9  30203   \n",
       "2544  SAMSUNG Galaxy S22 Ultra 5G (Phantom Black, 256 GB)      4.3  20463   \n",
       "2545                    vivo T2x 5G (Aurora Gold, 128 GB)      4.4  13999   \n",
       "\n",
       "                                                                                                                                 imgURL  \\\n",
       "2540                               https://rukminim2.flixcart.com/image/312/312/xif0q/mobile/a/m/w/-original-imag47fdfgmg2gnh.jpeg?q=70   \n",
       "2541  https://rukminim2.flixcart.com/image/312/312/khglj0w0/mobile/m/t/7/redmi-note-9-m2003j15si-mi-original-imafxgzhx4prwpgq.jpeg?q=70   \n",
       "2542                               https://rukminim2.flixcart.com/image/312/312/xif0q/mobile/9/o/l/-original-imagdh2zh7hbwyxh.jpeg?q=70   \n",
       "2544                               https://rukminim2.flixcart.com/image/312/312/xif0q/mobile/w/t/r/-original-imaggj68cgtdacxn.jpeg?q=70   \n",
       "2545                               https://rukminim2.flixcart.com/image/312/312/xif0q/mobile/c/s/x/-original-imagzjhwaaewgj8r.jpeg?q=70   \n",
       "\n",
       "                                                                                                                                                                                                                                                                                                                                                                                                                                                                                                                                                                                                corpus  \\\n",
       "2540                                                                                                                                                                                                                                                                                                                                                                                                                                                           Storage128 GBRAM8  SystemAndroid 10Processor Speed2.73 12MP 5G Capacity4500 Display Size16.51 cm (6.5 inch)Resolution2400 x 1080 Pixels   \n",
       "2541  Storage64 GBRAM4 GBExpandable Storage512GB  SystemAndroid 10Processor TypeMediaTek Helio G85Processor Speed2 48MP 8MP 2MP 2MP 48MP 13MP 4G Capacity5020 Display Size16.59 cm (6.53 inch)Resolution2340 x 1080 PixelsResolution TypeFull HD+GPUArm Mali-G52 clocked up to 1000MHzDisplay TypeFull HD+ DisplayHD Game SupportYesOther Display Features19.5:9 Aspect Ratio, Brightness: 450 nits (Typ), Color Contrast Ratio: 1500:1 (Typ), NTSC: 84% (Typ), TUV Rheinland Low Blue Light Certification, Reading mode 2.0, Full Screen Gestures, Corning Gorilla Glass 5, Splash-proof Nano Coating   \n",
       "2542                                                                                                                                                                                                                                                                                                                                                                                                                                                            Storage128 GBRAM8  SystemAndroid 11Processor Speed2.4 48MP 5G Capacity4500 Display Size16.64 cm (6.55 inch)Resolution2400 x 1080 pixel   \n",
       "2544                                                                                                                                                                                                                                                                                     Storage256 GBRAM12  SystemAndroid 12Processor TypeOcta CoreProcessor Speed2.99 108MP 12MP 10MP 10MP 108MP 10MP 12MP 10MP 40MP 5G Capacity5000 Display Size17.27 cm (6.8 inch)Resolution3088 x 1440 PixelsResolution TypeQuad HD+GPUQualcomm Adreno 730Display TypeDynamic AMOLED 2X DisplayHD Game SupportYes   \n",
       "2545                                                                                                                                                                                                                                                                                                                                                   Storage128 GBRAM6  SystemAndroid 13Processor TypeDimensity 6020Processor Speed2.2 50MP 2MP 50MP 2MP 8MP 8MP 5G Capacity5000 Display Size16.71 cm (6.58 inch)Resolution2408 x 1080 PixelsResolution TypeFull HD+Display TypeFull HD+ LCD Display   \n",
       "\n",
       "      Storage   RAM          OS      Processor    Brand  \n",
       "2540    128.0   8.0  Android 10      Speed2.73  SAMSUNG  \n",
       "2541     64.0   4.0  Android 10   TypeMediaTek    REDMI  \n",
       "2542    128.0   8.0  Android 11       Speed2.4  OnePlus  \n",
       "2544    256.0  12.0  Android 12       TypeOcta  SAMSUNG  \n",
       "2545    128.0   6.0  Android 13  TypeDimensity     vivo  "
      ]
     },
     "execution_count": 375,
     "metadata": {},
     "output_type": "execute_result"
    }
   ],
   "source": [
    "# to extract storage information from corpus\n",
    "def extract_storage(corpus):\n",
    "    \"\"\"Extract the storage capacity from the corpus.\"\"\"\n",
    "    storage = re.search(r'Storage(\\d+)', corpus)\n",
    "    if storage:\n",
    "        return int(storage.group(1))\n",
    "    return None\n",
    "\n",
    "# to extract ram information from corpus\n",
    "def extract_ram(corpus):\n",
    "    ram = re.search(r'RAM(\\d+)', corpus)\n",
    "    if ram:\n",
    "        return int(ram.group(1))\n",
    "    return None\n",
    "\n",
    "# to extract operating system name from corpus\n",
    "def extract_os(corpus):\n",
    "    os = re.search(r'System(.*?)Processor', corpus)\n",
    "    if os:\n",
    "        return os.group(1).strip()\n",
    "    return None\n",
    "\n",
    "# to extract processor details from corpus\n",
    "def extract_processor(corpus):\n",
    "    \"\"\"Extract the processor type from the corpus.\"\"\"\n",
    "    processor = re.search(r'Processor (.*?) ', corpus)\n",
    "    if processor:\n",
    "        return processor.group(1).strip()\n",
    "    return None\n",
    "\n",
    "# to extract brand name from corpus\n",
    "def extract_brand(name):\n",
    "    return name.split()[0]\n",
    "\n",
    "\n",
    "\n",
    "data['Storage'] = data['corpus'].apply(extract_storage)\n",
    "data['RAM'] = data['corpus'].apply(extract_ram)\n",
    "data['OS'] = data['corpus'].apply(extract_os)\n",
    "data['Processor'] = data['corpus'].apply(extract_processor)\n",
    "data['Brand'] = data['name'].apply(extract_brand)\n",
    "\n",
    "data.tail()\n"
   ]
  },
  {
   "cell_type": "code",
   "execution_count": 377,
   "id": "8708a44a",
   "metadata": {
    "scrolled": false
   },
   "outputs": [],
   "source": [
    "# Check the unique values for 'System' and 'Processor'\n",
    "# all_os = data['OS'].unique()\n",
    "# all_processors = data['Processor'].unique()\n",
    "\n",
    "# all_os, all_processors"
   ]
  },
  {
   "cell_type": "markdown",
   "id": "c4c1e109",
   "metadata": {},
   "source": [
    "### Data Normalization"
   ]
  },
  {
   "cell_type": "code",
   "execution_count": 378,
   "id": "7e4e0bf0",
   "metadata": {},
   "outputs": [
    {
     "data": {
      "text/plain": [
       "array(['Android', 'iOS', None, 'Other', 'Series 30', 'Tizen'],\n",
       "      dtype=object)"
      ]
     },
     "execution_count": 378,
     "metadata": {},
     "output_type": "execute_result"
    }
   ],
   "source": [
    "# to normalize operating system names\n",
    "def normalize_os(os):\n",
    "    if pd.isnull(os):\n",
    "        return None\n",
    "    if 'android' in os.lower():\n",
    "        return 'Android'\n",
    "    if 'ios' in os.lower():\n",
    "        return 'iOS'\n",
    "    if 'tizen' in os.lower():\n",
    "        return 'Tizen'\n",
    "    if 'series 30' in os.lower():\n",
    "        return 'Series 30'\n",
    "    return 'Other'\n",
    "\n",
    "\n",
    "data['OS'] = data['OS'].apply(normalize_os)\n",
    "\n",
    "all_os = data['OS'].unique()\n",
    "\n",
    "all_os\n"
   ]
  },
  {
   "cell_type": "code",
   "execution_count": 379,
   "id": "7c4dd87d",
   "metadata": {
    "scrolled": true
   },
   "outputs": [
    {
     "data": {
      "image/png": "[encoded data removed]",
      "text/plain": [
       "<Figure size 1000x500 with 1 Axes>"
      ]
     },
     "metadata": {},
     "output_type": "display_data"
    }
   ],
   "source": [
    "# operating system visualization\n",
    "data['OS'].value_counts().plot(kind = 'barh', rot=0, figsize=(10, 5), color=['#1f77b4', '#d9534f', '#5cb85c'])\n",
    "plt.title('Distribution of Operating Systems')\n",
    "plt.xlabel('Number of mobile phones')\n",
    "plt.ylabel('Operating System')\n",
    "plt.show()"
   ]
  },
  {
   "cell_type": "code",
   "execution_count": 383,
   "id": "6df1087f",
   "metadata": {},
   "outputs": [
    {
     "data": {
      "text/plain": [
       "array(['MediaTek', 'Other', 'Qualcomm', None, 'Samsung', 'Apple'],\n",
       "      dtype=object)"
      ]
     },
     "execution_count": 383,
     "metadata": {},
     "output_type": "execute_result"
    }
   ],
   "source": [
    "# to normalize processor names\n",
    "def normalize_processor(processor):\n",
    "    if pd.isnull(processor):\n",
    "        return None\n",
    "    if 'mediatek' in processor.lower():\n",
    "        return 'MediaTek'\n",
    "    if 'mtk' in processor.lower():\n",
    "        return 'MediaTek'\n",
    "    if 'qualcomm' in processor.lower():\n",
    "        return 'Qualcomm'\n",
    "    if 'sdm' in processor.lower():\n",
    "        return 'Qualcomm'\n",
    "    if 'Snapdragon' in processor.lower():\n",
    "        return 'Qualcomm'\n",
    "    if 'apple' in processor.lower():\n",
    "        return 'Apple'\n",
    "    if 'samsung' in processor.lower():\n",
    "        return 'Samsung'\n",
    "    if 'exynos' in processor.lower():\n",
    "        return 'Samsung'\n",
    "    return 'Other'\n",
    "\n",
    "\n",
    "data['Processor'] = data['Processor'].apply(normalize_processor)\n",
    "\n",
    "# Check the unique values for 'Processor'\n",
    "all_processor = data['Processor'].unique()\n",
    "\n",
    "all_processor"
   ]
  },
  {
   "cell_type": "markdown",
   "id": "b784ddb3",
   "metadata": {},
   "source": [
    "### Data Visualization"
   ]
  },
  {
   "cell_type": "code",
   "execution_count": 384,
   "id": "fce4138e",
   "metadata": {},
   "outputs": [
    {
     "data": {
      "image/png": "[encoded data removed]",
      "text/plain": [
       "<Figure size 1000x500 with 1 Axes>"
      ]
     },
     "metadata": {},
     "output_type": "display_data"
    }
   ],
   "source": [
    "# processor visualization\n",
    "data['Processor'].value_counts().plot(kind = 'barh', rot=0, figsize=(10, 5), color=['#1f77b4', '#d9534f', '#5cb85c'])\n",
    "plt.title('Distribution of Processors')\n",
    "plt.xlabel('Number of mobile phones')\n",
    "plt.ylabel('Processor')\n",
    "plt.show()"
   ]
  },
  {
   "cell_type": "raw",
   "id": "88c754f2",
   "metadata": {},
   "source": []
  },
  {
   "cell_type": "code",
   "execution_count": 392,
   "id": "0303cb97",
   "metadata": {},
   "outputs": [
    {
     "data": {
      "text/html": [
       "<div>\n",
       "<style scoped>\n",
       "    .dataframe tbody tr th:only-of-type {\n",
       "        vertical-align: middle;\n",
       "    }\n",
       "\n",
       "    .dataframe tbody tr th {\n",
       "        vertical-align: top;\n",
       "    }\n",
       "\n",
       "    .dataframe thead th {\n",
       "        text-align: right;\n",
       "    }\n",
       "</style>\n",
       "<table border=\"1\" class=\"dataframe\">\n",
       "  <thead>\n",
       "    <tr style=\"text-align: right;\">\n",
       "      <th></th>\n",
       "      <th>name</th>\n",
       "      <th>ratings</th>\n",
       "      <th>price</th>\n",
       "      <th>imgURL</th>\n",
       "      <th>corpus</th>\n",
       "      <th>Storage</th>\n",
       "      <th>RAM</th>\n",
       "      <th>OS</th>\n",
       "      <th>Processor</th>\n",
       "      <th>Brand</th>\n",
       "    </tr>\n",
       "  </thead>\n",
       "  <tbody>\n",
       "    <tr>\n",
       "      <th>0</th>\n",
       "      <td>REDMI Note 12 Pro 5G (Onyx Black, 128 GB)</td>\n",
       "      <td>4.2</td>\n",
       "      <td>23999</td>\n",
       "      <td>https://rukminim2.flixcart.com/image/312/312/xif0q/mobile/b/r/f/-original-imaghkvuhzwge3za.jpeg?q=70</td>\n",
       "      <td>Storage128 GBRAM6  SystemAndroid 12Processor TypeMediatek Dimensity 1080Processor Speed2.6 50MP 8MP 2MP 50MP 16MP 5G Capacity5000 Display Size16.94 cm (6.67 inch)Resolution2400 x 1080 PixelsResolution TypeFull HD+ AMOLED DisplayGPUARM Mali-G68 MC4Display TypeFull HD+ AMOLED DisplayOther Display FeaturesRefresh Rate: 120 Hz, Contrast: 5,000,000:1, 1920Hz PWM Dimming, Brightness Level: 16000:1, Peak Brightness: 900 nits</td>\n",
       "      <td>128.0</td>\n",
       "      <td>6.0</td>\n",
       "      <td>Android</td>\n",
       "      <td>MediaTek</td>\n",
       "      <td>REDMI</td>\n",
       "    </tr>\n",
       "    <tr>\n",
       "      <th>1</th>\n",
       "      <td>OPPO F11 Pro (Aurora Green, 128 GB)</td>\n",
       "      <td>4.5</td>\n",
       "      <td>20999</td>\n",
       "      <td>https://rukminim2.flixcart.com/image/312/312/k01b8280pkrrdj/mobile-refurbished/8/w/n/f11-pro-128-d-cph1969-oppo-6-original-imafec8hzfzyg79e.jpeg?q=70</td>\n",
       "      <td>Storage128 GBRAM6 GBExpandable Storage256GB  SystemAndroid Pie 9.0Processor TypeMediaTek Helio P70 Octa Core 2.1 GHzProcessor Speed2.1 48MP 5MP 48MP 5MP 48MP 5MP 48MP 5MP 48MP 5MP 16MP 3G Capacity4000 Display Size16.51 cm (6.5 inch)Resolution2340 x 1080 pixelsResolution TypeFull HD+GPUARM Mali-G72 MP3 at 900 MHzDisplay Colors16MOther Display FeaturesScreen Texture: TFT-LTPS, In-cell Touch Panel Technology, Narrow Frame: 1.70mm (Size from AA to Outside Edge of Glass), Screen Ratio: 90.90%, Screen Contrast: 1500:1 (Typical), Color Saturation: NTSC 81.5% (Typical), Maximum Brightness: 480 nits (Typical), Touch Screen Supplier: DSBJ, TM, Touch Panel Glass Type: Dragontrail</td>\n",
       "      <td>128.0</td>\n",
       "      <td>6.0</td>\n",
       "      <td>Android</td>\n",
       "      <td>MediaTek</td>\n",
       "      <td>OPPO</td>\n",
       "    </tr>\n",
       "    <tr>\n",
       "      <th>2</th>\n",
       "      <td>REDMI Note 11 (Starburst White, 64 GB)</td>\n",
       "      <td>4.2</td>\n",
       "      <td>13149</td>\n",
       "      <td>https://rukminim2.flixcart.com/image/312/312/xif0q/mobile/m/e/y/-original-imagbgaqje2mygjm.jpeg?q=70</td>\n",
       "      <td>Storage64 GBRAM4  SystemAndroid 11Processor Speed2.4 50MP 4G Capacity5000 Display Size16.33 cm (6.43 inch)Resolution2400 x 1080 pixel</td>\n",
       "      <td>64.0</td>\n",
       "      <td>4.0</td>\n",
       "      <td>Android</td>\n",
       "      <td>Other</td>\n",
       "      <td>REDMI</td>\n",
       "    </tr>\n",
       "    <tr>\n",
       "      <th>3</th>\n",
       "      <td>OnePlus Nord CE 5G (Blue Void, 256 GB)</td>\n",
       "      <td>4.1</td>\n",
       "      <td>21999</td>\n",
       "      <td>https://rukminim2.flixcart.com/image/312/312/xif0q/mobile/x/t/k/-original-imag43fz8bd4hg3d.jpeg?q=70</td>\n",
       "      <td>Storage256 GBRAM12  SystemAndroid Q 11Processor TypeQualcomm Snapdragon Octa Core 750G 5G ProcessorProcessor Speed2.4 64MP 5G Capacity4500 Display Size16.33 cm (6.43 inch)Resolution2400 x 1080$$pixelsDisplay TypeFluid Amoled Display</td>\n",
       "      <td>256.0</td>\n",
       "      <td>12.0</td>\n",
       "      <td>Android</td>\n",
       "      <td>Qualcomm</td>\n",
       "      <td>OnePlus</td>\n",
       "    </tr>\n",
       "    <tr>\n",
       "      <th>4</th>\n",
       "      <td>APPLE iPhone 13 mini (Blue, 128 GB)</td>\n",
       "      <td>4.6</td>\n",
       "      <td>3537</td>\n",
       "      <td>https://rukminim2.flixcart.com/image/312/312/ktketu80/mobile/a/i/l/iphone-13-mini-mlk93hn-a-apple-original-imag6vp6x67yypzk.jpeg?q=70</td>\n",
       "      <td>Storage128  SystemiOS 15Processor TypeA15 Bionic Chip 12MP 12MP 12MP 63MP 12MP 12MP 5G notMentioned Display Size13.72 cm (5.4 inch)Resolution2340 x 1080 PixelsResolution TypeSuper Retina XDR DisplayDisplay TypeSuper Retina XDR DisplayOther Display FeaturesSuper Retina XDR Display, 5.4‑inch (Diagonal) All‑screen OLED Display, HDR Display, True Tone, Wide Colour (P3), Haptic Touch, 20,00,000:1 Contrast Ratio (Typical), 800 nits max Brightness (Typical), 1,200 nits max Brightness (HDR), Fingerprint-resistant Oleophobic Coating, Support for Display of Multiple Languages and Characters Simultaneously</td>\n",
       "      <td>128.0</td>\n",
       "      <td>NaN</td>\n",
       "      <td>iOS</td>\n",
       "      <td>Other</td>\n",
       "      <td>APPLE</td>\n",
       "    </tr>\n",
       "  </tbody>\n",
       "</table>\n",
       "</div>"
      ],
      "text/plain": [
       "                                        name  ratings  price  \\\n",
       "0  REDMI Note 12 Pro 5G (Onyx Black, 128 GB)      4.2  23999   \n",
       "1        OPPO F11 Pro (Aurora Green, 128 GB)      4.5  20999   \n",
       "2     REDMI Note 11 (Starburst White, 64 GB)      4.2  13149   \n",
       "3     OnePlus Nord CE 5G (Blue Void, 256 GB)      4.1  21999   \n",
       "4        APPLE iPhone 13 mini (Blue, 128 GB)      4.6   3537   \n",
       "\n",
       "                                                                                                                                                  imgURL  \\\n",
       "0                                                   https://rukminim2.flixcart.com/image/312/312/xif0q/mobile/b/r/f/-original-imaghkvuhzwge3za.jpeg?q=70   \n",
       "1  https://rukminim2.flixcart.com/image/312/312/k01b8280pkrrdj/mobile-refurbished/8/w/n/f11-pro-128-d-cph1969-oppo-6-original-imafec8hzfzyg79e.jpeg?q=70   \n",
       "2                                                   https://rukminim2.flixcart.com/image/312/312/xif0q/mobile/m/e/y/-original-imagbgaqje2mygjm.jpeg?q=70   \n",
       "3                                                   https://rukminim2.flixcart.com/image/312/312/xif0q/mobile/x/t/k/-original-imag43fz8bd4hg3d.jpeg?q=70   \n",
       "4                  https://rukminim2.flixcart.com/image/312/312/ktketu80/mobile/a/i/l/iphone-13-mini-mlk93hn-a-apple-original-imag6vp6x67yypzk.jpeg?q=70   \n",
       "\n",
       "                                                                                                                                                                                                                                                                                                                                                                                                                                                                                                                                                                                                                                                                                                  corpus  \\\n",
       "0                                                                                                                                                                                                                                                                  Storage128 GBRAM6  SystemAndroid 12Processor TypeMediatek Dimensity 1080Processor Speed2.6 50MP 8MP 2MP 50MP 16MP 5G Capacity5000 Display Size16.94 cm (6.67 inch)Resolution2400 x 1080 PixelsResolution TypeFull HD+ AMOLED DisplayGPUARM Mali-G68 MC4Display TypeFull HD+ AMOLED DisplayOther Display FeaturesRefresh Rate: 120 Hz, Contrast: 5,000,000:1, 1920Hz PWM Dimming, Brightness Level: 16000:1, Peak Brightness: 900 nits   \n",
       "1  Storage128 GBRAM6 GBExpandable Storage256GB  SystemAndroid Pie 9.0Processor TypeMediaTek Helio P70 Octa Core 2.1 GHzProcessor Speed2.1 48MP 5MP 48MP 5MP 48MP 5MP 48MP 5MP 48MP 5MP 16MP 3G Capacity4000 Display Size16.51 cm (6.5 inch)Resolution2340 x 1080 pixelsResolution TypeFull HD+GPUARM Mali-G72 MP3 at 900 MHzDisplay Colors16MOther Display FeaturesScreen Texture: TFT-LTPS, In-cell Touch Panel Technology, Narrow Frame: 1.70mm (Size from AA to Outside Edge of Glass), Screen Ratio: 90.90%, Screen Contrast: 1500:1 (Typical), Color Saturation: NTSC 81.5% (Typical), Maximum Brightness: 480 nits (Typical), Touch Screen Supplier: DSBJ, TM, Touch Panel Glass Type: Dragontrail   \n",
       "2                                                                                                                                                                                                                                                                                                                                                                                                                                                                                                                                                                  Storage64 GBRAM4  SystemAndroid 11Processor Speed2.4 50MP 4G Capacity5000 Display Size16.33 cm (6.43 inch)Resolution2400 x 1080 pixel   \n",
       "3                                                                                                                                                                                                                                                                                                                                                                                                                                                               Storage256 GBRAM12  SystemAndroid Q 11Processor TypeQualcomm Snapdragon Octa Core 750G 5G ProcessorProcessor Speed2.4 64MP 5G Capacity4500 Display Size16.33 cm (6.43 inch)Resolution2400 x 1080$$pixelsDisplay TypeFluid Amoled Display   \n",
       "4                                                                             Storage128  SystemiOS 15Processor TypeA15 Bionic Chip 12MP 12MP 12MP 63MP 12MP 12MP 5G notMentioned Display Size13.72 cm (5.4 inch)Resolution2340 x 1080 PixelsResolution TypeSuper Retina XDR DisplayDisplay TypeSuper Retina XDR DisplayOther Display FeaturesSuper Retina XDR Display, 5.4‑inch (Diagonal) All‑screen OLED Display, HDR Display, True Tone, Wide Colour (P3), Haptic Touch, 20,00,000:1 Contrast Ratio (Typical), 800 nits max Brightness (Typical), 1,200 nits max Brightness (HDR), Fingerprint-resistant Oleophobic Coating, Support for Display of Multiple Languages and Characters Simultaneously   \n",
       "\n",
       "   Storage   RAM       OS Processor    Brand  \n",
       "0    128.0   6.0  Android  MediaTek    REDMI  \n",
       "1    128.0   6.0  Android  MediaTek     OPPO  \n",
       "2     64.0   4.0  Android     Other    REDMI  \n",
       "3    256.0  12.0  Android  Qualcomm  OnePlus  \n",
       "4    128.0   NaN      iOS     Other    APPLE  "
      ]
     },
     "execution_count": 392,
     "metadata": {},
     "output_type": "execute_result"
    }
   ],
   "source": [
    "def remove_dollar(price):\n",
    "    price2 = re.sub(r'\\D', '', str(price))\n",
    "    try:\n",
    "        return int(price2)\n",
    "    except ValueError:\n",
    "        return None\n",
    "\n",
    "data['price'] = data['price'].apply(remove_dollar)\n",
    "\n",
    "# Check the first few rows of the DataFrame\n",
    "data.head()"
   ]
  },
  {
   "cell_type": "code",
   "execution_count": null,
   "id": "a447c698",
   "metadata": {},
   "outputs": [],
   "source": [
    "\n"
   ]
  },
  {
   "cell_type": "code",
   "execution_count": null,
   "id": "fe4e7916",
   "metadata": {},
   "outputs": [],
   "source": []
  },
  {
   "cell_type": "code",
   "execution_count": 393,
   "id": "d5c6003d",
   "metadata": {},
   "outputs": [
    {
     "data": {
      "text/plain": [
       "array(['Xiaomi', 'OPPO', 'OnePlus', 'Apple', 'Infinix', 'Samsung', 'Vivo',\n",
       "       'Motorola', 'Other'], dtype=object)"
      ]
     },
     "execution_count": 393,
     "metadata": {},
     "output_type": "execute_result"
    }
   ],
   "source": [
    "def normalize_brand(brand):\n",
    "    if pd.isnull(brand):\n",
    "        return None\n",
    "    if 'xiaomi' in brand.lower():\n",
    "        return 'Xiaomi'\n",
    "    if 'redmi' in brand.lower():\n",
    "        return 'Xiaomi'\n",
    "    if 'mi' in brand.lower():\n",
    "        return 'Xiaomi'\n",
    "    if 'oppo' in brand.lower():\n",
    "        return 'OPPO'\n",
    "    if 'oneplus' in brand.lower():\n",
    "        return 'OnePlus'\n",
    "    if 'apple' in brand.lower():\n",
    "        return 'Apple'\n",
    "    if 'samsung' in brand.lower():\n",
    "        return 'Samsung'\n",
    "    if 'vivo' in brand.lower():\n",
    "        return 'Vivo'\n",
    "    if 'moto' in brand.lower():\n",
    "        return 'Motorola'\n",
    "    if 'motorola' in brand.lower():\n",
    "        return 'Motorola'\n",
    "    if 'infinix' in brand.lower():\n",
    "        return 'Infinix'\n",
    "    return 'Other'\n",
    "\n",
    "\n",
    "data['Brand'] = data['Brand'].apply(normalize_brand)\n",
    "\n",
    "all_brand = data['Brand'].unique()\n",
    "all_brand"
   ]
  },
  {
   "cell_type": "code",
   "execution_count": 394,
   "id": "a31df8e4",
   "metadata": {},
   "outputs": [
    {
     "data": {
      "image/png": "[encoded data removed]",
      "text/plain": [
       "<Figure size 1000x500 with 1 Axes>"
      ]
     },
     "metadata": {},
     "output_type": "display_data"
    }
   ],
   "source": [
    "# Brand vs price visualization\n",
    "avg = data.groupby('Brand')['price'].mean()\n",
    "avg = avg.sort_values(ascending=False)\n",
    "# plt.figure(figsize=(10, 6))\n",
    "avg.plot(kind = 'barh', rot=0, figsize=(10, 5), color=['#1f77b4', '#d9534f', '#5cb85c'])\n",
    "plt.title('Average Price of different Brands')\n",
    "plt.xlabel('Average Price')\n",
    "plt.ylabel('Operating System')\n",
    "plt.show()"
   ]
  },
  {
   "cell_type": "code",
   "execution_count": null,
   "id": "99c64431",
   "metadata": {},
   "outputs": [],
   "source": []
  },
  {
   "cell_type": "markdown",
   "id": "8e5041db",
   "metadata": {},
   "source": [
    "### Data Mining"
   ]
  },
  {
   "cell_type": "code",
   "execution_count": 397,
   "id": "6170c2e2",
   "metadata": {
    "scrolled": false
   },
   "outputs": [],
   "source": [
    "# to find the list of all suitable mobile phones\n",
    "def find_mobiles(brand, storage, min_price, max_price):\n",
    "#     print('start2', brand, os, min_price, max_price)\n",
    "    filtered_list = data[(data['Brand'] == brand) & (data['Storage'] == storage) & \n",
    "    (data['price'] >= min_price) & (data['price'] <= max_price)]\n",
    "    return filtered_list.sort_values(by='ratings', ascending=False).head(10)\n",
    "\n",
    "\n",
    "list = find_mobiles(brand='Samsung', storage=128.0, min_price=6000, max_price=55000)\n",
    "# list = find_mobiles(brand='Samsung', ram=8.0, storage=128.0, min_price=6000, max_price=55000)\n",
    "# list"
   ]
  },
  {
   "cell_type": "code",
   "execution_count": 398,
   "id": "29296232",
   "metadata": {
    "scrolled": true
   },
   "outputs": [
    {
     "data": {
      "application/vnd.jupyter.widget-view+json": {
       "model_id": "66e9403dd014448f89dbd05ee9cb4102",
       "version_major": 2,
       "version_minor": 0
      },
      "text/plain": [
       "interactive(children=(Dropdown(description='Brand', options=('Samsung', 'Apple', 'Xiaomi', 'Motorola', 'Vivo',…"
      ]
     },
     "metadata": {},
     "output_type": "display_data"
    },
    {
     "data": {
      "application/vnd.jupyter.widget-view+json": {
       "model_id": "8ef51dde9dc44967838db50101fad3b2",
       "version_major": 2,
       "version_minor": 0
      },
      "text/plain": [
       "interactive(children=(Dropdown(description='Storage', options=(2.0, 4.0, 6.0, 8.0, 16.0, 32.0, 64.0, 128.0, 25…"
      ]
     },
     "metadata": {},
     "output_type": "display_data"
    },
    {
     "data": {
      "application/vnd.jupyter.widget-view+json": {
       "model_id": "ee5fdfd0ed8f4e58985048576eaa5075",
       "version_major": 2,
       "version_minor": 0
      },
      "text/plain": [
       "interactive(children=(IntSlider(value=6000, description='min_price', max=10000, min=2000), Output()), _dom_cla…"
      ]
     },
     "metadata": {},
     "output_type": "display_data"
    },
    {
     "data": {
      "application/vnd.jupyter.widget-view+json": {
       "model_id": "77c007b52ef44208a59ea52d41ecd8a4",
       "version_major": 2,
       "version_minor": 0
      },
      "text/plain": [
       "interactive(children=(IntSlider(value=55000, description='max_price', max=100000, min=10000), Output()), _dom_…"
      ]
     },
     "metadata": {},
     "output_type": "display_data"
    },
    {
     "data": {
      "application/vnd.jupyter.widget-view+json": {
       "model_id": "72464545893a46f1bd47e6d848f554c9",
       "version_major": 2,
       "version_minor": 0
      },
      "text/plain": [
       "Button(description='Recommend', style=ButtonStyle())"
      ]
     },
     "metadata": {},
     "output_type": "display_data"
    },
    {
     "data": {
      "application/vnd.jupyter.widget-view+json": {
       "model_id": "6339267b75f245809c0b16fb5b561187",
       "version_major": 2,
       "version_minor": 0
      },
      "text/plain": [
       "Output()"
      ]
     },
     "metadata": {},
     "output_type": "display_data"
    }
   ],
   "source": [
    "from ipywidgets import interact\n",
    "from IPython.display import clear_output\n",
    "def update_list():\n",
    "    global list\n",
    "    list = find_mobiles(brand=brand2, storage=storage2,  min_price=min_p, max_price=max_p)\n",
    "#     list\n",
    "#     print('hey')\n",
    "\n",
    "brand2=\"\"\n",
    "ram2=\"\"\n",
    "storage2=\"\"\n",
    "min_p=0\n",
    "max_p=0\n",
    "def func_brand(Brand):\n",
    "    global brand2\n",
    "    brand2=Brand\n",
    "#     print(brand2)\n",
    "    update_list()\n",
    "    \n",
    "def func_storage(Storage):\n",
    "    global storage2\n",
    "    storage2=Storage\n",
    "    update_list()\n",
    "#     print(os)\n",
    "\n",
    "\n",
    "def func_min_price(min_price):\n",
    "    global min_p\n",
    "    min_p=min_price\n",
    "    update_list()\n",
    "#     print(min_p)\n",
    "\n",
    "def func_max_price(max_price):\n",
    "    global max_p\n",
    "    max_p=max_price\n",
    "    update_list()\n",
    "#     print(max_p)\n",
    "\n",
    "a  = interact(func_brand, Brand=['Samsung', 'Apple', 'Xiaomi', 'Motorola', 'Vivo', 'OPPO', 'Infinix', 'OnePlus' 'Others'])\n",
    "e  = interact(func_storage, Storage=[2.0, 4.0, 6.0, 8.0, 16.0, 32.0, 64.0, 128.0, 256.0, 512.0, 1024.0])\n",
    "# b  = interact(func_ram, Ram=[1.0, 2.0, 3.0, 4.0, 6.0, 8.0, 10.0, 12.0, 14.0, 16.0, 32.0, 64.0])\n",
    "c = interact(func_min_price, min_price=(2000,10000));\n",
    "d = interact(func_max_price, max_price=(10000,100000));\n",
    "update_list()\n",
    "\n",
    "import ipywidgets as widgets\n",
    "\n",
    "\n",
    "button = widgets.Button(description=\"Recommend\")\n",
    "output = widgets.Output()\n",
    "\n",
    "display(button, output)\n",
    "\n",
    "@output.capture()\n",
    "def on_button_clicked(b):\n",
    "    global list\n",
    "    clear_output(wait=True)\n",
    "    print('Top 10 recommendations:- ')\n",
    "    i=1\n",
    "    for ind in list.index:\n",
    "        print(f\"{i}. {list['name'][ind]} at ₹{list['price'][ind]} - ({list['ratings'][ind]})\")\n",
    "        i=i+1\n",
    "    b.icon=\"warning\"\n",
    "\n",
    "button.on_click(on_button_clicked)"
   ]
  },
  {
   "cell_type": "code",
   "execution_count": null,
   "id": "9417f416",
   "metadata": {},
   "outputs": [],
   "source": []
  },
  {
   "cell_type": "code",
   "execution_count": null,
   "id": "56cf8fc6",
   "metadata": {},
   "outputs": [],
   "source": []
  },
  {
   "cell_type": "code",
   "execution_count": null,
   "id": "de540f77",
   "metadata": {},
   "outputs": [],
   "source": []
  }
 ],
 "metadata": {
  "kernelspec": {
   "display_name": "Python 3 (ipykernel)",
   "language": "python",
   "name": "python3"
  },
  "language_info": {
   "codemirror_mode": {
    "name": "ipython",
    "version": 3
   },
   "file_extension": ".py",
   "mimetype": "text/x-python",
   "name": "python",
   "nbconvert_exporter": "python",
   "pygments_lexer": "ipython3",
   "version": "3.11.5"
  }
 },
 "nbformat": 4,
 "nbformat_minor": 5
}

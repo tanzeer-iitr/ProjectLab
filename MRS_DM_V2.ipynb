{
 "cells": [
  {
   "cell_type": "markdown",
   "id": "0cf8576b",
   "metadata": {},
   "source": [
    "### Importing Libraries"
   ]
  },
  {
   "cell_type": "code",
   "execution_count": 419,
   "id": "43cef88d",
   "metadata": {},
   "outputs": [],
   "source": [
    "import pandas as pd\n",
    "import numpy as np\n",
    "import matplotlib.pyplot as plt\n",
    "import re"
   ]
  },
  {
   "cell_type": "code",
   "execution_count": 729,
   "id": "5d57bb1e",
   "metadata": {},
   "outputs": [],
   "source": [
    "import warnings\n",
    "warnings.filterwarnings('ignore')"
   ]
  },
  {
   "cell_type": "markdown",
   "id": "df7970df",
   "metadata": {},
   "source": [
    "### Exploring dataset"
   ]
  },
  {
   "cell_type": "code",
   "execution_count": 421,
   "id": "87ed624d",
   "metadata": {
    "scrolled": true
   },
   "outputs": [
    {
     "data": {
      "text/html": [
       "<div>\n",
       "<style scoped>\n",
       "    .dataframe tbody tr th:only-of-type {\n",
       "        vertical-align: middle;\n",
       "    }\n",
       "\n",
       "    .dataframe tbody tr th {\n",
       "        vertical-align: top;\n",
       "    }\n",
       "\n",
       "    .dataframe thead th {\n",
       "        text-align: right;\n",
       "    }\n",
       "</style>\n",
       "<table border=\"1\" class=\"dataframe\">\n",
       "  <thead>\n",
       "    <tr style=\"text-align: right;\">\n",
       "      <th></th>\n",
       "      <th>name</th>\n",
       "      <th>ratings</th>\n",
       "      <th>price</th>\n",
       "      <th>imgURL</th>\n",
       "      <th>corpus</th>\n",
       "    </tr>\n",
       "  </thead>\n",
       "  <tbody>\n",
       "    <tr>\n",
       "      <th>0</th>\n",
       "      <td>REDMI Note 12 Pro 5G (Onyx Black, 128 GB)</td>\n",
       "      <td>4.2</td>\n",
       "      <td>23999</td>\n",
       "      <td>https://rukminim2.flixcart.com/image/312/312/x...</td>\n",
       "      <td>Storage128 GBRAM6  SystemAndroid 12Processor T...</td>\n",
       "    </tr>\n",
       "    <tr>\n",
       "      <th>1</th>\n",
       "      <td>OPPO F11 Pro (Aurora Green, 128 GB)</td>\n",
       "      <td>4.5</td>\n",
       "      <td>₹20,999</td>\n",
       "      <td>https://rukminim2.flixcart.com/image/312/312/k...</td>\n",
       "      <td>Storage128 GBRAM6 GBExpandable Storage256GB  S...</td>\n",
       "    </tr>\n",
       "    <tr>\n",
       "      <th>2</th>\n",
       "      <td>REDMI Note 11 (Starburst White, 64 GB)</td>\n",
       "      <td>4.2</td>\n",
       "      <td>13149</td>\n",
       "      <td>https://rukminim2.flixcart.com/image/312/312/x...</td>\n",
       "      <td>Storage64 GBRAM4  SystemAndroid 11Processor Sp...</td>\n",
       "    </tr>\n",
       "    <tr>\n",
       "      <th>3</th>\n",
       "      <td>OnePlus Nord CE 5G (Blue Void, 256 GB)</td>\n",
       "      <td>4.1</td>\n",
       "      <td>21999</td>\n",
       "      <td>https://rukminim2.flixcart.com/image/312/312/x...</td>\n",
       "      <td>Storage256 GBRAM12  SystemAndroid Q 11Processo...</td>\n",
       "    </tr>\n",
       "    <tr>\n",
       "      <th>4</th>\n",
       "      <td>APPLE iPhone 13 mini (Blue, 128 GB)</td>\n",
       "      <td>4.6</td>\n",
       "      <td>3537</td>\n",
       "      <td>https://rukminim2.flixcart.com/image/312/312/k...</td>\n",
       "      <td>Storage128  SystemiOS 15Processor TypeA15 Bion...</td>\n",
       "    </tr>\n",
       "  </tbody>\n",
       "</table>\n",
       "</div>"
      ],
      "text/plain": [
       "                                        name  ratings    price  \\\n",
       "0  REDMI Note 12 Pro 5G (Onyx Black, 128 GB)      4.2    23999   \n",
       "1        OPPO F11 Pro (Aurora Green, 128 GB)      4.5  ₹20,999   \n",
       "2     REDMI Note 11 (Starburst White, 64 GB)      4.2    13149   \n",
       "3     OnePlus Nord CE 5G (Blue Void, 256 GB)      4.1    21999   \n",
       "4        APPLE iPhone 13 mini (Blue, 128 GB)      4.6     3537   \n",
       "\n",
       "                                              imgURL  \\\n",
       "0  https://rukminim2.flixcart.com/image/312/312/x...   \n",
       "1  https://rukminim2.flixcart.com/image/312/312/k...   \n",
       "2  https://rukminim2.flixcart.com/image/312/312/x...   \n",
       "3  https://rukminim2.flixcart.com/image/312/312/x...   \n",
       "4  https://rukminim2.flixcart.com/image/312/312/k...   \n",
       "\n",
       "                                              corpus  \n",
       "0  Storage128 GBRAM6  SystemAndroid 12Processor T...  \n",
       "1  Storage128 GBRAM6 GBExpandable Storage256GB  S...  \n",
       "2  Storage64 GBRAM4  SystemAndroid 11Processor Sp...  \n",
       "3  Storage256 GBRAM12  SystemAndroid Q 11Processo...  \n",
       "4  Storage128  SystemiOS 15Processor TypeA15 Bion...  "
      ]
     },
     "execution_count": 421,
     "metadata": {},
     "output_type": "execute_result"
    }
   ],
   "source": [
    "data = pd.read_csv('dataset.csv')\n",
    "data.head()"
   ]
  },
  {
   "cell_type": "markdown",
   "id": "39598a43",
   "metadata": {},
   "source": [
    "### (Preprocessing) Data Cleaning - removing missing value tuples"
   ]
  },
  {
   "cell_type": "code",
   "execution_count": 422,
   "id": "1a19bd61",
   "metadata": {},
   "outputs": [
    {
     "data": {
      "text/plain": [
       "((2546, 5),\n",
       " name        0\n",
       " ratings     0\n",
       " price       0\n",
       " imgURL      0\n",
       " corpus     12\n",
       " dtype: int64)"
      ]
     },
     "execution_count": 422,
     "metadata": {},
     "output_type": "execute_result"
    }
   ],
   "source": [
    "# before cleaning\n",
    "data_size = data.shape\n",
    "missing_values = data.isnull().sum()\n",
    "data_size, missing_values"
   ]
  },
  {
   "cell_type": "code",
   "execution_count": 423,
   "id": "f6920147",
   "metadata": {},
   "outputs": [
    {
     "data": {
      "text/plain": [
       "((2534, 5),\n",
       " name       0\n",
       " ratings    0\n",
       " price      0\n",
       " imgURL     0\n",
       " corpus     0\n",
       " dtype: int64)"
      ]
     },
     "execution_count": 423,
     "metadata": {},
     "output_type": "execute_result"
    }
   ],
   "source": [
    "data = data.dropna()\n",
    "\n",
    "# after cleaning\n",
    "data_size = data.shape\n",
    "missing_values = data.isnull().sum()\n",
    "data_size, missing_values"
   ]
  },
  {
   "cell_type": "markdown",
   "id": "187ad458",
   "metadata": {},
   "source": [
    "### (Preprocessing) Data Cleaning - removing rupee symbol from price"
   ]
  },
  {
   "cell_type": "code",
   "execution_count": 424,
   "id": "21514467",
   "metadata": {},
   "outputs": [
    {
     "data": {
      "text/html": [
       "<div>\n",
       "<style scoped>\n",
       "    .dataframe tbody tr th:only-of-type {\n",
       "        vertical-align: middle;\n",
       "    }\n",
       "\n",
       "    .dataframe tbody tr th {\n",
       "        vertical-align: top;\n",
       "    }\n",
       "\n",
       "    .dataframe thead th {\n",
       "        text-align: right;\n",
       "    }\n",
       "</style>\n",
       "<table border=\"1\" class=\"dataframe\">\n",
       "  <thead>\n",
       "    <tr style=\"text-align: right;\">\n",
       "      <th></th>\n",
       "      <th>name</th>\n",
       "      <th>ratings</th>\n",
       "      <th>price</th>\n",
       "      <th>imgURL</th>\n",
       "      <th>corpus</th>\n",
       "    </tr>\n",
       "  </thead>\n",
       "  <tbody>\n",
       "    <tr>\n",
       "      <th>0</th>\n",
       "      <td>REDMI Note 12 Pro 5G (Onyx Black, 128 GB)</td>\n",
       "      <td>4.2</td>\n",
       "      <td>23999</td>\n",
       "      <td>https://rukminim2.flixcart.com/image/312/312/x...</td>\n",
       "      <td>Storage128 GBRAM6  SystemAndroid 12Processor T...</td>\n",
       "    </tr>\n",
       "    <tr>\n",
       "      <th>1</th>\n",
       "      <td>OPPO F11 Pro (Aurora Green, 128 GB)</td>\n",
       "      <td>4.5</td>\n",
       "      <td>20999</td>\n",
       "      <td>https://rukminim2.flixcart.com/image/312/312/k...</td>\n",
       "      <td>Storage128 GBRAM6 GBExpandable Storage256GB  S...</td>\n",
       "    </tr>\n",
       "    <tr>\n",
       "      <th>2</th>\n",
       "      <td>REDMI Note 11 (Starburst White, 64 GB)</td>\n",
       "      <td>4.2</td>\n",
       "      <td>13149</td>\n",
       "      <td>https://rukminim2.flixcart.com/image/312/312/x...</td>\n",
       "      <td>Storage64 GBRAM4  SystemAndroid 11Processor Sp...</td>\n",
       "    </tr>\n",
       "    <tr>\n",
       "      <th>3</th>\n",
       "      <td>OnePlus Nord CE 5G (Blue Void, 256 GB)</td>\n",
       "      <td>4.1</td>\n",
       "      <td>21999</td>\n",
       "      <td>https://rukminim2.flixcart.com/image/312/312/x...</td>\n",
       "      <td>Storage256 GBRAM12  SystemAndroid Q 11Processo...</td>\n",
       "    </tr>\n",
       "    <tr>\n",
       "      <th>4</th>\n",
       "      <td>APPLE iPhone 13 mini (Blue, 128 GB)</td>\n",
       "      <td>4.6</td>\n",
       "      <td>3537</td>\n",
       "      <td>https://rukminim2.flixcart.com/image/312/312/k...</td>\n",
       "      <td>Storage128  SystemiOS 15Processor TypeA15 Bion...</td>\n",
       "    </tr>\n",
       "  </tbody>\n",
       "</table>\n",
       "</div>"
      ],
      "text/plain": [
       "                                        name  ratings  price  \\\n",
       "0  REDMI Note 12 Pro 5G (Onyx Black, 128 GB)      4.2  23999   \n",
       "1        OPPO F11 Pro (Aurora Green, 128 GB)      4.5  20999   \n",
       "2     REDMI Note 11 (Starburst White, 64 GB)      4.2  13149   \n",
       "3     OnePlus Nord CE 5G (Blue Void, 256 GB)      4.1  21999   \n",
       "4        APPLE iPhone 13 mini (Blue, 128 GB)      4.6   3537   \n",
       "\n",
       "                                              imgURL  \\\n",
       "0  https://rukminim2.flixcart.com/image/312/312/x...   \n",
       "1  https://rukminim2.flixcart.com/image/312/312/k...   \n",
       "2  https://rukminim2.flixcart.com/image/312/312/x...   \n",
       "3  https://rukminim2.flixcart.com/image/312/312/x...   \n",
       "4  https://rukminim2.flixcart.com/image/312/312/k...   \n",
       "\n",
       "                                              corpus  \n",
       "0  Storage128 GBRAM6  SystemAndroid 12Processor T...  \n",
       "1  Storage128 GBRAM6 GBExpandable Storage256GB  S...  \n",
       "2  Storage64 GBRAM4  SystemAndroid 11Processor Sp...  \n",
       "3  Storage256 GBRAM12  SystemAndroid Q 11Processo...  \n",
       "4  Storage128  SystemiOS 15Processor TypeA15 Bion...  "
      ]
     },
     "execution_count": 424,
     "metadata": {},
     "output_type": "execute_result"
    }
   ],
   "source": [
    "def clean_price(price):\n",
    "    price2 = re.sub(r'\\D', '', str(price))\n",
    "    try:\n",
    "        return int(price2)\n",
    "    except ValueError:\n",
    "        return None\n",
    "\n",
    "data['price'] = data['price'].apply(clean_price)\n",
    "\n",
    "data.head()"
   ]
  },
  {
   "cell_type": "markdown",
   "id": "b7888f11",
   "metadata": {},
   "source": [
    "### Feature Extraction - Operating System"
   ]
  },
  {
   "cell_type": "code",
   "execution_count": 425,
   "id": "8f45d96b",
   "metadata": {},
   "outputs": [
    {
     "data": {
      "text/html": [
       "<div>\n",
       "<style scoped>\n",
       "    .dataframe tbody tr th:only-of-type {\n",
       "        vertical-align: middle;\n",
       "    }\n",
       "\n",
       "    .dataframe tbody tr th {\n",
       "        vertical-align: top;\n",
       "    }\n",
       "\n",
       "    .dataframe thead th {\n",
       "        text-align: right;\n",
       "    }\n",
       "</style>\n",
       "<table border=\"1\" class=\"dataframe\">\n",
       "  <thead>\n",
       "    <tr style=\"text-align: right;\">\n",
       "      <th></th>\n",
       "      <th>name</th>\n",
       "      <th>ratings</th>\n",
       "      <th>price</th>\n",
       "      <th>imgURL</th>\n",
       "      <th>corpus</th>\n",
       "      <th>OS</th>\n",
       "    </tr>\n",
       "  </thead>\n",
       "  <tbody>\n",
       "    <tr>\n",
       "      <th>0</th>\n",
       "      <td>REDMI Note 12 Pro 5G (Onyx Black, 128 GB)</td>\n",
       "      <td>4.2</td>\n",
       "      <td>23999</td>\n",
       "      <td>https://rukminim2.flixcart.com/image/312/312/x...</td>\n",
       "      <td>Storage128 GBRAM6  SystemAndroid 12Processor T...</td>\n",
       "      <td>Android 12</td>\n",
       "    </tr>\n",
       "    <tr>\n",
       "      <th>1</th>\n",
       "      <td>OPPO F11 Pro (Aurora Green, 128 GB)</td>\n",
       "      <td>4.5</td>\n",
       "      <td>20999</td>\n",
       "      <td>https://rukminim2.flixcart.com/image/312/312/k...</td>\n",
       "      <td>Storage128 GBRAM6 GBExpandable Storage256GB  S...</td>\n",
       "      <td>Android Pie 9.0</td>\n",
       "    </tr>\n",
       "    <tr>\n",
       "      <th>2</th>\n",
       "      <td>REDMI Note 11 (Starburst White, 64 GB)</td>\n",
       "      <td>4.2</td>\n",
       "      <td>13149</td>\n",
       "      <td>https://rukminim2.flixcart.com/image/312/312/x...</td>\n",
       "      <td>Storage64 GBRAM4  SystemAndroid 11Processor Sp...</td>\n",
       "      <td>Android 11</td>\n",
       "    </tr>\n",
       "    <tr>\n",
       "      <th>3</th>\n",
       "      <td>OnePlus Nord CE 5G (Blue Void, 256 GB)</td>\n",
       "      <td>4.1</td>\n",
       "      <td>21999</td>\n",
       "      <td>https://rukminim2.flixcart.com/image/312/312/x...</td>\n",
       "      <td>Storage256 GBRAM12  SystemAndroid Q 11Processo...</td>\n",
       "      <td>Android Q 11</td>\n",
       "    </tr>\n",
       "    <tr>\n",
       "      <th>4</th>\n",
       "      <td>APPLE iPhone 13 mini (Blue, 128 GB)</td>\n",
       "      <td>4.6</td>\n",
       "      <td>3537</td>\n",
       "      <td>https://rukminim2.flixcart.com/image/312/312/k...</td>\n",
       "      <td>Storage128  SystemiOS 15Processor TypeA15 Bion...</td>\n",
       "      <td>iOS 15</td>\n",
       "    </tr>\n",
       "  </tbody>\n",
       "</table>\n",
       "</div>"
      ],
      "text/plain": [
       "                                        name  ratings  price  \\\n",
       "0  REDMI Note 12 Pro 5G (Onyx Black, 128 GB)      4.2  23999   \n",
       "1        OPPO F11 Pro (Aurora Green, 128 GB)      4.5  20999   \n",
       "2     REDMI Note 11 (Starburst White, 64 GB)      4.2  13149   \n",
       "3     OnePlus Nord CE 5G (Blue Void, 256 GB)      4.1  21999   \n",
       "4        APPLE iPhone 13 mini (Blue, 128 GB)      4.6   3537   \n",
       "\n",
       "                                              imgURL  \\\n",
       "0  https://rukminim2.flixcart.com/image/312/312/x...   \n",
       "1  https://rukminim2.flixcart.com/image/312/312/k...   \n",
       "2  https://rukminim2.flixcart.com/image/312/312/x...   \n",
       "3  https://rukminim2.flixcart.com/image/312/312/x...   \n",
       "4  https://rukminim2.flixcart.com/image/312/312/k...   \n",
       "\n",
       "                                              corpus               OS  \n",
       "0  Storage128 GBRAM6  SystemAndroid 12Processor T...       Android 12  \n",
       "1  Storage128 GBRAM6 GBExpandable Storage256GB  S...  Android Pie 9.0  \n",
       "2  Storage64 GBRAM4  SystemAndroid 11Processor Sp...       Android 11  \n",
       "3  Storage256 GBRAM12  SystemAndroid Q 11Processo...     Android Q 11  \n",
       "4  Storage128  SystemiOS 15Processor TypeA15 Bion...           iOS 15  "
      ]
     },
     "execution_count": 425,
     "metadata": {},
     "output_type": "execute_result"
    }
   ],
   "source": [
    "# to extract operating system name from corpus\n",
    "def extract_os(corpus):\n",
    "    os = re.search(r'System(.*?)Processor', corpus)\n",
    "    if os:\n",
    "        return os.group(1).strip()\n",
    "    else:\n",
    "        os = re.search(r'System(.*?)Frequency', corpus)\n",
    "    if os:\n",
    "        return os.group(1).strip()\n",
    "    else:\n",
    "        os = re.search(r'System(.*?)Primary', corpus)\n",
    "    if os:\n",
    "        return os.group(1).strip()\n",
    "    else:\n",
    "        os = re.search(r'System(.*?)Oxygen', corpus)\n",
    "    if os:\n",
    "        return os.group(1).strip()\n",
    "    return None\n",
    "\n",
    "data_os = data.copy()\n",
    "\n",
    "data_os['OS'] = data_os['corpus'].apply(extract_os)\n",
    "\n",
    "data_os.head()"
   ]
  },
  {
   "cell_type": "markdown",
   "id": "8513f6fd",
   "metadata": {},
   "source": [
    "### Categorization of operating systems"
   ]
  },
  {
   "cell_type": "code",
   "execution_count": 426,
   "id": "55c0f6ac",
   "metadata": {},
   "outputs": [
    {
     "data": {
      "text/html": [
       "<div>\n",
       "<style scoped>\n",
       "    .dataframe tbody tr th:only-of-type {\n",
       "        vertical-align: middle;\n",
       "    }\n",
       "\n",
       "    .dataframe tbody tr th {\n",
       "        vertical-align: top;\n",
       "    }\n",
       "\n",
       "    .dataframe thead th {\n",
       "        text-align: right;\n",
       "    }\n",
       "</style>\n",
       "<table border=\"1\" class=\"dataframe\">\n",
       "  <thead>\n",
       "    <tr style=\"text-align: right;\">\n",
       "      <th></th>\n",
       "      <th>name</th>\n",
       "      <th>ratings</th>\n",
       "      <th>price</th>\n",
       "      <th>imgURL</th>\n",
       "      <th>corpus</th>\n",
       "      <th>OS</th>\n",
       "    </tr>\n",
       "  </thead>\n",
       "  <tbody>\n",
       "    <tr>\n",
       "      <th>0</th>\n",
       "      <td>REDMI Note 12 Pro 5G (Onyx Black, 128 GB)</td>\n",
       "      <td>4.2</td>\n",
       "      <td>23999</td>\n",
       "      <td>https://rukminim2.flixcart.com/image/312/312/x...</td>\n",
       "      <td>Storage128 GBRAM6  SystemAndroid 12Processor T...</td>\n",
       "      <td>Android</td>\n",
       "    </tr>\n",
       "    <tr>\n",
       "      <th>1</th>\n",
       "      <td>OPPO F11 Pro (Aurora Green, 128 GB)</td>\n",
       "      <td>4.5</td>\n",
       "      <td>20999</td>\n",
       "      <td>https://rukminim2.flixcart.com/image/312/312/k...</td>\n",
       "      <td>Storage128 GBRAM6 GBExpandable Storage256GB  S...</td>\n",
       "      <td>Android</td>\n",
       "    </tr>\n",
       "    <tr>\n",
       "      <th>2</th>\n",
       "      <td>REDMI Note 11 (Starburst White, 64 GB)</td>\n",
       "      <td>4.2</td>\n",
       "      <td>13149</td>\n",
       "      <td>https://rukminim2.flixcart.com/image/312/312/x...</td>\n",
       "      <td>Storage64 GBRAM4  SystemAndroid 11Processor Sp...</td>\n",
       "      <td>Android</td>\n",
       "    </tr>\n",
       "    <tr>\n",
       "      <th>3</th>\n",
       "      <td>OnePlus Nord CE 5G (Blue Void, 256 GB)</td>\n",
       "      <td>4.1</td>\n",
       "      <td>21999</td>\n",
       "      <td>https://rukminim2.flixcart.com/image/312/312/x...</td>\n",
       "      <td>Storage256 GBRAM12  SystemAndroid Q 11Processo...</td>\n",
       "      <td>Android</td>\n",
       "    </tr>\n",
       "    <tr>\n",
       "      <th>4</th>\n",
       "      <td>APPLE iPhone 13 mini (Blue, 128 GB)</td>\n",
       "      <td>4.6</td>\n",
       "      <td>3537</td>\n",
       "      <td>https://rukminim2.flixcart.com/image/312/312/k...</td>\n",
       "      <td>Storage128  SystemiOS 15Processor TypeA15 Bion...</td>\n",
       "      <td>iOS</td>\n",
       "    </tr>\n",
       "  </tbody>\n",
       "</table>\n",
       "</div>"
      ],
      "text/plain": [
       "                                        name  ratings  price  \\\n",
       "0  REDMI Note 12 Pro 5G (Onyx Black, 128 GB)      4.2  23999   \n",
       "1        OPPO F11 Pro (Aurora Green, 128 GB)      4.5  20999   \n",
       "2     REDMI Note 11 (Starburst White, 64 GB)      4.2  13149   \n",
       "3     OnePlus Nord CE 5G (Blue Void, 256 GB)      4.1  21999   \n",
       "4        APPLE iPhone 13 mini (Blue, 128 GB)      4.6   3537   \n",
       "\n",
       "                                              imgURL  \\\n",
       "0  https://rukminim2.flixcart.com/image/312/312/x...   \n",
       "1  https://rukminim2.flixcart.com/image/312/312/k...   \n",
       "2  https://rukminim2.flixcart.com/image/312/312/x...   \n",
       "3  https://rukminim2.flixcart.com/image/312/312/x...   \n",
       "4  https://rukminim2.flixcart.com/image/312/312/k...   \n",
       "\n",
       "                                              corpus       OS  \n",
       "0  Storage128 GBRAM6  SystemAndroid 12Processor T...  Android  \n",
       "1  Storage128 GBRAM6 GBExpandable Storage256GB  S...  Android  \n",
       "2  Storage64 GBRAM4  SystemAndroid 11Processor Sp...  Android  \n",
       "3  Storage256 GBRAM12  SystemAndroid Q 11Processo...  Android  \n",
       "4  Storage128  SystemiOS 15Processor TypeA15 Bion...      iOS  "
      ]
     },
     "execution_count": 426,
     "metadata": {},
     "output_type": "execute_result"
    }
   ],
   "source": [
    "# to normalize operating system names\n",
    "def normalize_os(os):\n",
    "    if pd.isnull(os):\n",
    "        return None\n",
    "    if 'android' in os.lower():\n",
    "        return 'Android'\n",
    "    if 'ios' in os.lower():\n",
    "        return 'iOS'\n",
    "    if 'tizen' in os.lower():\n",
    "        return 'Tizen'\n",
    "    if 'series 30' in os.lower():\n",
    "        return 'Series 30'\n",
    "    return 'Other'\n",
    "\n",
    "\n",
    "data_os['OS'] = data_os['OS'].apply(normalize_os)\n",
    "\n",
    "data_os.head()\n",
    "\n"
   ]
  },
  {
   "cell_type": "code",
   "execution_count": 427,
   "id": "e37feafb",
   "metadata": {},
   "outputs": [
    {
     "name": "stdout",
     "output_type": "stream",
     "text": [
      "{'Android': 2136, 'iOS': 375, None: 7, 'Other': 11, 'Series 30': 4, 'Tizen': 1}\n",
      "2534\n"
     ]
    }
   ],
   "source": [
    "#frequency check of different os\n",
    "import collections\n",
    "\n",
    "frequency = collections.Counter(data_os['OS'].to_numpy())\n",
    "\n",
    "print(dict(frequency))\n",
    "print(len(data_os))"
   ]
  },
  {
   "cell_type": "code",
   "execution_count": 428,
   "id": "52ffe1e0",
   "metadata": {},
   "outputs": [
    {
     "data": {
      "text/plain": [
       "((2527, 6),\n",
       " name       0\n",
       " ratings    0\n",
       " price      0\n",
       " imgURL     0\n",
       " corpus     0\n",
       " OS         0\n",
       " dtype: int64)"
      ]
     },
     "execution_count": 428,
     "metadata": {},
     "output_type": "execute_result"
    }
   ],
   "source": [
    "# removing None records\n",
    "data_os = data_os.dropna()\n",
    "\n",
    "data_size = data_os.shape\n",
    "missing_values = data_os.isnull().sum()\n",
    "data_size, missing_values"
   ]
  },
  {
   "cell_type": "markdown",
   "id": "a657eac4",
   "metadata": {},
   "source": [
    "### Data Visualization of operating system"
   ]
  },
  {
   "cell_type": "code",
   "execution_count": 429,
   "id": "663cba9c",
   "metadata": {},
   "outputs": [
    {
     "data": {
      "image/png": "[encoded data removed]",
      "text/plain": [
       "<Figure size 1000x500 with 1 Axes>"
      ]
     },
     "metadata": {},
     "output_type": "display_data"
    }
   ],
   "source": [
    "# operating system visualization\n",
    "data_os['OS'].value_counts().plot(kind = 'barh', rot=0, figsize=(10, 5), color=['#1f77b4', '#d9534f', '#5cb85c'])\n",
    "plt.title('Distribution of Operating Systems')\n",
    "plt.xlabel('Number of mobile phones')\n",
    "plt.ylabel('Operating System')\n",
    "plt.show()"
   ]
  },
  {
   "cell_type": "markdown",
   "id": "b28b2719",
   "metadata": {},
   "source": [
    "### Feature Extraction - Brand Name"
   ]
  },
  {
   "cell_type": "code",
   "execution_count": 430,
   "id": "ffd46d3a",
   "metadata": {},
   "outputs": [
    {
     "data": {
      "text/html": [
       "<div>\n",
       "<style scoped>\n",
       "    .dataframe tbody tr th:only-of-type {\n",
       "        vertical-align: middle;\n",
       "    }\n",
       "\n",
       "    .dataframe tbody tr th {\n",
       "        vertical-align: top;\n",
       "    }\n",
       "\n",
       "    .dataframe thead th {\n",
       "        text-align: right;\n",
       "    }\n",
       "</style>\n",
       "<table border=\"1\" class=\"dataframe\">\n",
       "  <thead>\n",
       "    <tr style=\"text-align: right;\">\n",
       "      <th></th>\n",
       "      <th>name</th>\n",
       "      <th>ratings</th>\n",
       "      <th>price</th>\n",
       "      <th>imgURL</th>\n",
       "      <th>corpus</th>\n",
       "      <th>OS</th>\n",
       "      <th>Brand</th>\n",
       "    </tr>\n",
       "  </thead>\n",
       "  <tbody>\n",
       "    <tr>\n",
       "      <th>0</th>\n",
       "      <td>REDMI Note 12 Pro 5G (Onyx Black, 128 GB)</td>\n",
       "      <td>4.2</td>\n",
       "      <td>23999</td>\n",
       "      <td>https://rukminim2.flixcart.com/image/312/312/x...</td>\n",
       "      <td>Storage128 GBRAM6  SystemAndroid 12Processor T...</td>\n",
       "      <td>Android</td>\n",
       "      <td>REDMI</td>\n",
       "    </tr>\n",
       "    <tr>\n",
       "      <th>1</th>\n",
       "      <td>OPPO F11 Pro (Aurora Green, 128 GB)</td>\n",
       "      <td>4.5</td>\n",
       "      <td>20999</td>\n",
       "      <td>https://rukminim2.flixcart.com/image/312/312/k...</td>\n",
       "      <td>Storage128 GBRAM6 GBExpandable Storage256GB  S...</td>\n",
       "      <td>Android</td>\n",
       "      <td>OPPO</td>\n",
       "    </tr>\n",
       "    <tr>\n",
       "      <th>2</th>\n",
       "      <td>REDMI Note 11 (Starburst White, 64 GB)</td>\n",
       "      <td>4.2</td>\n",
       "      <td>13149</td>\n",
       "      <td>https://rukminim2.flixcart.com/image/312/312/x...</td>\n",
       "      <td>Storage64 GBRAM4  SystemAndroid 11Processor Sp...</td>\n",
       "      <td>Android</td>\n",
       "      <td>REDMI</td>\n",
       "    </tr>\n",
       "    <tr>\n",
       "      <th>3</th>\n",
       "      <td>OnePlus Nord CE 5G (Blue Void, 256 GB)</td>\n",
       "      <td>4.1</td>\n",
       "      <td>21999</td>\n",
       "      <td>https://rukminim2.flixcart.com/image/312/312/x...</td>\n",
       "      <td>Storage256 GBRAM12  SystemAndroid Q 11Processo...</td>\n",
       "      <td>Android</td>\n",
       "      <td>OnePlus</td>\n",
       "    </tr>\n",
       "    <tr>\n",
       "      <th>4</th>\n",
       "      <td>APPLE iPhone 13 mini (Blue, 128 GB)</td>\n",
       "      <td>4.6</td>\n",
       "      <td>3537</td>\n",
       "      <td>https://rukminim2.flixcart.com/image/312/312/k...</td>\n",
       "      <td>Storage128  SystemiOS 15Processor TypeA15 Bion...</td>\n",
       "      <td>iOS</td>\n",
       "      <td>APPLE</td>\n",
       "    </tr>\n",
       "  </tbody>\n",
       "</table>\n",
       "</div>"
      ],
      "text/plain": [
       "                                        name  ratings  price  \\\n",
       "0  REDMI Note 12 Pro 5G (Onyx Black, 128 GB)      4.2  23999   \n",
       "1        OPPO F11 Pro (Aurora Green, 128 GB)      4.5  20999   \n",
       "2     REDMI Note 11 (Starburst White, 64 GB)      4.2  13149   \n",
       "3     OnePlus Nord CE 5G (Blue Void, 256 GB)      4.1  21999   \n",
       "4        APPLE iPhone 13 mini (Blue, 128 GB)      4.6   3537   \n",
       "\n",
       "                                              imgURL  \\\n",
       "0  https://rukminim2.flixcart.com/image/312/312/x...   \n",
       "1  https://rukminim2.flixcart.com/image/312/312/k...   \n",
       "2  https://rukminim2.flixcart.com/image/312/312/x...   \n",
       "3  https://rukminim2.flixcart.com/image/312/312/x...   \n",
       "4  https://rukminim2.flixcart.com/image/312/312/k...   \n",
       "\n",
       "                                              corpus       OS    Brand  \n",
       "0  Storage128 GBRAM6  SystemAndroid 12Processor T...  Android    REDMI  \n",
       "1  Storage128 GBRAM6 GBExpandable Storage256GB  S...  Android     OPPO  \n",
       "2  Storage64 GBRAM4  SystemAndroid 11Processor Sp...  Android    REDMI  \n",
       "3  Storage256 GBRAM12  SystemAndroid Q 11Processo...  Android  OnePlus  \n",
       "4  Storage128  SystemiOS 15Processor TypeA15 Bion...      iOS    APPLE  "
      ]
     },
     "execution_count": 430,
     "metadata": {},
     "output_type": "execute_result"
    }
   ],
   "source": [
    "# to extract brand name from corpus\n",
    "def extract_brand(name):\n",
    "    return name.split()[0]\n",
    "\n",
    "data_brand = data_os.copy()\n",
    "data_brand['Brand'] = data_brand['name'].apply(extract_brand)\n",
    "\n",
    "data_brand.head()"
   ]
  },
  {
   "cell_type": "code",
   "execution_count": 431,
   "id": "98864b2f",
   "metadata": {},
   "outputs": [
    {
     "name": "stdout",
     "output_type": "stream",
     "text": [
      "{'REDMI': 187, 'OPPO': 246, 'OnePlus': 169, 'APPLE': 349, 'Infinix': 149, 'SAMSUNG': 460, 'vivo': 274, 'Moto': 13, 'realme': 186, 'Xiaomi': 40, 'Mi': 47, 'Redmi': 145, 'MOTOROLA': 82, 'Tecno': 139, '10T': 1, 'Apple': 26, 'Motorola': 1, 'MI3': 1, '13': 2, 'Peace': 2, '11': 1, 'MI': 1, 'Note': 1, '10A': 1, 'GREENBERRI': 1, 'A70': 1, 'A10E': 1, 'MI4': 1}\n",
      "2527\n"
     ]
    }
   ],
   "source": [
    "frequency = collections.Counter(data_brand['Brand'].to_numpy())\n",
    "\n",
    "print(dict(frequency))\n",
    "print(len(data_brand))"
   ]
  },
  {
   "cell_type": "markdown",
   "id": "9895de93",
   "metadata": {},
   "source": [
    "### Categorization of Brand name"
   ]
  },
  {
   "cell_type": "code",
   "execution_count": 432,
   "id": "2899337f",
   "metadata": {},
   "outputs": [
    {
     "data": {
      "text/html": [
       "<div>\n",
       "<style scoped>\n",
       "    .dataframe tbody tr th:only-of-type {\n",
       "        vertical-align: middle;\n",
       "    }\n",
       "\n",
       "    .dataframe tbody tr th {\n",
       "        vertical-align: top;\n",
       "    }\n",
       "\n",
       "    .dataframe thead th {\n",
       "        text-align: right;\n",
       "    }\n",
       "</style>\n",
       "<table border=\"1\" class=\"dataframe\">\n",
       "  <thead>\n",
       "    <tr style=\"text-align: right;\">\n",
       "      <th></th>\n",
       "      <th>name</th>\n",
       "      <th>ratings</th>\n",
       "      <th>price</th>\n",
       "      <th>imgURL</th>\n",
       "      <th>corpus</th>\n",
       "      <th>OS</th>\n",
       "      <th>Brand</th>\n",
       "    </tr>\n",
       "  </thead>\n",
       "  <tbody>\n",
       "    <tr>\n",
       "      <th>0</th>\n",
       "      <td>REDMI Note 12 Pro 5G (Onyx Black, 128 GB)</td>\n",
       "      <td>4.2</td>\n",
       "      <td>23999</td>\n",
       "      <td>https://rukminim2.flixcart.com/image/312/312/x...</td>\n",
       "      <td>Storage128 GBRAM6  SystemAndroid 12Processor T...</td>\n",
       "      <td>Android</td>\n",
       "      <td>Xiaomi</td>\n",
       "    </tr>\n",
       "    <tr>\n",
       "      <th>1</th>\n",
       "      <td>OPPO F11 Pro (Aurora Green, 128 GB)</td>\n",
       "      <td>4.5</td>\n",
       "      <td>20999</td>\n",
       "      <td>https://rukminim2.flixcart.com/image/312/312/k...</td>\n",
       "      <td>Storage128 GBRAM6 GBExpandable Storage256GB  S...</td>\n",
       "      <td>Android</td>\n",
       "      <td>OPPO</td>\n",
       "    </tr>\n",
       "    <tr>\n",
       "      <th>2</th>\n",
       "      <td>REDMI Note 11 (Starburst White, 64 GB)</td>\n",
       "      <td>4.2</td>\n",
       "      <td>13149</td>\n",
       "      <td>https://rukminim2.flixcart.com/image/312/312/x...</td>\n",
       "      <td>Storage64 GBRAM4  SystemAndroid 11Processor Sp...</td>\n",
       "      <td>Android</td>\n",
       "      <td>Xiaomi</td>\n",
       "    </tr>\n",
       "    <tr>\n",
       "      <th>3</th>\n",
       "      <td>OnePlus Nord CE 5G (Blue Void, 256 GB)</td>\n",
       "      <td>4.1</td>\n",
       "      <td>21999</td>\n",
       "      <td>https://rukminim2.flixcart.com/image/312/312/x...</td>\n",
       "      <td>Storage256 GBRAM12  SystemAndroid Q 11Processo...</td>\n",
       "      <td>Android</td>\n",
       "      <td>OnePlus</td>\n",
       "    </tr>\n",
       "    <tr>\n",
       "      <th>4</th>\n",
       "      <td>APPLE iPhone 13 mini (Blue, 128 GB)</td>\n",
       "      <td>4.6</td>\n",
       "      <td>3537</td>\n",
       "      <td>https://rukminim2.flixcart.com/image/312/312/k...</td>\n",
       "      <td>Storage128  SystemiOS 15Processor TypeA15 Bion...</td>\n",
       "      <td>iOS</td>\n",
       "      <td>Apple</td>\n",
       "    </tr>\n",
       "  </tbody>\n",
       "</table>\n",
       "</div>"
      ],
      "text/plain": [
       "                                        name  ratings  price  \\\n",
       "0  REDMI Note 12 Pro 5G (Onyx Black, 128 GB)      4.2  23999   \n",
       "1        OPPO F11 Pro (Aurora Green, 128 GB)      4.5  20999   \n",
       "2     REDMI Note 11 (Starburst White, 64 GB)      4.2  13149   \n",
       "3     OnePlus Nord CE 5G (Blue Void, 256 GB)      4.1  21999   \n",
       "4        APPLE iPhone 13 mini (Blue, 128 GB)      4.6   3537   \n",
       "\n",
       "                                              imgURL  \\\n",
       "0  https://rukminim2.flixcart.com/image/312/312/x...   \n",
       "1  https://rukminim2.flixcart.com/image/312/312/k...   \n",
       "2  https://rukminim2.flixcart.com/image/312/312/x...   \n",
       "3  https://rukminim2.flixcart.com/image/312/312/x...   \n",
       "4  https://rukminim2.flixcart.com/image/312/312/k...   \n",
       "\n",
       "                                              corpus       OS    Brand  \n",
       "0  Storage128 GBRAM6  SystemAndroid 12Processor T...  Android   Xiaomi  \n",
       "1  Storage128 GBRAM6 GBExpandable Storage256GB  S...  Android     OPPO  \n",
       "2  Storage64 GBRAM4  SystemAndroid 11Processor Sp...  Android   Xiaomi  \n",
       "3  Storage256 GBRAM12  SystemAndroid Q 11Processo...  Android  OnePlus  \n",
       "4  Storage128  SystemiOS 15Processor TypeA15 Bion...      iOS    Apple  "
      ]
     },
     "execution_count": 432,
     "metadata": {},
     "output_type": "execute_result"
    }
   ],
   "source": [
    "# to categorize brand names\n",
    "def normalize_brand(brand):\n",
    "    if pd.isnull(brand):\n",
    "        return None\n",
    "    if 'xiaomi' in brand.lower():\n",
    "        return 'Xiaomi'\n",
    "    if 'redmi' in brand.lower():\n",
    "        return 'Xiaomi'\n",
    "    if 'mi' in brand.lower():\n",
    "        return 'Xiaomi'\n",
    "    if 'oppo' in brand.lower():\n",
    "        return 'OPPO'\n",
    "    if 'oneplus' in brand.lower():\n",
    "        return 'OnePlus'\n",
    "    if 'apple' in brand.lower():\n",
    "        return 'Apple'\n",
    "    if 'samsung' in brand.lower():\n",
    "        return 'Samsung'\n",
    "    if 'vivo' in brand.lower():\n",
    "        return 'Vivo'\n",
    "    if 'moto' in brand.lower():\n",
    "        return 'Motorola'\n",
    "    if 'motorola' in brand.lower():\n",
    "        return 'Motorola'\n",
    "    if 'infinix' in brand.lower():\n",
    "        return 'Infinix'\n",
    "    if 'realme' in brand.lower():\n",
    "        return 'Realme'\n",
    "    if 'tecno' in brand.lower():\n",
    "        return 'Tecno'\n",
    "    return 'Other'\n",
    "\n",
    "# data2 = data.copy()\n",
    "data_brand['Brand'] = data_brand['Brand'].apply(normalize_brand)\n",
    "\n",
    "data_brand.head()"
   ]
  },
  {
   "cell_type": "code",
   "execution_count": 433,
   "id": "02d34a82",
   "metadata": {},
   "outputs": [
    {
     "name": "stdout",
     "output_type": "stream",
     "text": [
      "{'Xiaomi': 422, 'OPPO': 246, 'OnePlus': 169, 'Apple': 375, 'Infinix': 149, 'Samsung': 460, 'Vivo': 274, 'Motorola': 96, 'Realme': 186, 'Tecno': 139, 'Other': 11}\n",
      "2527\n"
     ]
    }
   ],
   "source": [
    "frequency = collections.Counter(data_brand['Brand'].to_numpy())\n",
    "\n",
    "print(dict(frequency))\n",
    "print(len(data_brand))"
   ]
  },
  {
   "cell_type": "code",
   "execution_count": 434,
   "id": "21bf277f",
   "metadata": {},
   "outputs": [
    {
     "data": {
      "text/plain": [
       "((2527, 7),\n",
       " name       0\n",
       " ratings    0\n",
       " price      0\n",
       " imgURL     0\n",
       " corpus     0\n",
       " OS         0\n",
       " Brand      0\n",
       " dtype: int64)"
      ]
     },
     "execution_count": 434,
     "metadata": {},
     "output_type": "execute_result"
    }
   ],
   "source": [
    "# checking blank records\n",
    "data_size = data_brand.shape\n",
    "missing_values = data_brand.isnull().sum()\n",
    "data_size, missing_values"
   ]
  },
  {
   "cell_type": "markdown",
   "id": "4630c08e",
   "metadata": {},
   "source": [
    "### Data Visualization of Brands"
   ]
  },
  {
   "cell_type": "code",
   "execution_count": 435,
   "id": "e2bbaa9b",
   "metadata": {},
   "outputs": [
    {
     "data": {
      "image/png": "[encoded data removed]",
      "text/plain": [
       "<Figure size 1000x500 with 1 Axes>"
      ]
     },
     "metadata": {},
     "output_type": "display_data"
    }
   ],
   "source": [
    "# Brand names visualization\n",
    "data_brand['Brand'].value_counts().plot(kind = 'barh', rot=0, figsize=(10, 5), color=['#1f77b4', '#d9534f', '#5cb85c'])\n",
    "plt.title('Distribution of Brands')\n",
    "plt.xlabel('Number of mobile phones')\n",
    "plt.ylabel('Brand')\n",
    "plt.show()"
   ]
  },
  {
   "cell_type": "markdown",
   "id": "bb02eccd",
   "metadata": {},
   "source": [
    "### Feature Extraction - Storage"
   ]
  },
  {
   "cell_type": "code",
   "execution_count": 436,
   "id": "66b1003b",
   "metadata": {},
   "outputs": [
    {
     "data": {
      "text/html": [
       "<div>\n",
       "<style scoped>\n",
       "    .dataframe tbody tr th:only-of-type {\n",
       "        vertical-align: middle;\n",
       "    }\n",
       "\n",
       "    .dataframe tbody tr th {\n",
       "        vertical-align: top;\n",
       "    }\n",
       "\n",
       "    .dataframe thead th {\n",
       "        text-align: right;\n",
       "    }\n",
       "</style>\n",
       "<table border=\"1\" class=\"dataframe\">\n",
       "  <thead>\n",
       "    <tr style=\"text-align: right;\">\n",
       "      <th></th>\n",
       "      <th>name</th>\n",
       "      <th>ratings</th>\n",
       "      <th>price</th>\n",
       "      <th>imgURL</th>\n",
       "      <th>corpus</th>\n",
       "      <th>OS</th>\n",
       "      <th>Brand</th>\n",
       "      <th>Storage</th>\n",
       "    </tr>\n",
       "  </thead>\n",
       "  <tbody>\n",
       "    <tr>\n",
       "      <th>0</th>\n",
       "      <td>REDMI Note 12 Pro 5G (Onyx Black, 128 GB)</td>\n",
       "      <td>4.2</td>\n",
       "      <td>23999</td>\n",
       "      <td>https://rukminim2.flixcart.com/image/312/312/x...</td>\n",
       "      <td>Storage128 GBRAM6  SystemAndroid 12Processor T...</td>\n",
       "      <td>Android</td>\n",
       "      <td>Xiaomi</td>\n",
       "      <td>128.0</td>\n",
       "    </tr>\n",
       "    <tr>\n",
       "      <th>1</th>\n",
       "      <td>OPPO F11 Pro (Aurora Green, 128 GB)</td>\n",
       "      <td>4.5</td>\n",
       "      <td>20999</td>\n",
       "      <td>https://rukminim2.flixcart.com/image/312/312/k...</td>\n",
       "      <td>Storage128 GBRAM6 GBExpandable Storage256GB  S...</td>\n",
       "      <td>Android</td>\n",
       "      <td>OPPO</td>\n",
       "      <td>128.0</td>\n",
       "    </tr>\n",
       "    <tr>\n",
       "      <th>2</th>\n",
       "      <td>REDMI Note 11 (Starburst White, 64 GB)</td>\n",
       "      <td>4.2</td>\n",
       "      <td>13149</td>\n",
       "      <td>https://rukminim2.flixcart.com/image/312/312/x...</td>\n",
       "      <td>Storage64 GBRAM4  SystemAndroid 11Processor Sp...</td>\n",
       "      <td>Android</td>\n",
       "      <td>Xiaomi</td>\n",
       "      <td>64.0</td>\n",
       "    </tr>\n",
       "    <tr>\n",
       "      <th>3</th>\n",
       "      <td>OnePlus Nord CE 5G (Blue Void, 256 GB)</td>\n",
       "      <td>4.1</td>\n",
       "      <td>21999</td>\n",
       "      <td>https://rukminim2.flixcart.com/image/312/312/x...</td>\n",
       "      <td>Storage256 GBRAM12  SystemAndroid Q 11Processo...</td>\n",
       "      <td>Android</td>\n",
       "      <td>OnePlus</td>\n",
       "      <td>256.0</td>\n",
       "    </tr>\n",
       "    <tr>\n",
       "      <th>4</th>\n",
       "      <td>APPLE iPhone 13 mini (Blue, 128 GB)</td>\n",
       "      <td>4.6</td>\n",
       "      <td>3537</td>\n",
       "      <td>https://rukminim2.flixcart.com/image/312/312/k...</td>\n",
       "      <td>Storage128  SystemiOS 15Processor TypeA15 Bion...</td>\n",
       "      <td>iOS</td>\n",
       "      <td>Apple</td>\n",
       "      <td>128.0</td>\n",
       "    </tr>\n",
       "  </tbody>\n",
       "</table>\n",
       "</div>"
      ],
      "text/plain": [
       "                                        name  ratings  price  \\\n",
       "0  REDMI Note 12 Pro 5G (Onyx Black, 128 GB)      4.2  23999   \n",
       "1        OPPO F11 Pro (Aurora Green, 128 GB)      4.5  20999   \n",
       "2     REDMI Note 11 (Starburst White, 64 GB)      4.2  13149   \n",
       "3     OnePlus Nord CE 5G (Blue Void, 256 GB)      4.1  21999   \n",
       "4        APPLE iPhone 13 mini (Blue, 128 GB)      4.6   3537   \n",
       "\n",
       "                                              imgURL  \\\n",
       "0  https://rukminim2.flixcart.com/image/312/312/x...   \n",
       "1  https://rukminim2.flixcart.com/image/312/312/k...   \n",
       "2  https://rukminim2.flixcart.com/image/312/312/x...   \n",
       "3  https://rukminim2.flixcart.com/image/312/312/x...   \n",
       "4  https://rukminim2.flixcart.com/image/312/312/k...   \n",
       "\n",
       "                                              corpus       OS    Brand  \\\n",
       "0  Storage128 GBRAM6  SystemAndroid 12Processor T...  Android   Xiaomi   \n",
       "1  Storage128 GBRAM6 GBExpandable Storage256GB  S...  Android     OPPO   \n",
       "2  Storage64 GBRAM4  SystemAndroid 11Processor Sp...  Android   Xiaomi   \n",
       "3  Storage256 GBRAM12  SystemAndroid Q 11Processo...  Android  OnePlus   \n",
       "4  Storage128  SystemiOS 15Processor TypeA15 Bion...      iOS    Apple   \n",
       "\n",
       "   Storage  \n",
       "0    128.0  \n",
       "1    128.0  \n",
       "2     64.0  \n",
       "3    256.0  \n",
       "4    128.0  "
      ]
     },
     "execution_count": 436,
     "metadata": {},
     "output_type": "execute_result"
    }
   ],
   "source": [
    "# to extract storage information from corpus\n",
    "def extract_storage(corpus):\n",
    "    storage = re.search(r'Storage(\\d+)', corpus)\n",
    "    if storage:\n",
    "        return int(storage.group(1))\n",
    "    return None\n",
    "\n",
    "data_storage = data_brand.copy()\n",
    "data_storage['Storage'] = data_storage['corpus'].apply(extract_storage)\n",
    "\n",
    "data_storage.head()"
   ]
  },
  {
   "cell_type": "code",
   "execution_count": 437,
   "id": "39ccc994",
   "metadata": {},
   "outputs": [
    {
     "name": "stdout",
     "output_type": "stream",
     "text": [
      "{128.0: 1017, 64.0: 651, 256.0: 398, 16.0: 69, 32.0: 271, 512.0: 61, 1024.0: 14, nan: 1, 8.0: 18, nan: 1, 2.0: 8, 153.0: 1, 6.0: 6, 100.0: 2, 4.0: 3, nan: 1, nan: 1, nan: 1, 1.0: 3}\n",
      "2527\n"
     ]
    }
   ],
   "source": [
    "frequency = collections.Counter(data_storage['Storage'].to_numpy())\n",
    "\n",
    "print(dict(frequency))\n",
    "print(len(data_storage))"
   ]
  },
  {
   "cell_type": "code",
   "execution_count": 438,
   "id": "27e63322",
   "metadata": {},
   "outputs": [
    {
     "data": {
      "text/plain": [
       "((2522, 8),\n",
       " name       0\n",
       " ratings    0\n",
       " price      0\n",
       " imgURL     0\n",
       " corpus     0\n",
       " OS         0\n",
       " Brand      0\n",
       " Storage    0\n",
       " dtype: int64)"
      ]
     },
     "execution_count": 438,
     "metadata": {},
     "output_type": "execute_result"
    }
   ],
   "source": [
    "# removing blank values\n",
    "data_storage = data_storage.dropna()\n",
    "\n",
    "# checking blank records\n",
    "data_size = data_storage.shape\n",
    "missing_values = data_storage.isnull().sum()\n",
    "data_size, missing_values"
   ]
  },
  {
   "cell_type": "code",
   "execution_count": 439,
   "id": "a792b57a",
   "metadata": {},
   "outputs": [
    {
     "name": "stdout",
     "output_type": "stream",
     "text": [
      "{128.0: 1017, 64.0: 651, 256.0: 398, 16.0: 69, 32.0: 271, 512.0: 61, 1024.0: 14, 8.0: 18, 2.0: 8, 153.0: 1, 6.0: 6, 100.0: 2, 4.0: 3, 1.0: 3}\n",
      "2522\n"
     ]
    }
   ],
   "source": [
    "frequency = collections.Counter(data_storage['Storage'].to_numpy())\n",
    "\n",
    "print(dict(frequency))\n",
    "print(len(data_storage))"
   ]
  },
  {
   "cell_type": "markdown",
   "id": "5af7d035",
   "metadata": {},
   "source": [
    "### Data Cleaning - dropping mismatched records"
   ]
  },
  {
   "cell_type": "code",
   "execution_count": 440,
   "id": "0e5bc9ea",
   "metadata": {},
   "outputs": [],
   "source": [
    "# dropping mismatched storage records in name and corpus\n",
    "j=0\n",
    "for i in range(len(data_storage)):\n",
    "    name2 = data_storage['name'].to_numpy()[i-j]\n",
    "    pattern = r'\\d+'\n",
    "    matches = re.findall(pattern, name2)\n",
    "\n",
    "    if(len(matches)==0):\n",
    "        name_storage = int(data_storage['Storage'].to_numpy()[i-j])\n",
    "    elif(len(matches)==1):\n",
    "        name_storage = data_storage['Storage'].to_numpy()[i-j]\n",
    "    else:\n",
    "        name_storage = matches[len(matches)-1]\n",
    "    if(str(int(name_storage))!=str(int(data_storage['Storage'].to_numpy()[i-j])) and data_storage['Brand'].to_numpy()[i-j]!='Apple'):\n",
    "        data_storage = data_storage.drop([data_storage.index[i-j]])\n",
    "        j=j+1\n",
    "\n",
    "\n",
    "    \n"
   ]
  },
  {
   "cell_type": "code",
   "execution_count": 441,
   "id": "3abf990b",
   "metadata": {},
   "outputs": [
    {
     "name": "stdout",
     "output_type": "stream",
     "text": [
      "Total records =  2500\n",
      "mismatched records count =  0\n"
     ]
    }
   ],
   "source": [
    "k=0\n",
    "print(\"Total records = \", len(data_storage))\n",
    "for i in range(len(data_storage)):\n",
    "    name2 = data_storage['name'].to_numpy()[i]\n",
    "    pattern = r'\\d+'\n",
    "    matches = re.findall(pattern, name2)\n",
    "\n",
    "    if(len(matches)==0):\n",
    "        name_storage = int(data_storage['Storage'].to_numpy()[i])\n",
    "    elif(len(matches)==1):\n",
    "        name_storage = data_storage['Storage'].to_numpy()[i]\n",
    "    else:\n",
    "        name_storage = matches[len(matches)-1]\n",
    "    if(str(int(name_storage))!=str(int(data_storage['Storage'].to_numpy()[i])) and data_storage['Brand'].to_numpy()[i]!='Apple'):\n",
    "#         print(type(name_storage), type(str(int(data_storage['Storage'].to_numpy()[i]))), end=\" \")\n",
    "        print(i, data_storage['name'].to_numpy()[i], data_storage['Storage'].to_numpy()[i], name_storage)\n",
    "        k=k+1\n",
    "        \n",
    "data_storage = data_storage.drop(data_storage[data_storage['Storage'].to_numpy()==153].index)\n",
    "data_storage = data_storage.drop(data_storage[data_storage['Storage'].to_numpy()==100].index)\n",
    "data_storage = data_storage.drop(data_storage[data_storage['Storage'].to_numpy()==2].index)\n",
    "print(\"mismatched records count = \", k)\n"
   ]
  },
  {
   "cell_type": "markdown",
   "id": "69acfa55",
   "metadata": {},
   "source": [
    "### Feature Scaling - changing 1TB to 1024GB"
   ]
  },
  {
   "cell_type": "code",
   "execution_count": 442,
   "id": "39155dd1",
   "metadata": {},
   "outputs": [],
   "source": [
    "# fixing some records by swapping ram and storage or by scaling\n",
    "data_storage.loc[data_storage['Storage'] == 1, 'Storage'] = 1024 # scaling\n",
    "data_storage.loc[data_storage['Storage'] == 6, 'Storage'] = 128 # fixing 6GB-RAM to 128GB\n",
    "\n"
   ]
  },
  {
   "cell_type": "code",
   "execution_count": 443,
   "id": "89a3b2d0",
   "metadata": {},
   "outputs": [
    {
     "name": "stdout",
     "output_type": "stream",
     "text": [
      "{128.0: 1020, 64.0: 644, 256.0: 397, 16.0: 67, 32.0: 265, 512.0: 61, 1024.0: 17, 8.0: 17, 4.0: 3}\n",
      "2491\n"
     ]
    }
   ],
   "source": [
    "frequency = collections.Counter(data_storage['Storage'].to_numpy())\n",
    "\n",
    "print(dict(frequency))\n",
    "print(len(data_storage))"
   ]
  },
  {
   "cell_type": "markdown",
   "id": "46d70c8e",
   "metadata": {},
   "source": [
    "### Storage Visualization"
   ]
  },
  {
   "cell_type": "code",
   "execution_count": 444,
   "id": "74927ac8",
   "metadata": {},
   "outputs": [
    {
     "data": {
      "image/png": "[encoded data removed]",
      "text/plain": [
       "<Figure size 1000x500 with 1 Axes>"
      ]
     },
     "metadata": {},
     "output_type": "display_data"
    }
   ],
   "source": [
    "# Storage visualization\n",
    "data_storage['Storage'].value_counts().plot(kind = 'barh', rot=0, figsize=(10, 5), color=['#1f77b4', '#d9534f', '#5cb85c'])\n",
    "plt.title('Distribution of Storage')\n",
    "plt.xlabel('Number of mobile phones')\n",
    "plt.ylabel('Storage capacity (GB)')\n",
    "plt.show()"
   ]
  },
  {
   "cell_type": "markdown",
   "id": "7fb0b8cb",
   "metadata": {},
   "source": [
    "### Feature Extraction - RAM"
   ]
  },
  {
   "cell_type": "code",
   "execution_count": 445,
   "id": "f605d898",
   "metadata": {},
   "outputs": [
    {
     "data": {
      "text/html": [
       "<div>\n",
       "<style scoped>\n",
       "    .dataframe tbody tr th:only-of-type {\n",
       "        vertical-align: middle;\n",
       "    }\n",
       "\n",
       "    .dataframe tbody tr th {\n",
       "        vertical-align: top;\n",
       "    }\n",
       "\n",
       "    .dataframe thead th {\n",
       "        text-align: right;\n",
       "    }\n",
       "</style>\n",
       "<table border=\"1\" class=\"dataframe\">\n",
       "  <thead>\n",
       "    <tr style=\"text-align: right;\">\n",
       "      <th></th>\n",
       "      <th>name</th>\n",
       "      <th>ratings</th>\n",
       "      <th>price</th>\n",
       "      <th>imgURL</th>\n",
       "      <th>corpus</th>\n",
       "      <th>OS</th>\n",
       "      <th>Brand</th>\n",
       "      <th>Storage</th>\n",
       "      <th>RAM</th>\n",
       "    </tr>\n",
       "  </thead>\n",
       "  <tbody>\n",
       "    <tr>\n",
       "      <th>0</th>\n",
       "      <td>REDMI Note 12 Pro 5G (Onyx Black, 128 GB)</td>\n",
       "      <td>4.2</td>\n",
       "      <td>23999</td>\n",
       "      <td>https://rukminim2.flixcart.com/image/312/312/x...</td>\n",
       "      <td>Storage128 GBRAM6  SystemAndroid 12Processor T...</td>\n",
       "      <td>Android</td>\n",
       "      <td>Xiaomi</td>\n",
       "      <td>128.0</td>\n",
       "      <td>6.0</td>\n",
       "    </tr>\n",
       "    <tr>\n",
       "      <th>1</th>\n",
       "      <td>OPPO F11 Pro (Aurora Green, 128 GB)</td>\n",
       "      <td>4.5</td>\n",
       "      <td>20999</td>\n",
       "      <td>https://rukminim2.flixcart.com/image/312/312/k...</td>\n",
       "      <td>Storage128 GBRAM6 GBExpandable Storage256GB  S...</td>\n",
       "      <td>Android</td>\n",
       "      <td>OPPO</td>\n",
       "      <td>128.0</td>\n",
       "      <td>6.0</td>\n",
       "    </tr>\n",
       "    <tr>\n",
       "      <th>2</th>\n",
       "      <td>REDMI Note 11 (Starburst White, 64 GB)</td>\n",
       "      <td>4.2</td>\n",
       "      <td>13149</td>\n",
       "      <td>https://rukminim2.flixcart.com/image/312/312/x...</td>\n",
       "      <td>Storage64 GBRAM4  SystemAndroid 11Processor Sp...</td>\n",
       "      <td>Android</td>\n",
       "      <td>Xiaomi</td>\n",
       "      <td>64.0</td>\n",
       "      <td>4.0</td>\n",
       "    </tr>\n",
       "    <tr>\n",
       "      <th>3</th>\n",
       "      <td>OnePlus Nord CE 5G (Blue Void, 256 GB)</td>\n",
       "      <td>4.1</td>\n",
       "      <td>21999</td>\n",
       "      <td>https://rukminim2.flixcart.com/image/312/312/x...</td>\n",
       "      <td>Storage256 GBRAM12  SystemAndroid Q 11Processo...</td>\n",
       "      <td>Android</td>\n",
       "      <td>OnePlus</td>\n",
       "      <td>256.0</td>\n",
       "      <td>12.0</td>\n",
       "    </tr>\n",
       "    <tr>\n",
       "      <th>4</th>\n",
       "      <td>APPLE iPhone 13 mini (Blue, 128 GB)</td>\n",
       "      <td>4.6</td>\n",
       "      <td>3537</td>\n",
       "      <td>https://rukminim2.flixcart.com/image/312/312/k...</td>\n",
       "      <td>Storage128  SystemiOS 15Processor TypeA15 Bion...</td>\n",
       "      <td>iOS</td>\n",
       "      <td>Apple</td>\n",
       "      <td>128.0</td>\n",
       "      <td>NaN</td>\n",
       "    </tr>\n",
       "  </tbody>\n",
       "</table>\n",
       "</div>"
      ],
      "text/plain": [
       "                                        name  ratings  price  \\\n",
       "0  REDMI Note 12 Pro 5G (Onyx Black, 128 GB)      4.2  23999   \n",
       "1        OPPO F11 Pro (Aurora Green, 128 GB)      4.5  20999   \n",
       "2     REDMI Note 11 (Starburst White, 64 GB)      4.2  13149   \n",
       "3     OnePlus Nord CE 5G (Blue Void, 256 GB)      4.1  21999   \n",
       "4        APPLE iPhone 13 mini (Blue, 128 GB)      4.6   3537   \n",
       "\n",
       "                                              imgURL  \\\n",
       "0  https://rukminim2.flixcart.com/image/312/312/x...   \n",
       "1  https://rukminim2.flixcart.com/image/312/312/k...   \n",
       "2  https://rukminim2.flixcart.com/image/312/312/x...   \n",
       "3  https://rukminim2.flixcart.com/image/312/312/x...   \n",
       "4  https://rukminim2.flixcart.com/image/312/312/k...   \n",
       "\n",
       "                                              corpus       OS    Brand  \\\n",
       "0  Storage128 GBRAM6  SystemAndroid 12Processor T...  Android   Xiaomi   \n",
       "1  Storage128 GBRAM6 GBExpandable Storage256GB  S...  Android     OPPO   \n",
       "2  Storage64 GBRAM4  SystemAndroid 11Processor Sp...  Android   Xiaomi   \n",
       "3  Storage256 GBRAM12  SystemAndroid Q 11Processo...  Android  OnePlus   \n",
       "4  Storage128  SystemiOS 15Processor TypeA15 Bion...      iOS    Apple   \n",
       "\n",
       "   Storage   RAM  \n",
       "0    128.0   6.0  \n",
       "1    128.0   6.0  \n",
       "2     64.0   4.0  \n",
       "3    256.0  12.0  \n",
       "4    128.0   NaN  "
      ]
     },
     "execution_count": 445,
     "metadata": {},
     "output_type": "execute_result"
    }
   ],
   "source": [
    "# to extract ram information from corpus\n",
    "def extract_ram(corpus):\n",
    "    ram = re.search(r'RAM(\\d+)', corpus)\n",
    "    if ram:\n",
    "        return int(ram.group(1))\n",
    "    return None\n",
    "\n",
    "data_ram = data_storage.copy()\n",
    "data_ram['RAM'] = data_ram['corpus'].apply(extract_ram)\n",
    "\n",
    "data_ram.head()"
   ]
  },
  {
   "cell_type": "code",
   "execution_count": 446,
   "id": "1b7cf00c",
   "metadata": {},
   "outputs": [
    {
     "name": "stdout",
     "output_type": "stream",
     "text": [
      "{6.0: 422, 4.0: 563, 12.0: 134, nan: 1, nan: 1, 8.0: 606, 2.0: 144, 3.0: 202, nan: 1, nan: 1, nan: 1, nan: 1, nan: 1, nan: 1, nan: 1, nan: 1, nan: 1, nan: 1, nan: 1, nan: 1, nan: 1, nan: 1, nan: 1, nan: 1, nan: 1, nan: 1, nan: 1, nan: 1, 1.0: 13, nan: 1, 16.0: 8, nan: 1, nan: 1, nan: 1, nan: 1, nan: 1, nan: 1, nan: 1, nan: 1, nan: 1, nan: 1, nan: 1, nan: 1, nan: 1, nan: 1, nan: 1, nan: 1, nan: 1, nan: 1, nan: 1, nan: 1, nan: 1, nan: 1, nan: 1, nan: 1, nan: 1, nan: 1, nan: 1, nan: 1, nan: 1, nan: 1, nan: 1, nan: 1, nan: 1, nan: 1, nan: 1, nan: 1, nan: 1, nan: 1, nan: 1, nan: 1, nan: 1, nan: 1, nan: 1, nan: 1, nan: 1, nan: 1, nan: 1, nan: 1, nan: 1, nan: 1, nan: 1, nan: 1, nan: 1, nan: 1, nan: 1, nan: 1, nan: 1, nan: 1, nan: 1, nan: 1, nan: 1, nan: 1, nan: 1, nan: 1, nan: 1, nan: 1, nan: 1, nan: 1, nan: 1, nan: 1, nan: 1, nan: 1, nan: 1, nan: 1, nan: 1, nan: 1, 128.0: 9, nan: 1, nan: 1, nan: 1, nan: 1, nan: 1, nan: 1, nan: 1, nan: 1, nan: 1, nan: 1, nan: 1, nan: 1, nan: 1, nan: 1, nan: 1, nan: 1, nan: 1, nan: 1, nan: 1, nan: 1, nan: 1, nan: 1, nan: 1, 64.0: 2, nan: 1, nan: 1, nan: 1, nan: 1, nan: 1, nan: 1, nan: 1, nan: 1, nan: 1, nan: 1, nan: 1, nan: 1, nan: 1, nan: 1, nan: 1, nan: 1, nan: 1, nan: 1, nan: 1, nan: 1, nan: 1, nan: 1, nan: 1, nan: 1, nan: 1, nan: 1, nan: 1, nan: 1, nan: 1, nan: 1, nan: 1, nan: 1, nan: 1, nan: 1, nan: 1, nan: 1, nan: 1, nan: 1, nan: 1, nan: 1, nan: 1, nan: 1, nan: 1, nan: 1, nan: 1, nan: 1, nan: 1, nan: 1, nan: 1, nan: 1, nan: 1, nan: 1, nan: 1, nan: 1, nan: 1, nan: 1, nan: 1, nan: 1, nan: 1, nan: 1, nan: 1, nan: 1, nan: 1, nan: 1, nan: 1, nan: 1, nan: 1, nan: 1, nan: 1, nan: 1, nan: 1, nan: 1, nan: 1, nan: 1, nan: 1, nan: 1, nan: 1, nan: 1, nan: 1, nan: 1, nan: 1, nan: 1, nan: 1, nan: 1, nan: 1, nan: 1, nan: 1, nan: 1, nan: 1, nan: 1, nan: 1, nan: 1, nan: 1, nan: 1, nan: 1, nan: 1, nan: 1, nan: 1, nan: 1, nan: 1, nan: 1, nan: 1, nan: 1, nan: 1, nan: 1, nan: 1, nan: 1, nan: 1, nan: 1, nan: 1, nan: 1, nan: 1, nan: 1, nan: 1, nan: 1, nan: 1, nan: 1, nan: 1, nan: 1, nan: 1, nan: 1, nan: 1, nan: 1, nan: 1, nan: 1, nan: 1, nan: 1, nan: 1, nan: 1, nan: 1, nan: 1, nan: 1, nan: 1, nan: 1, nan: 1, nan: 1, nan: 1, nan: 1, nan: 1, nan: 1, nan: 1, nan: 1, nan: 1, nan: 1, nan: 1, nan: 1, nan: 1, nan: 1, nan: 1, nan: 1, nan: 1, nan: 1, nan: 1, nan: 1, nan: 1, nan: 1, nan: 1, nan: 1, nan: 1, nan: 1, nan: 1, nan: 1, nan: 1, nan: 1, nan: 1, nan: 1, nan: 1, nan: 1, nan: 1, nan: 1, nan: 1, nan: 1, nan: 1, nan: 1, nan: 1, nan: 1, nan: 1, 32.0: 1, nan: 1, nan: 1, nan: 1, nan: 1, nan: 1, nan: 1, nan: 1, nan: 1, nan: 1, nan: 1, nan: 1, nan: 1, nan: 1, nan: 1, nan: 1, nan: 1, nan: 1, nan: 1, nan: 1, nan: 1, nan: 1, nan: 1, nan: 1, nan: 1, nan: 1, nan: 1, nan: 1, nan: 1, nan: 1, nan: 1, nan: 1, nan: 1, nan: 1, nan: 1, nan: 1, nan: 1, nan: 1, nan: 1, nan: 1, nan: 1, nan: 1, nan: 1, nan: 1, nan: 1, nan: 1, nan: 1, nan: 1, nan: 1, nan: 1, nan: 1, nan: 1, nan: 1, nan: 1, nan: 1, nan: 1, nan: 1, nan: 1, nan: 1, nan: 1, nan: 1, nan: 1, nan: 1, nan: 1, nan: 1, nan: 1, nan: 1, nan: 1, nan: 1, nan: 1, nan: 1, nan: 1, nan: 1, nan: 1, nan: 1, nan: 1, nan: 1, nan: 1, nan: 1, nan: 1, nan: 1, nan: 1, nan: 1, nan: 1, nan: 1, nan: 1, nan: 1, nan: 1, nan: 1}\n",
      "2491\n"
     ]
    }
   ],
   "source": [
    "frequency = collections.Counter(data_ram['RAM'].to_numpy())\n",
    "\n",
    "print(dict(frequency))\n",
    "print(len(data_ram))"
   ]
  },
  {
   "cell_type": "code",
   "execution_count": 414,
   "id": "1fc061be",
   "metadata": {},
   "outputs": [],
   "source": [
    "# dropping redundant records\n",
    "data_ram = data_ram.drop(data_ram[data_ram['RAM'].to_numpy()==32].index)\n",
    "data_ram = data_ram.drop(data_ram[data_ram['RAM'].to_numpy()==64].index)"
   ]
  },
  {
   "cell_type": "code",
   "execution_count": 447,
   "id": "f04aea1a",
   "metadata": {},
   "outputs": [],
   "source": [
    "# fixing RAM values by taking it from name feature\n",
    "def fix_ram(name):\n",
    "    pattern = r'\\d+'\n",
    "    matches = re.findall(pattern, name)\n",
    "    return matches[len(matches)-1]\n",
    "\n",
    "for i in range(len(data_ram)):\n",
    "    if (data_ram['RAM'].to_numpy()[i]==128):\n",
    "        new_ram = fix_ram(data_ram['name'].to_numpy()[i])\n",
    "        data_ram.loc[data_ram.index[i], ['RAM']] = int(new_ram)\n"
   ]
  },
  {
   "cell_type": "code",
   "execution_count": 418,
   "id": "f09cd3f4",
   "metadata": {},
   "outputs": [
    {
     "name": "stdout",
     "output_type": "stream",
     "text": [
      "OPPO Reno10 5G (Ice Blue, 256 GB) \t\t\t nan\n",
      "SAMSUNG Guru Music 2 \t\t\t nan\n",
      "OPPO Reno10 5G (Silvery Grey, 256 GB) \t\t\t nan\n",
      "Infinix Smart 7 HD (Green Apple, 64 GB) \t\t\t nan\n",
      "OPPO Reno10 5G (Ice Blue, 256 GB) \t\t\t nan\n",
      "OPPO Reno10 5G (Silvery Grey, 256 GB) \t\t\t nan\n",
      "SAMSUNG Guru FM Plus \t\t\t nan\n",
      "OPPO Reno10 5G (Ice Blue, 256 GB) \t\t\t nan\n",
      "OPPO Reno10 5G (Ice Blue, 256 GB) \t\t\t nan\n",
      "OPPO Reno10 5G (Ice Blue, 256 GB) \t\t\t nan\n",
      "OPPO Reno10 5G (Ice Blue, 256 GB) \t\t\t nan\n",
      "SAMSUNG Guru Music 2 \t\t\t nan\n",
      "APPLE iPhone 13 mini (Blue, 128 GB) \t\t\t nan\n",
      "APPLE iPhone 6s Plus (Gold, 64 GB) \t\t\t nan\n",
      "APPLE iPhone 14 Plus ((PRODUCT)RED, 256 GB) \t\t\t nan\n",
      "APPLE iPhone XR ((PRODUCT)RED, 64 GB) \t\t\t nan\n",
      "APPLE iPhone 14 Pro (Gold, 256 GB) \t\t\t nan\n",
      "APPLE iPhone 14 Plus (Midnight, 256 GB) \t\t\t nan\n",
      "APPLE iPhone 6s (Silver, 64 GB) \t\t\t nan\n",
      "APPLE iPhone 14 Pro Max (Gold, 512 GB) \t\t\t nan\n",
      "APPLE iPhone 13 Pro Max (Sierra Blue, 1 TB) \t\t\t nan\n",
      "APPLE iPhone 14 Pro (Gold, 128 GB) \t\t\t nan\n",
      "APPLE iPhone 12 (Blue, 128 GB) \t\t\t nan\n",
      "APPLE iPhone SE (Red, 128 GB) \t\t\t nan\n",
      "APPLE iPhone SE (White, 128 GB) \t\t\t nan\n",
      "Apple iPhone XR (Black, 128 GB) (Includes EarPods, Power Adapter) \t\t\t nan\n",
      "APPLE iPhone 6s Plus (Rose Gold, 128 GB) \t\t\t nan\n",
      "Apple iPhone XR (Black, 64 GB) (Includes EarPods, Power Adapter) \t\t\t nan\n",
      "APPLE iPhone XS (Silver, 256 GB) \t\t\t nan\n",
      "APPLE iPhone 5C (Blue, 16 GB) \t\t\t nan\n",
      "APPLE iPhone SE 3rd Gen (Starlight, 128 GB) \t\t\t nan\n",
      "APPLE iPhone XS Max (Silver, 64 GB) \t\t\t nan\n",
      "APPLE iPhone 7 Plus (Silver, 256 GB) \t\t\t nan\n",
      "APPLE iPhone 14 Pro Max (Silver, 256 GB) \t\t\t nan\n",
      "APPLE iPhone SE 3rd Gen (Starlight, 256 GB) \t\t\t nan\n",
      "APPLE iPhone 12 (Purple, 256 GB) \t\t\t nan\n",
      "APPLE iPhone 6s (Silver, 16 GB) \t\t\t nan\n",
      "APPLE iPhone 14 Pro Max (Gold, 128 GB) \t\t\t nan\n",
      "APPLE iPhone 13 ((PRODUCT)RED, 256 GB) \t\t\t nan\n",
      "APPLE iPhone XS Max (Silver, 512 GB) \t\t\t nan\n",
      "APPLE iPhone 13 Pro (Alpine Green, 256 GB) \t\t\t nan\n",
      "APPLE iPhone 14 Pro Max (Silver, 128 GB) \t\t\t nan\n",
      "APPLE iPhone 13 mini (Midnight, 128 GB) \t\t\t nan\n",
      "APPLE iPhone XS (Space Grey, 64 GB) \t\t\t nan\n",
      "APPLE iPhone 8 Plus (Gold, 256 GB) \t\t\t nan\n",
      "Apple iPhone XR (Blue, 256 GB) (Includes EarPods, Power Adapter) \t\t\t nan\n",
      "Apple iPhone XR (Yellow, 64 GB) (Includes EarPods, Power Adapter) \t\t\t nan\n",
      "APPLE iPhone 12 Pro Max (Gold, 512 GB) \t\t\t nan\n",
      "APPLE iPhone 14 (Yellow, 512 GB) \t\t\t nan\n",
      "APPLE iPhone SE (Black, 64 GB) \t\t\t nan\n",
      "APPLE iPhone SE (Black, 256 GB) \t\t\t nan\n",
      "APPLE iPhone 7 (Gold, 256 GB) \t\t\t nan\n",
      "APPLE iPhone 11 Pro Max (Midnight Green, 256 GB) \t\t\t nan\n",
      "APPLE iPhone 12 mini (Blue, 128 GB) \t\t\t nan\n",
      "APPLE iPhone 13 Pro Max (Alpine Green, 256 GB) \t\t\t nan\n",
      "APPLE iPhone 12 mini (White, 128 GB) \t\t\t nan\n",
      "APPLE iPhone 12 mini (Green, 64 GB) \t\t\t nan\n",
      "APPLE iPhone 11 (Red, 128 GB) \t\t\t nan\n",
      "APPLE iPhone 14 Pro Max (Deep Purple, 128 GB) \t\t\t nan\n",
      "APPLE iPhone 6 Plus (Silver, 128 GB) \t\t\t nan\n",
      "APPLE iPhone SE (White, 256 GB) \t\t\t nan\n",
      "APPLE iPhone 7 Plus (Gold, 128 GB) \t\t\t nan\n",
      "APPLE iPhone 11 Pro (Space Grey, 64 GB) \t\t\t nan\n",
      "APPLE iPhone 6 (Space Grey, 32 GB) \t\t\t nan\n",
      "APPLE iPhone 7 (Black, 256 GB) \t\t\t nan\n",
      "APPLE iPhone 11 Pro Max (Space Grey, 64 GB) \t\t\t nan\n",
      "APPLE iPhone XS (Silver, 512 GB) \t\t\t nan\n",
      "APPLE iPhone 11 (Black, 64 GB) \t\t\t nan\n",
      "APPLE iPhone 11 (Black, 128 GB) \t\t\t nan\n",
      "APPLE iPhone 13 mini ((PRODUCT)RED, 128 GB) \t\t\t nan\n",
      "APPLE iPhone 6 (Space Grey, 16 GB) \t\t\t nan\n",
      "APPLE iPhone 7 (Silver, 256 GB) \t\t\t nan\n",
      "APPLE iPhone 13 Pro Max (Graphite, 1 TB) \t\t\t nan\n",
      "APPLE iPhone SE 3rd Gen (Starlight, 64 GB) \t\t\t nan\n",
      "APPLE iPhone 11 Pro (Midnight Green, 256 GB) \t\t\t nan\n",
      "APPLE iPhone 6s (Rose Gold, 16 GB) \t\t\t nan\n",
      "APPLE iPhone 14 Pro Max (Deep Purple, 1 TB) \t\t\t nan\n",
      "APPLE iPhone 14 ((PRODUCT)RED, 128 GB) \t\t\t nan\n",
      "APPLE iPhone 13 Pro (Silver, 512 GB) \t\t\t nan\n",
      "APPLE iPhone 11 Pro Max (Silver, 256 GB) \t\t\t nan\n",
      "APPLE iPhone 6s Plus (Space Grey, 16 GB) \t\t\t nan\n",
      "APPLE iPhone 12 mini (Black, 128 GB) \t\t\t nan\n",
      "APPLE iPhone 14 (Yellow, 128 GB) \t\t\t nan\n",
      "APPLE iPhone 13 Pro Max (Sierra Blue, 256 GB) \t\t\t nan\n",
      "APPLE iPhone 13 mini (Starlight, 256 GB) \t\t\t nan\n",
      "APPLE iPhone 13 Pro (Graphite, 1 TB) \t\t\t nan\n",
      "APPLE iPhone 14 (Starlight, 128 GB) \t\t\t nan\n",
      "APPLE iPhone 13 Pro (Silver, 1 TB) \t\t\t nan\n",
      "APPLE iPhone 8 (Gold, 256 GB) \t\t\t nan\n",
      "Apple iPhone XR (Coral, 256 GB) (Includes EarPods, Power Adapter) \t\t\t nan\n",
      "APPLE iPhone 12 mini (Green, 256 GB) \t\t\t nan\n",
      "APPLE iPhone 13 Pro Max (Sierra Blue, 512 GB) \t\t\t nan\n",
      "Apple iPhone SE (Red, 64 GB) (Includes EarPods, Power Adapter) \t\t\t nan\n",
      "Apple iPhone SE (Black, 128 GB) (Includes EarPods, Power Adapter) \t\t\t nan\n",
      "APPLE iPhone 12 Pro (Graphite, 512 GB) \t\t\t nan\n",
      "APPLE iPhone XR (White, 64 GB) \t\t\t nan\n",
      "APPLE iPhone XS Max (Silver, 256 GB) \t\t\t nan\n",
      "APPLE iPhone 13 Pro (Gold, 256 GB) \t\t\t nan\n",
      "APPLE iPhone 11 Pro (Space Grey, 512 GB) \t\t\t nan\n",
      "APPLE iPhone 14 (Starlight, 256 GB) \t\t\t nan\n",
      "Apple iPhone XR (Blue, 64 GB) (Includes EarPods, Power Adapter) \t\t\t nan\n",
      "Apple iPhone SE (White, 256 GB) (Includes EarPods, Power Adapter) \t\t\t nan\n",
      "APPLE iPhone XR (Yellow, 64 GB) \t\t\t nan\n",
      "APPLE iPhone 14 Pro (Gold, 512 GB) \t\t\t nan\n",
      "APPLE iPhone 12 (White, 256 GB) \t\t\t nan\n",
      "APPLE iPhone 12 Pro Max (Pacific Blue, 512 GB) \t\t\t nan\n",
      "APPLE iPhone 13 Pro Max (Graphite, 256 GB) \t\t\t nan\n",
      "APPLE iPhone 11 Pro Max (Space Grey, 64 GB) \t\t\t nan\n",
      "APPLE iPhone 5s (Space Grey, 16 GB) \t\t\t nan\n",
      "APPLE iPhone 12 Pro Max (Graphite, 128 GB) \t\t\t nan\n",
      "APPLE iPhone X (Space Gray, 64 GB) \t\t\t nan\n",
      "APPLE iPhone 7 (Rose Gold, 256 GB) \t\t\t nan\n",
      "APPLE iPhone 12 (White, 64 GB) \t\t\t nan\n",
      "APPLE iPhone 13 mini (Green, 256 GB) \t\t\t nan\n",
      "APPLE iPhone 12 (Red, 256 GB) \t\t\t nan\n",
      "Apple iPhone XR (Coral, 64 GB) (Includes EarPods, Power Adapter) \t\t\t nan\n",
      "APPLE iPhone SE (Black, 128 GB) \t\t\t nan\n",
      "APPLE iPhone 11 Pro (Silver, 512 GB) \t\t\t nan\n",
      "APPLE iPhone 13 mini (Starlight, 128 GB) \t\t\t nan\n",
      "APPLE iPhone 7 Plus (Jet Black, 128 GB) \t\t\t nan\n",
      "APPLE iPhone XR (Coral, 128 GB) \t\t\t nan\n",
      "APPLE iPhone 7 Plus (Gold, 256 GB) \t\t\t nan\n",
      "APPLE iPhone 12 Pro Max (Silver, 512 GB) \t\t\t nan\n",
      "APPLE iPhone 6s Plus (Silver, 32 GB) \t\t\t nan\n",
      "APPLE iPhone 6 (Gold, 32 GB) \t\t\t nan\n",
      "APPLE IPhone 4 (White, 8 GB) \t\t\t nan\n",
      "APPLE iPhone 12 Pro (Gold, 128 GB) \t\t\t nan\n",
      "APPLE iPhone 14 Pro (Silver, 128 GB) \t\t\t nan\n",
      "APPLE iPhone 8 (Silver, 256 GB) \t\t\t nan\n",
      "APPLE iPhone 12 Pro (Silver, 128 GB) \t\t\t nan\n",
      "APPLE iPhone XR (Black, 128 GB) \t\t\t nan\n",
      "APPLE iPhone 13 (Green, 512 GB) \t\t\t nan\n",
      "APPLE iPhone SE (White, 64 GB) \t\t\t nan\n",
      "APPLE iPhone 13 Pro (Gold, 1 TB) \t\t\t nan\n",
      "APPLE iPhone 13 mini (Midnight, 512 GB) \t\t\t nan\n",
      "APPLE iPhone 14 (Blue, 256 GB) \t\t\t nan\n",
      "APPLE iPhone 13 (Blue, 128 GB) \t\t\t nan\n",
      "Apple iPhone XR ((PRODUCT)RED, 256 GB) (Includes EarPods, Power Adapter) \t\t\t nan\n",
      "APPLE iPhone 7 (Red, 128 GB) \t\t\t nan\n",
      "APPLE iPhone XS Max (Space Grey, 512 GB) \t\t\t nan\n",
      "APPLE iPhone 6s (Space Grey, 32 GB) \t\t\t nan\n",
      "APPLE iPhone 12 mini (Purple, 128 GB) \t\t\t nan\n",
      "APPLE iPhone 14 Pro (Silver, 512 GB) \t\t\t nan\n",
      "APPLE iPhone 13 Pro Max (Graphite, 512 GB) \t\t\t nan\n",
      "APPLE iPhone 14 Plus (Yellow, 128 GB) \t\t\t nan\n",
      "APPLE iPhone 12 (Black, 256 GB) \t\t\t nan\n",
      "APPLE iPhone 14 Pro Max (Space Black, 128 GB) \t\t\t nan\n",
      "APPLE iPhone 13 Pro Max (Silver, 512 GB) \t\t\t nan\n",
      "APPLE iPhone 13 (Starlight, 512 GB) \t\t\t nan\n",
      "APPLE iPhone 13 Pro (Alpine Green, 512 GB) \t\t\t nan\n",
      "APPLE iPhone XR (White, 128 GB) \t\t\t nan\n",
      "APPLE iPhone 13 mini (Pink, 512 GB) \t\t\t nan\n",
      "APPLE iPhone 14 Pro Max (Deep Purple, 256 GB) \t\t\t nan\n",
      "APPLE iPhone 7 (Gold, 32 GB) \t\t\t nan\n",
      "APPLE iPhone 13 Pro (Graphite, 512 GB) \t\t\t nan\n",
      "APPLE iPhone 11 Pro (Gold, 512 GB) \t\t\t nan\n",
      "APPLE iPhone 12 Pro Max (Pacific Blue, 128 GB) \t\t\t nan\n",
      "APPLE iPhone 13 Pro (Alpine Green, 1 TB) \t\t\t nan\n",
      "APPLE iPhone 13 Pro (Graphite, 256 GB) \t\t\t nan\n",
      "Apple iPhone XR (Yellow, 128 GB) (Includes EarPods, Power Adapter) \t\t\t nan\n",
      "APPLE iPhone XR (Blue, 64 GB) \t\t\t nan\n",
      "APPLE iPhone 6 Plus (Silver, 64 GB) \t\t\t nan\n",
      "APPLE iPhone 14 Pro (Silver, 256 GB) \t\t\t nan\n",
      "APPLE iPhone 6 (Grey, 128 GB) \t\t\t nan\n",
      "APPLE iPhone 8 Plus (PRODUCT)RED (Red, 64 GB) \t\t\t nan\n",
      "APPLE iPhone 11 Pro (Gold, 64 GB) \t\t\t nan\n",
      "APPLE iPhone 6s (Space Grey, 64 GB) \t\t\t nan\n",
      "APPLE iPhone 11 Pro Max (Midnight Green, 64 GB) \t\t\t nan\n",
      "APPLE iPhone SE 3rd Gen (Product (Red), 128 GB) \t\t\t nan\n",
      "APPLE iPhone 6s Plus (Gold, 16 GB) \t\t\t nan\n",
      "Apple iPhone SE (Black, 64 GB) (Includes EarPods, Power Adapter) \t\t\t nan\n",
      "APPLE iPhone 11 Pro (Midnight Green, 64 GB) \t\t\t nan\n",
      "APPLE iPhone 6s (Gold, 64 GB) \t\t\t nan\n",
      "APPLE iPhone 8 (Silver, 64 GB) \t\t\t nan\n",
      "APPLE iPhone 14 Pro (Silver, 1 TB) \t\t\t nan\n",
      "APPLE iPhone XR (Yellow, 128 GB) \t\t\t nan\n",
      "Apple iPhone SE (White, 128 GB) (Includes EarPods, Power Adapter) \t\t\t nan\n",
      "APPLE IPhone 4 (Black, 8 GB) \t\t\t nan\n",
      "Apple iPhone XR (White, 128 GB) (Includes EarPods, Power Adapter) \t\t\t nan\n",
      "APPLE iPhone 12 mini (Red, 128 GB) \t\t\t nan\n",
      "APPLE iPhone XR (Black, 64 GB) \t\t\t nan\n",
      "APPLE iPhone 14 Plus (Starlight, 256 GB) \t\t\t nan\n",
      "APPLE iPhone 6s (Rose Gold, 128 GB) \t\t\t nan\n",
      "APPLE iPhone XS (Silver, 64 GB) \t\t\t nan\n",
      "APPLE iPhone 7 Plus (Rose Gold, 256 GB) \t\t\t nan\n",
      "APPLE iPhone 5C (Green, 16 GB) \t\t\t nan\n",
      "APPLE iPhone 12 Pro Max (Pacific Blue, 256 GB) \t\t\t nan\n",
      "APPLE iPhone XS Max (Gold, 256 GB) \t\t\t nan\n",
      "APPLE iPhone 14 (Midnight, 512 GB) \t\t\t nan\n",
      "APPLE iPhone 13 Pro Max (Alpine Green, 512 GB) \t\t\t nan\n",
      "APPLE iPhone 13 Pro (Silver, 128 GB) \t\t\t nan\n",
      "APPLE iPhone XR (Blue, 128 GB) \t\t\t nan\n",
      "Apple iPhone SE (White, 64 GB) (Includes EarPods, Power Adapter) \t\t\t nan\n",
      "APPLE iPhone 6s (Gold, 32 GB) \t\t\t nan\n",
      "APPLE iPhone 14 Plus ((PRODUCT)RED, 128 GB) \t\t\t nan\n",
      "APPLE iPhone 14 Pro Max (Deep Purple, 512 GB) \t\t\t nan\n",
      "APPLE iPhone 7 Plus (Black, 128 GB) \t\t\t nan\n",
      "APPLE iPhone 6 (Silver, 128 GB) \t\t\t nan\n",
      "APPLE iPhone 12 mini (Black, 256 GB) \t\t\t nan\n",
      "APPLE iPhone 14 (Midnight, 128 GB) \t\t\t nan\n",
      "APPLE iPhone 6s Plus (Rose Gold, 16 GB) \t\t\t nan\n",
      "APPLE iPhone 13 mini (Starlight, 256 GB) \t\t\t nan\n",
      "APPLE iPhone 13 (Starlight, 128 GB) \t\t\t nan\n",
      "APPLE iPhone 13 (Blue, 512 GB) \t\t\t nan\n",
      "APPLE iPhone 12 (Purple, 128 GB) \t\t\t nan\n",
      "APPLE iPhone 14 (Purple, 128 GB) \t\t\t nan\n",
      "APPLE iPhone 8 Plus (Space Grey, 256 GB) \t\t\t nan\n",
      "APPLE iPhone 7 Plus (Rose Gold, 32 GB) \t\t\t nan\n",
      "APPLE iPhone 13 mini (Midnight, 256 GB) \t\t\t nan\n",
      "APPLE iPhone 7 (Silver, 32 GB) \t\t\t nan\n",
      "APPLE iPhone 12 (Blue, 64 GB) \t\t\t nan\n",
      "APPLE iPhone 7 (Jet Black, 256 GB) \t\t\t nan\n",
      "Apple iPhone SE (Red, 256 GB) (Includes EarPods, Power Adapter) \t\t\t nan\n",
      "APPLE iPhone 12 (Black, 64 GB) \t\t\t nan\n",
      "APPLE iPhone 7 (Jet Black, 32 GB) \t\t\t nan\n",
      "APPLE iPhone 7 (Rose Gold, 128 GB) \t\t\t nan\n",
      "APPLE iPhone 12 Pro (Gold, 256 GB) \t\t\t nan\n",
      "APPLE iPhone 8 Plus (Gold, 64 GB) \t\t\t nan\n",
      "APPLE iPhone 13 mini (Green, 128 GB) \t\t\t nan\n",
      "APPLE iPhone 11 Pro Max (Midnight Green, 512 GB) \t\t\t nan\n",
      "APPLE iPhone 12 (Red, 128 GB) \t\t\t nan\n",
      "APPLE iPhone 13 mini (Pink, 256 GB) \t\t\t nan\n",
      "APPLE iPhone SE (Red, 64 GB) \t\t\t nan\n",
      "APPLE iPhone 6s Plus (Gold, 32 GB) \t\t\t nan\n",
      "APPLE iPhone 13 Pro Max (Gold, 128 GB) \t\t\t nan\n",
      "APPLE iPhone SE 3rd Gen (Product (Red), 64 GB) \t\t\t nan\n",
      "APPLE iPhone 13 (Starlight, 256 GB) \t\t\t nan\n",
      "APPLE iPhone 14 Pro Max (Space Black, 1 TB) \t\t\t nan\n",
      "APPLE iPhone 11 (White, 64 GB) \t\t\t nan\n",
      "Apple iPhone XR (White, 64 GB) (Includes EarPods, Power Adapter) \t\t\t nan\n",
      "APPLE iPhone XS (Space Grey, 256 GB) \t\t\t nan\n",
      "APPLE iPhone 12 mini (Purple, 64 GB) \t\t\t nan\n",
      "APPLE iPhone 6 Plus (Space Grey, 128 GB) \t\t\t nan\n",
      "APPLE iPhone SE 3rd Gen (Product (Red), 256 GB) \t\t\t nan\n",
      "APPLE iPhone 12 Pro Max (Graphite, 512 GB) \t\t\t nan\n",
      "APPLE iPhone 12 Pro (Pacific Blue, 256 GB) \t\t\t nan\n",
      "APPLE iPhone 12 mini (Red, 64 GB) \t\t\t nan\n",
      "APPLE iPhone 7 Plus (Rose Gold, 128 GB) \t\t\t nan\n",
      "APPLE iPhone 12 (Green, 64 GB) \t\t\t nan\n",
      "APPLE iPhone 6 (Gold, 128 GB) \t\t\t nan\n",
      "APPLE iPhone 11 (White, 128 GB) \t\t\t nan\n",
      "APPLE iPhone XS (Gold, 256 GB) \t\t\t nan\n",
      "APPLE iPhone 5C (White, 32 GB) \t\t\t nan\n",
      "APPLE iPhone 12 mini (Green, 128 GB) \t\t\t nan\n",
      "APPLE iPhone 5s (Silver, 16 GB) \t\t\t nan\n",
      "APPLE iPhone 13 (Midnight, 512 GB) \t\t\t nan\n",
      "APPLE iPhone 7 Plus (Gold, 32 GB) \t\t\t nan\n",
      "APPLE iPhone 14 Plus (Midnight, 512 GB) \t\t\t nan\n",
      "APPLE iPhone 14 (Purple, 256 GB) \t\t\t nan\n",
      "APPLE iPhone 12 Pro Max (Silver, 128 GB) \t\t\t nan\n",
      "APPLE iPhone XR ((PRODUCT)RED, 128 GB) \t\t\t nan\n",
      "APPLE iPhone 14 Pro (Space Black, 128 GB) \t\t\t nan\n",
      "APPLE iPhone 13 Pro Max (Silver, 1 TB) \t\t\t nan\n",
      "APPLE iPhone 12 mini (White, 64 GB) \t\t\t nan\n",
      "APPLE iPhone 6 (Gold, 64 GB) \t\t\t nan\n",
      "APPLE iPhone 12 mini (White, 256 GB) \t\t\t nan\n",
      "APPLE iPhone 14 Plus (Blue, 128 GB) \t\t\t nan\n",
      "APPLE iPhone 14 Plus (Purple, 512 GB) \t\t\t nan\n",
      "APPLE iPhone SE 3rd Gen (Midnight, 256 GB) \t\t\t nan\n",
      "APPLE iPhone 13 Pro Max (Graphite, 128 GB) \t\t\t nan\n",
      "APPLE iPhone 7 (PRODUCT) (Red, 256 GB) \t\t\t nan\n",
      "APPLE iPhone 14 Plus (Yellow, 512 GB) \t\t\t nan\n",
      "APPLE iPhone 14 Pro (Deep Purple, 512 GB) \t\t\t nan\n",
      "APPLE iPhone 12 mini (Red, 256 GB) \t\t\t nan\n",
      "APPLE iPhone 8 Plus (Space Grey, 64 GB) \t\t\t nan\n",
      "APPLE iPhone 12 (White, 128 GB) \t\t\t nan\n",
      "APPLE iPhone 12 Pro (Silver, 512 GB) \t\t\t nan\n",
      "APPLE iPhone 14 Pro Max (Silver, 512 GB) \t\t\t nan\n",
      "APPLE iPhone 7 (Silver, 128 GB) \t\t\t nan\n",
      "Apple iPhone XR (White, 256 GB) (Includes EarPods, Power Adapter) \t\t\t nan\n",
      "APPLE iPhone 13 ((PRODUCT)RED, 128 GB) \t\t\t nan\n",
      "APPLE iPhone 12 Pro Max (Silver, 256 GB) \t\t\t nan\n",
      "APPLE iPhone 13 Pro Max (Gold, 512 GB) \t\t\t nan\n",
      "APPLE iPhone 12 (Blue, 256 GB) \t\t\t nan\n",
      "APPLE iPhone 11 Pro Max (Silver, 512 GB) \t\t\t nan\n",
      "APPLE iPhone 12 (Blue, 128 GB) \t\t\t nan\n",
      "APPLE iPhone 6s Plus (Space Grey, 32 GB) \t\t\t nan\n",
      "APPLE iPhone 13 Pro (Silver, 256 GB) \t\t\t nan\n",
      "APPLE iPhone XR (Coral, 64 GB) \t\t\t nan\n",
      "Apple iPhone XR (Blue, 128 GB) (Includes EarPods, Power Adapter) \t\t\t nan\n",
      "APPLE iPhone 12 mini (Blue, 64 GB) \t\t\t nan\n",
      "APPLE iPhone 12 mini (Blue, 64 GB) \t\t\t nan\n",
      "APPLE iPhone 13 mini (Blue, 512 GB) \t\t\t nan\n",
      "APPLE iPhone 13 (Blue, 256 GB) \t\t\t nan\n",
      "APPLE iPhone 6 Plus (Gold, 128 GB) \t\t\t nan\n",
      "APPLE iPhone 12 Pro Max (Graphite, 256 GB) \t\t\t nan\n",
      "APPLE iPhone 8 Plus (Silver, 64 GB) \t\t\t nan\n",
      "APPLE iPhone 8 (PRODUCT)RED (Red, 256 GB) \t\t\t nan\n",
      "APPLE iPhone 11 Pro Max (Silver, 64 GB) \t\t\t nan\n",
      "APPLE iPhone XS Max (Gold, 512 GB) \t\t\t nan\n",
      "APPLE iPhone 12 mini (Black, 64 GB) \t\t\t nan\n",
      "APPLE iPhone 14 Pro (Space Black, 256 GB) \t\t\t nan\n",
      "APPLE iPhone 13 Pro (Gold, 128 GB) \t\t\t nan\n",
      "APPLE iPhone 5C (Blue, 8 GB) \t\t\t nan\n",
      "APPLE iPhone 13 Pro Max (Alpine Green, 1 TB) \t\t\t nan\n",
      "Apple iPhone XR (Black, 256 GB) (Includes EarPods, Power Adapter) \t\t\t nan\n",
      "APPLE iPhone 12 Pro (Silver, 256 GB) \t\t\t nan\n",
      "APPLE iPhone 14 (Purple, 512 GB) \t\t\t nan\n",
      "APPLE iPhone 14 Pro Max (Gold, 1 TB) \t\t\t nan\n",
      "APPLE iPhone 14 Plus (Blue, 256 GB) \t\t\t nan\n",
      "Apple iPhone SE (Red, 128 GB) (Includes EarPods, Power Adapter) \t\t\t nan\n",
      "APPLE iPhone 7 Plus (Black, 256 GB) \t\t\t nan\n",
      "APPLE iPhone 13 mini ((PRODUCT)RED, 256 GB) \t\t\t nan\n",
      "APPLE iPhone 12 (Green, 128 GB) \t\t\t nan\n",
      "APPLE iPhone 11 (Purple, 128 GB) \t\t\t nan\n",
      "APPLE iPhone 13 Pro (Gold, 512 GB) \t\t\t nan\n",
      "APPLE iPhone 11 Pro (Silver, 64 GB) \t\t\t nan\n",
      "APPLE iPhone 14 (Starlight, 512 GB) \t\t\t nan\n",
      "APPLE iPhone 11 Pro (Silver, 256 GB) \t\t\t nan\n",
      "Apple iPhone XR (Coral, 128 GB) (Includes EarPods, Power Adapter) \t\t\t nan\n",
      "APPLE iPhone 13 Pro Max (Silver, 256 GB) \t\t\t nan\n",
      "APPLE iPhone 12 (Green, 256 GB) \t\t\t nan\n",
      "APPLE iPhone 13 Pro (Sierra Blue, 128 GB) \t\t\t nan\n",
      "APPLE iPhone 5C (Green, 8 GB) \t\t\t nan\n",
      "APPLE iPhone 14 Plus (Purple, 256 GB) \t\t\t nan\n",
      "APPLE iPhone 8 (Space Grey, 256 GB) \t\t\t nan\n",
      "APPLE iPhone 11 Pro Max (Space Grey, 512 GB) \t\t\t nan\n",
      "APPLE iPhone 5C (White, 16 GB) \t\t\t nan\n",
      "APPLE iPhone 6s (Silver, 128 GB) \t\t\t nan\n",
      "APPLE iPhone 6 (Silver, 16 GB) \t\t\t nan\n",
      "APPLE iPhone 14 Plus (Blue, 512 GB) \t\t\t nan\n",
      "APPLE iPhone 14 Plus (Yellow, 256 GB) \t\t\t nan\n",
      "APPLE iPhone 13 Pro (Sierra Blue, 256 GB) \t\t\t nan\n",
      "APPLE iPhone 11 Pro Max (Gold, 256 GB) \t\t\t nan\n",
      "APPLE iPhone 13 mini (Blue, 256 GB) \t\t\t nan\n",
      "APPLE iPhone 6s Plus (Silver, 128 GB) \t\t\t nan\n",
      "APPLE iPhone 7 (Silver, 128 GB) \t\t\t nan\n",
      "APPLE iPhone 14 Pro (Deep Purple, 256 GB) \t\t\t nan\n",
      "APPLE iPhone 8 Plus (Silver, 256 GB) \t\t\t nan\n",
      "APPLE iPhone 12 Pro (Gold, 512 GB) \t\t\t nan\n",
      "APPLE iPhone 14 Pro Max (Silver, 512 GB) \t\t\t nan\n",
      "APPLE iPhone 13 (Green, 128 GB) \t\t\t nan\n",
      "APPLE iPhone 14 Pro Max (Silver, 1 TB) \t\t\t nan\n",
      "APPLE iPhone 12 (Red, 64 GB) \t\t\t nan\n",
      "APPLE iPhone 6s (Gold, 16 GB) \t\t\t nan\n",
      "APPLE iPhone 14 Pro (Deep Purple, 128 GB) \t\t\t nan\n",
      "APPLE iPhone 11 Pro (Space Grey, 256 GB) \t\t\t nan\n",
      "APPLE iPhone 6 Plus (Space Grey, 64 GB) \t\t\t nan\n",
      "APPLE iPhone 13 mini (Starlight, 512 GB) \t\t\t nan\n",
      "APPLE iPhone 13 (Midnight, 128 GB) \t\t\t nan\n",
      "APPLE iPhone 14 (Blue, 512 GB) \t\t\t nan\n",
      "APPLE iPhone 6s Plus (Silver, 64 GB) \t\t\t nan\n",
      "APPLE iPhone 11 Pro (Gold, 256 GB) \t\t\t nan\n",
      "APPLE iPhone 14 (Yellow, 256 GB) \t\t\t nan\n",
      "APPLE iPhone 12 Pro (Graphite, 256 GB) \t\t\t nan\n",
      "APPLE iPhone 7 (Black, 128 GB) \t\t\t nan\n",
      "APPLE iPhone 6s (Silver, 32 GB) \t\t\t nan\n",
      "APPLE iPhone 6s Plus (Gold, 128 GB) \t\t\t nan\n",
      "APPLE iPhone 6 Plus (Gold, 64 GB) \t\t\t nan\n",
      "APPLE iPhone 6s (Space Grey, 16 GB) \t\t\t nan\n",
      "APPLE iPhone 7 (Gold, 128 GB) \t\t\t nan\n",
      "Apple iPhone SE (Black, 256 GB) (Includes EarPods, Power Adapter) \t\t\t nan\n",
      "APPLE iPhone 8 (Space Grey, 64 GB) \t\t\t nan\n",
      "APPLE iPhone 7 Plus (Silver, 128 GB) \t\t\t nan\n",
      "APPLE iPhone 13 mini (Pink, 128 GB) \t\t\t nan\n",
      "APPLE iPhone 11 (Yellow, 64 GB) \t\t\t nan\n",
      "APPLE iPhone 12 Pro (Graphite, 128 GB) \t\t\t nan\n",
      "APPLE iPhone 14 Pro (Deep Purple, 1 TB) \t\t\t nan\n",
      "APPLE iPhone 12 (Purple, 64 GB) \t\t\t nan\n",
      "APPLE iPhone 5C (Pink, 8 GB) \t\t\t nan\n",
      "APPLE iPhone 6 Plus (Space Grey, 16 GB) \t\t\t nan\n",
      "APPLE iPhone 5C (White, 8 GB) \t\t\t nan\n",
      "Apple iPhone XR (Coral, 256 GB) (Includes EarPods, Power Adapter) \t\t\t nan\n",
      "APPLE iPhone 14 ((PRODUCT)RED, 512 GB) \t\t\t nan\n",
      "APPLE iPhone 7 (Rose Gold, 32 GB) \t\t\t nan\n",
      "APPLE iPhone X (Space Gray, 256 GB) \t\t\t nan\n",
      "APPLE iPhone XS (Space Grey, 512 GB) \t\t\t nan\n",
      "APPLE iPhone 8 Plus (PRODUCT)RED (Red, 256 GB) \t\t\t nan\n",
      "APPLE iPhone 13 Pro Max (Alpine Green, 128 GB) \t\t\t nan\n",
      "APPLE iPhone 6 Plus (Silver, 16 GB) \t\t\t nan\n"
     ]
    },
    {
     "name": "stdout",
     "output_type": "stream",
     "text": [
      "APPLE iPhone 12 Pro Max (Gold, 128 GB) \t\t\t nan\n",
      "APPLE iPhone 7 (Red, 128 GB) \t\t\t nan\n",
      "APPLE iPhone 13 (Pink, 512 GB) \t\t\t nan\n",
      "APPLE iPhone XS Max (Space Grey, 256 GB) \t\t\t nan\n",
      "APPLE iPhone 14 Plus ((PRODUCT)RED, 256 GB) \t\t\t nan\n",
      "APPLE iPhone 6s (Rose Gold, 64 GB) \t\t\t nan\n",
      "APPLE iPhone 11 (Yellow, 64 GB) \t\t\t nan\n",
      "APPLE iPhone 7 Plus (Jet Black, 256 GB) \t\t\t nan\n",
      "APPLE iPhone 11 Pro Max (Space Grey, 256 GB) \t\t\t nan\n",
      "APPLE iPhone 11 (Purple, 64 GB) \t\t\t nan\n",
      "APPLE iPhone SE (Red, 256 GB) \t\t\t nan\n",
      "APPLE iPhone 14 Plus (Starlight, 128 GB) \t\t\t nan\n",
      "Apple iPhone XR ((PRODUCT)RED, 64 GB) (Includes EarPods, Power Adapter) \t\t\t nan\n",
      "APPLE iPhone 12 Pro (Pacific Blue, 512 GB) \t\t\t nan\n",
      "APPLE iPhone 13 (Pink, 256 GB) \t\t\t nan\n",
      "APPLE iPhone 13 Pro (Graphite, 128 GB) \t\t\t nan\n",
      "APPLE iPhone 8 (Space Grey, 256 GB) \t\t\t nan\n"
     ]
    }
   ],
   "source": [
    "for i in range(len(data_ram)):\n",
    "    if (data_ram['RAM'].to_numpy()[i]==16 or data_ram['RAM'].to_numpy()[i]==12 or data_ram['RAM'].to_numpy()[i]==8 or data_ram['RAM'].to_numpy()[i]==1 or data_ram['RAM'].to_numpy()[i]==2 or data_ram['RAM'].to_numpy()[i]==3 or data_ram['RAM'].to_numpy()[i]==4 or data_ram['RAM'].to_numpy()[i]==6):\n",
    "        pass\n",
    "    elif(data_ram['Brand'].to_numpy()[i]!='Apple'):\n",
    "        print(data_ram['name'][data_ram.index[i]], '\\t\\t\\t',data_ram['RAM'][data_ram.index[i]])\n",
    "    else:\n",
    "        pass\n",
    "\n",
    "for i in range(len(data_ram)):\n",
    "    if (data_ram['RAM'].to_numpy()[i]==16 or data_ram['RAM'].to_numpy()[i]==12 or data_ram['RAM'].to_numpy()[i]==8 or data_ram['RAM'].to_numpy()[i]==1 or data_ram['RAM'].to_numpy()[i]==2 or data_ram['RAM'].to_numpy()[i]==3 or data_ram['RAM'].to_numpy()[i]==4 or data_ram['RAM'].to_numpy()[i]==6):\n",
    "        pass\n",
    "    elif(data_ram['Brand'].to_numpy()[i]!='Apple'):\n",
    "        pass\n",
    "    else:\n",
    "        print(data_ram['name'][data_ram.index[i]], '\\t\\t\\t',data_ram['RAM'][data_ram.index[i]])"
   ]
  },
  {
   "cell_type": "code",
   "execution_count": 448,
   "id": "594eb56c",
   "metadata": {
    "scrolled": true
   },
   "outputs": [
    {
     "data": {
      "text/html": [
       "<div>\n",
       "<style scoped>\n",
       "    .dataframe tbody tr th:only-of-type {\n",
       "        vertical-align: middle;\n",
       "    }\n",
       "\n",
       "    .dataframe tbody tr th {\n",
       "        vertical-align: top;\n",
       "    }\n",
       "\n",
       "    .dataframe thead th {\n",
       "        text-align: right;\n",
       "    }\n",
       "</style>\n",
       "<table border=\"1\" class=\"dataframe\">\n",
       "  <thead>\n",
       "    <tr style=\"text-align: right;\">\n",
       "      <th></th>\n",
       "      <th>name</th>\n",
       "      <th>ratings</th>\n",
       "      <th>price</th>\n",
       "      <th>imgURL</th>\n",
       "      <th>corpus</th>\n",
       "      <th>OS</th>\n",
       "      <th>Brand</th>\n",
       "      <th>Storage</th>\n",
       "      <th>RAM</th>\n",
       "    </tr>\n",
       "  </thead>\n",
       "  <tbody>\n",
       "    <tr>\n",
       "      <th>0</th>\n",
       "      <td>REDMI Note 12 Pro 5G (Onyx Black, 128 GB)</td>\n",
       "      <td>4.2</td>\n",
       "      <td>23999</td>\n",
       "      <td>https://rukminim2.flixcart.com/image/312/312/x...</td>\n",
       "      <td>Storage128 GBRAM6  SystemAndroid 12Processor T...</td>\n",
       "      <td>Android</td>\n",
       "      <td>Xiaomi</td>\n",
       "      <td>128.0</td>\n",
       "      <td>6.0</td>\n",
       "    </tr>\n",
       "    <tr>\n",
       "      <th>1</th>\n",
       "      <td>OPPO F11 Pro (Aurora Green, 128 GB)</td>\n",
       "      <td>4.5</td>\n",
       "      <td>20999</td>\n",
       "      <td>https://rukminim2.flixcart.com/image/312/312/k...</td>\n",
       "      <td>Storage128 GBRAM6 GBExpandable Storage256GB  S...</td>\n",
       "      <td>Android</td>\n",
       "      <td>OPPO</td>\n",
       "      <td>128.0</td>\n",
       "      <td>6.0</td>\n",
       "    </tr>\n",
       "    <tr>\n",
       "      <th>2</th>\n",
       "      <td>REDMI Note 11 (Starburst White, 64 GB)</td>\n",
       "      <td>4.2</td>\n",
       "      <td>13149</td>\n",
       "      <td>https://rukminim2.flixcart.com/image/312/312/x...</td>\n",
       "      <td>Storage64 GBRAM4  SystemAndroid 11Processor Sp...</td>\n",
       "      <td>Android</td>\n",
       "      <td>Xiaomi</td>\n",
       "      <td>64.0</td>\n",
       "      <td>4.0</td>\n",
       "    </tr>\n",
       "    <tr>\n",
       "      <th>3</th>\n",
       "      <td>OnePlus Nord CE 5G (Blue Void, 256 GB)</td>\n",
       "      <td>4.1</td>\n",
       "      <td>21999</td>\n",
       "      <td>https://rukminim2.flixcart.com/image/312/312/x...</td>\n",
       "      <td>Storage256 GBRAM12  SystemAndroid Q 11Processo...</td>\n",
       "      <td>Android</td>\n",
       "      <td>OnePlus</td>\n",
       "      <td>256.0</td>\n",
       "      <td>12.0</td>\n",
       "    </tr>\n",
       "    <tr>\n",
       "      <th>4</th>\n",
       "      <td>APPLE iPhone 13 mini (Blue, 128 GB)</td>\n",
       "      <td>4.6</td>\n",
       "      <td>3537</td>\n",
       "      <td>https://rukminim2.flixcart.com/image/312/312/k...</td>\n",
       "      <td>Storage128  SystemiOS 15Processor TypeA15 Bion...</td>\n",
       "      <td>iOS</td>\n",
       "      <td>Apple</td>\n",
       "      <td>128.0</td>\n",
       "      <td>NaN</td>\n",
       "    </tr>\n",
       "    <tr>\n",
       "      <th>5</th>\n",
       "      <td>APPLE iPhone 6s Plus (Gold, 64 GB)</td>\n",
       "      <td>4.5</td>\n",
       "      <td>5537</td>\n",
       "      <td>https://rukminim2.flixcart.com/image/312/312/m...</td>\n",
       "      <td>Storage64  SystemiOS 9Processor TypeA9 Chip 12...</td>\n",
       "      <td>iOS</td>\n",
       "      <td>Apple</td>\n",
       "      <td>64.0</td>\n",
       "      <td>NaN</td>\n",
       "    </tr>\n",
       "    <tr>\n",
       "      <th>6</th>\n",
       "      <td>REDMI 10 Power (Sporty Orange, 128 GB)</td>\n",
       "      <td>4.2</td>\n",
       "      <td>18996</td>\n",
       "      <td>https://rukminim2.flixcart.com/image/312/312/x...</td>\n",
       "      <td>Storage128 GBRAM8  SystemAndroid 13Processor S...</td>\n",
       "      <td>Android</td>\n",
       "      <td>Xiaomi</td>\n",
       "      <td>128.0</td>\n",
       "      <td>8.0</td>\n",
       "    </tr>\n",
       "    <tr>\n",
       "      <th>7</th>\n",
       "      <td>Infinix Hot 11 (Emerald Green, 64 GB)</td>\n",
       "      <td>4.3</td>\n",
       "      <td>9999</td>\n",
       "      <td>https://rukminim2.flixcart.com/image/312/312/k...</td>\n",
       "      <td>Storage64 GBRAM4 GBExpandable Storage256GB  Sy...</td>\n",
       "      <td>Android</td>\n",
       "      <td>Infinix</td>\n",
       "      <td>64.0</td>\n",
       "      <td>4.0</td>\n",
       "    </tr>\n",
       "    <tr>\n",
       "      <th>8</th>\n",
       "      <td>Infinix Note 10 Pro (Nordic Secret, 256 GB)</td>\n",
       "      <td>4.2</td>\n",
       "      <td>16999</td>\n",
       "      <td>https://rukminim2.flixcart.com/image/312/312/k...</td>\n",
       "      <td>Storage256 GBRAM8 GBExpandable Storage256GB  S...</td>\n",
       "      <td>Android</td>\n",
       "      <td>Infinix</td>\n",
       "      <td>256.0</td>\n",
       "      <td>8.0</td>\n",
       "    </tr>\n",
       "    <tr>\n",
       "      <th>9</th>\n",
       "      <td>SAMSUNG Galaxy A04 (Green, 128 GB)</td>\n",
       "      <td>4.0</td>\n",
       "      <td>12999</td>\n",
       "      <td>https://rukminim2.flixcart.com/image/312/312/x...</td>\n",
       "      <td>Storage128 GBRAM4 GBTotal Memory128GB  SystemA...</td>\n",
       "      <td>Android</td>\n",
       "      <td>Samsung</td>\n",
       "      <td>128.0</td>\n",
       "      <td>4.0</td>\n",
       "    </tr>\n",
       "  </tbody>\n",
       "</table>\n",
       "</div>"
      ],
      "text/plain": [
       "                                          name  ratings  price  \\\n",
       "0    REDMI Note 12 Pro 5G (Onyx Black, 128 GB)      4.2  23999   \n",
       "1          OPPO F11 Pro (Aurora Green, 128 GB)      4.5  20999   \n",
       "2       REDMI Note 11 (Starburst White, 64 GB)      4.2  13149   \n",
       "3       OnePlus Nord CE 5G (Blue Void, 256 GB)      4.1  21999   \n",
       "4          APPLE iPhone 13 mini (Blue, 128 GB)      4.6   3537   \n",
       "5           APPLE iPhone 6s Plus (Gold, 64 GB)      4.5   5537   \n",
       "6       REDMI 10 Power (Sporty Orange, 128 GB)      4.2  18996   \n",
       "7        Infinix Hot 11 (Emerald Green, 64 GB)      4.3   9999   \n",
       "8  Infinix Note 10 Pro (Nordic Secret, 256 GB)      4.2  16999   \n",
       "9           SAMSUNG Galaxy A04 (Green, 128 GB)      4.0  12999   \n",
       "\n",
       "                                              imgURL  \\\n",
       "0  https://rukminim2.flixcart.com/image/312/312/x...   \n",
       "1  https://rukminim2.flixcart.com/image/312/312/k...   \n",
       "2  https://rukminim2.flixcart.com/image/312/312/x...   \n",
       "3  https://rukminim2.flixcart.com/image/312/312/x...   \n",
       "4  https://rukminim2.flixcart.com/image/312/312/k...   \n",
       "5  https://rukminim2.flixcart.com/image/312/312/m...   \n",
       "6  https://rukminim2.flixcart.com/image/312/312/x...   \n",
       "7  https://rukminim2.flixcart.com/image/312/312/k...   \n",
       "8  https://rukminim2.flixcart.com/image/312/312/k...   \n",
       "9  https://rukminim2.flixcart.com/image/312/312/x...   \n",
       "\n",
       "                                              corpus       OS    Brand  \\\n",
       "0  Storage128 GBRAM6  SystemAndroid 12Processor T...  Android   Xiaomi   \n",
       "1  Storage128 GBRAM6 GBExpandable Storage256GB  S...  Android     OPPO   \n",
       "2  Storage64 GBRAM4  SystemAndroid 11Processor Sp...  Android   Xiaomi   \n",
       "3  Storage256 GBRAM12  SystemAndroid Q 11Processo...  Android  OnePlus   \n",
       "4  Storage128  SystemiOS 15Processor TypeA15 Bion...      iOS    Apple   \n",
       "5  Storage64  SystemiOS 9Processor TypeA9 Chip 12...      iOS    Apple   \n",
       "6  Storage128 GBRAM8  SystemAndroid 13Processor S...  Android   Xiaomi   \n",
       "7  Storage64 GBRAM4 GBExpandable Storage256GB  Sy...  Android  Infinix   \n",
       "8  Storage256 GBRAM8 GBExpandable Storage256GB  S...  Android  Infinix   \n",
       "9  Storage128 GBRAM4 GBTotal Memory128GB  SystemA...  Android  Samsung   \n",
       "\n",
       "   Storage   RAM  \n",
       "0    128.0   6.0  \n",
       "1    128.0   6.0  \n",
       "2     64.0   4.0  \n",
       "3    256.0  12.0  \n",
       "4    128.0   NaN  \n",
       "5     64.0   NaN  \n",
       "6    128.0   8.0  \n",
       "7     64.0   4.0  \n",
       "8    256.0   8.0  \n",
       "9    128.0   4.0  "
      ]
     },
     "execution_count": 448,
     "metadata": {},
     "output_type": "execute_result"
    }
   ],
   "source": [
    "\n",
    "data_ram.head(10)\n"
   ]
  },
  {
   "cell_type": "code",
   "execution_count": 449,
   "id": "a31df8e4",
   "metadata": {},
   "outputs": [
    {
     "data": {
      "image/png": "[encoded data removed]",
      "text/plain": [
       "<Figure size 1000x500 with 1 Axes>"
      ]
     },
     "metadata": {},
     "output_type": "display_data"
    }
   ],
   "source": [
    "# Brand vs price visualization\n",
    "avg = data_ram.groupby('Brand')['price'].mean()\n",
    "avg = avg.sort_values(ascending=False)\n",
    "avg.plot(kind = 'barh', rot=0, figsize=(10, 5), color=['#1f77b4', '#d9534f', '#5cb85c'])\n",
    "plt.title('Average Price of different Brands')\n",
    "plt.xlabel('Average Price')\n",
    "plt.ylabel('Brand')\n",
    "plt.show()"
   ]
  },
  {
   "cell_type": "markdown",
   "id": "8e5041db",
   "metadata": {},
   "source": [
    "### Data Mining"
   ]
  },
  {
   "cell_type": "code",
   "execution_count": 829,
   "id": "6170c2e2",
   "metadata": {
    "scrolled": false
   },
   "outputs": [],
   "source": [
    "data_final = data_ram\n",
    "\n",
    "# function to find the list of all suitable mobile phones\n",
    "def find_mobiles(brand, storage, min_price, max_price):\n",
    "    filtered_list = data_final[(data_final['Brand'] == brand) & (data_final['Storage'] == storage) & \n",
    "    (data_final['price'] >= min_price) & (data_final['price'] <= max_price)]\n",
    "    return filtered_list.sort_values(by='ratings', ascending=False).head(10)\n",
    "\n",
    "# function to generate the list of all recommendations for mobile phones\n",
    "def recommend_mobiles(brand, storage, min_price, max_price):\n",
    "    filtered_list = data_final[(data_final['Brand'] == brand) & (data_final['Storage'] == storage) & \n",
    "    (data_final['price'] >= min_price) & (data_final['price'] <= max_price)]\n",
    "    return filtered_list.sort_values(by='ratings', ascending=False)\n"
   ]
  },
  {
   "cell_type": "code",
   "execution_count": 730,
   "id": "29296232",
   "metadata": {
    "scrolled": true
   },
   "outputs": [
    {
     "data": {
      "application/vnd.jupyter.widget-view+json": {
       "model_id": "d2fc2b35445a4ad49c5aceceee95466a",
       "version_major": 2,
       "version_minor": 0
      },
      "text/plain": [
       "interactive(children=(Dropdown(description='Brand', options=('Apple', 'Samsung', 'Xiaomi', 'Motorola', 'Vivo',…"
      ]
     },
     "metadata": {},
     "output_type": "display_data"
    },
    {
     "data": {
      "application/vnd.jupyter.widget-view+json": {
       "model_id": "a1eec65410704862bbf9161de0b019e6",
       "version_major": 2,
       "version_minor": 0
      },
      "text/plain": [
       "interactive(children=(Dropdown(description='Storage', options=(64.0, 128.0, 256.0, 32.0, 16.0, 8.0, 512.0, 102…"
      ]
     },
     "metadata": {},
     "output_type": "display_data"
    },
    {
     "data": {
      "application/vnd.jupyter.widget-view+json": {
       "model_id": "e4d5413c01864ebeb23d8c1fe54ab03e",
       "version_major": 2,
       "version_minor": 0
      },
      "text/plain": [
       "interactive(children=(IntSlider(value=6000, description='min_price', max=10000, min=2000), Output()), _dom_cla…"
      ]
     },
     "metadata": {},
     "output_type": "display_data"
    },
    {
     "data": {
      "application/vnd.jupyter.widget-view+json": {
       "model_id": "bebdbdb5b83b410a9b47d702731d140f",
       "version_major": 2,
       "version_minor": 0
      },
      "text/plain": [
       "interactive(children=(IntSlider(value=55000, description='max_price', max=100000, min=10000), Output()), _dom_…"
      ]
     },
     "metadata": {},
     "output_type": "display_data"
    },
    {
     "data": {
      "application/vnd.jupyter.widget-view+json": {
       "model_id": "7f34ddaf7a124ec28552b3fa16c4846d",
       "version_major": 2,
       "version_minor": 0
      },
      "text/plain": [
       "Button(description='Search', style=ButtonStyle())"
      ]
     },
     "metadata": {},
     "output_type": "display_data"
    },
    {
     "data": {
      "application/vnd.jupyter.widget-view+json": {
       "model_id": "1efb172f04da48b2a2eec1e080c85a1b",
       "version_major": 2,
       "version_minor": 0
      },
      "text/plain": [
       "Output()"
      ]
     },
     "metadata": {},
     "output_type": "display_data"
    }
   ],
   "source": [
    "from ipywidgets import interact\n",
    "from IPython.display import clear_output\n",
    "def update_list():\n",
    "    global list\n",
    "    list = find_mobiles(brand=brand2, storage=storage2,  min_price=min_p, max_price=max_p)\n",
    "    \n",
    "\n",
    "brand2=\"\"\n",
    "ram2=\"\"\n",
    "storage2=\"\"\n",
    "min_p=0\n",
    "max_p=0\n",
    "\n",
    "def func_brand(Brand):\n",
    "    global brand2\n",
    "    brand2=Brand\n",
    "    update_list()\n",
    "    \n",
    "def func_storage(Storage):\n",
    "    global storage2\n",
    "    storage2=Storage\n",
    "    update_list()\n",
    "\n",
    "\n",
    "def func_min_price(min_price):\n",
    "    global min_p\n",
    "    min_p=min_price\n",
    "    update_list()\n",
    "\n",
    "def func_max_price(max_price):\n",
    "    global max_p\n",
    "    max_p=max_price\n",
    "    update_list()\n",
    "\n",
    "a  = interact(func_brand, Brand=['Apple', 'Samsung', 'Xiaomi', 'Motorola', 'Vivo', 'OPPO', 'Realme', 'Infinix', 'OnePlus', 'Tecno'])\n",
    "e  = interact(func_storage, Storage=[64.0, 128.0, 256.0, 32.0, 16.0, 8.0, 512.0, 1024.0])\n",
    "c = interact(func_min_price, min_price=(2000,10000));\n",
    "d = interact(func_max_price, max_price=(10000,100000));\n",
    "update_list()\n",
    "\n",
    "import ipywidgets as widgets\n",
    "\n",
    "\n",
    "button = widgets.Button(description=\"Search\")\n",
    "output = widgets.Output()\n",
    "\n",
    "display(button, output)\n",
    "\n",
    "@output.capture()\n",
    "def on_button_clicked(b):\n",
    "    global list\n",
    "    clear_output(wait=True)\n",
    "    print('Top 10 result based on ratings:- ')\n",
    "    i=1\n",
    "    for ind in list.index:\n",
    "        print(f\"{i}. {list['name'][ind]} at ₹{list['price'][ind]} - ({list['ratings'][ind]})\")\n",
    "        i=i+1\n",
    "\n",
    "button.on_click(on_button_clicked)"
   ]
  },
  {
   "cell_type": "markdown",
   "id": "890fcbf5",
   "metadata": {},
   "source": [
    "### Recommendation System"
   ]
  },
  {
   "cell_type": "code",
   "execution_count": 793,
   "id": "56cf8fc6",
   "metadata": {},
   "outputs": [
    {
     "data": {
      "text/html": [
       "<div>\n",
       "<style scoped>\n",
       "    .dataframe tbody tr th:only-of-type {\n",
       "        vertical-align: middle;\n",
       "    }\n",
       "\n",
       "    .dataframe tbody tr th {\n",
       "        vertical-align: top;\n",
       "    }\n",
       "\n",
       "    .dataframe thead th {\n",
       "        text-align: right;\n",
       "    }\n",
       "</style>\n",
       "<table border=\"1\" class=\"dataframe\">\n",
       "  <thead>\n",
       "    <tr style=\"text-align: right;\">\n",
       "      <th></th>\n",
       "      <th>name</th>\n",
       "      <th>ratings</th>\n",
       "      <th>price</th>\n",
       "      <th>imgURL</th>\n",
       "      <th>corpus</th>\n",
       "      <th>OS</th>\n",
       "      <th>Brand</th>\n",
       "      <th>Storage</th>\n",
       "      <th>RAM</th>\n",
       "    </tr>\n",
       "  </thead>\n",
       "  <tbody>\n",
       "    <tr>\n",
       "      <th>0</th>\n",
       "      <td>REDMI Note 12 Pro 5G (Onyx Black, 128 GB)</td>\n",
       "      <td>4.2</td>\n",
       "      <td>23999</td>\n",
       "      <td>https://rukminim2.flixcart.com/image/312/312/x...</td>\n",
       "      <td>Storage128 GBRAM6  SystemAndroid 12Processor T...</td>\n",
       "      <td>Android</td>\n",
       "      <td>Xiaomi</td>\n",
       "      <td>128.0</td>\n",
       "      <td>6.0</td>\n",
       "    </tr>\n",
       "    <tr>\n",
       "      <th>1</th>\n",
       "      <td>OPPO F11 Pro (Aurora Green, 128 GB)</td>\n",
       "      <td>4.5</td>\n",
       "      <td>20999</td>\n",
       "      <td>https://rukminim2.flixcart.com/image/312/312/k...</td>\n",
       "      <td>Storage128 GBRAM6 GBExpandable Storage256GB  S...</td>\n",
       "      <td>Android</td>\n",
       "      <td>OPPO</td>\n",
       "      <td>128.0</td>\n",
       "      <td>6.0</td>\n",
       "    </tr>\n",
       "    <tr>\n",
       "      <th>2</th>\n",
       "      <td>REDMI Note 11 (Starburst White, 64 GB)</td>\n",
       "      <td>4.2</td>\n",
       "      <td>13149</td>\n",
       "      <td>https://rukminim2.flixcart.com/image/312/312/x...</td>\n",
       "      <td>Storage64 GBRAM4  SystemAndroid 11Processor Sp...</td>\n",
       "      <td>Android</td>\n",
       "      <td>Xiaomi</td>\n",
       "      <td>64.0</td>\n",
       "      <td>4.0</td>\n",
       "    </tr>\n",
       "    <tr>\n",
       "      <th>3</th>\n",
       "      <td>OnePlus Nord CE 5G (Blue Void, 256 GB)</td>\n",
       "      <td>4.1</td>\n",
       "      <td>21999</td>\n",
       "      <td>https://rukminim2.flixcart.com/image/312/312/x...</td>\n",
       "      <td>Storage256 GBRAM12  SystemAndroid Q 11Processo...</td>\n",
       "      <td>Android</td>\n",
       "      <td>OnePlus</td>\n",
       "      <td>256.0</td>\n",
       "      <td>12.0</td>\n",
       "    </tr>\n",
       "    <tr>\n",
       "      <th>4</th>\n",
       "      <td>APPLE iPhone 13 mini (Blue, 128 GB)</td>\n",
       "      <td>4.6</td>\n",
       "      <td>3537</td>\n",
       "      <td>https://rukminim2.flixcart.com/image/312/312/k...</td>\n",
       "      <td>Storage128  SystemiOS 15Processor TypeA15 Bion...</td>\n",
       "      <td>iOS</td>\n",
       "      <td>Apple</td>\n",
       "      <td>128.0</td>\n",
       "      <td>NaN</td>\n",
       "    </tr>\n",
       "  </tbody>\n",
       "</table>\n",
       "</div>"
      ],
      "text/plain": [
       "                                        name  ratings  price  \\\n",
       "0  REDMI Note 12 Pro 5G (Onyx Black, 128 GB)      4.2  23999   \n",
       "1        OPPO F11 Pro (Aurora Green, 128 GB)      4.5  20999   \n",
       "2     REDMI Note 11 (Starburst White, 64 GB)      4.2  13149   \n",
       "3     OnePlus Nord CE 5G (Blue Void, 256 GB)      4.1  21999   \n",
       "4        APPLE iPhone 13 mini (Blue, 128 GB)      4.6   3537   \n",
       "\n",
       "                                              imgURL  \\\n",
       "0  https://rukminim2.flixcart.com/image/312/312/x...   \n",
       "1  https://rukminim2.flixcart.com/image/312/312/k...   \n",
       "2  https://rukminim2.flixcart.com/image/312/312/x...   \n",
       "3  https://rukminim2.flixcart.com/image/312/312/x...   \n",
       "4  https://rukminim2.flixcart.com/image/312/312/k...   \n",
       "\n",
       "                                              corpus       OS    Brand  \\\n",
       "0  Storage128 GBRAM6  SystemAndroid 12Processor T...  Android   Xiaomi   \n",
       "1  Storage128 GBRAM6 GBExpandable Storage256GB  S...  Android     OPPO   \n",
       "2  Storage64 GBRAM4  SystemAndroid 11Processor Sp...  Android   Xiaomi   \n",
       "3  Storage256 GBRAM12  SystemAndroid Q 11Processo...  Android  OnePlus   \n",
       "4  Storage128  SystemiOS 15Processor TypeA15 Bion...      iOS    Apple   \n",
       "\n",
       "   Storage   RAM  \n",
       "0    128.0   6.0  \n",
       "1    128.0   6.0  \n",
       "2     64.0   4.0  \n",
       "3    256.0  12.0  \n",
       "4    128.0   NaN  "
      ]
     },
     "execution_count": 793,
     "metadata": {},
     "output_type": "execute_result"
    }
   ],
   "source": [
    "# copying dataframe to generate association rules\n",
    "data_rec = data_final.copy()\n",
    "data_rec.head()"
   ]
  },
  {
   "cell_type": "code",
   "execution_count": 794,
   "id": "4285f74f",
   "metadata": {},
   "outputs": [
    {
     "data": {
      "text/html": [
       "<div>\n",
       "<style scoped>\n",
       "    .dataframe tbody tr th:only-of-type {\n",
       "        vertical-align: middle;\n",
       "    }\n",
       "\n",
       "    .dataframe tbody tr th {\n",
       "        vertical-align: top;\n",
       "    }\n",
       "\n",
       "    .dataframe thead th {\n",
       "        text-align: right;\n",
       "    }\n",
       "</style>\n",
       "<table border=\"1\" class=\"dataframe\">\n",
       "  <thead>\n",
       "    <tr style=\"text-align: right;\">\n",
       "      <th></th>\n",
       "      <th>OS</th>\n",
       "      <th>Brand</th>\n",
       "      <th>Storage</th>\n",
       "    </tr>\n",
       "  </thead>\n",
       "  <tbody>\n",
       "    <tr>\n",
       "      <th>0</th>\n",
       "      <td>Android</td>\n",
       "      <td>Xiaomi</td>\n",
       "      <td>128.0</td>\n",
       "    </tr>\n",
       "    <tr>\n",
       "      <th>1</th>\n",
       "      <td>Android</td>\n",
       "      <td>OPPO</td>\n",
       "      <td>128.0</td>\n",
       "    </tr>\n",
       "    <tr>\n",
       "      <th>2</th>\n",
       "      <td>Android</td>\n",
       "      <td>Xiaomi</td>\n",
       "      <td>64.0</td>\n",
       "    </tr>\n",
       "    <tr>\n",
       "      <th>3</th>\n",
       "      <td>Android</td>\n",
       "      <td>OnePlus</td>\n",
       "      <td>256.0</td>\n",
       "    </tr>\n",
       "    <tr>\n",
       "      <th>4</th>\n",
       "      <td>iOS</td>\n",
       "      <td>Apple</td>\n",
       "      <td>128.0</td>\n",
       "    </tr>\n",
       "  </tbody>\n",
       "</table>\n",
       "</div>"
      ],
      "text/plain": [
       "        OS    Brand  Storage\n",
       "0  Android   Xiaomi    128.0\n",
       "1  Android     OPPO    128.0\n",
       "2  Android   Xiaomi     64.0\n",
       "3  Android  OnePlus    256.0\n",
       "4      iOS    Apple    128.0"
      ]
     },
     "execution_count": 794,
     "metadata": {},
     "output_type": "execute_result"
    }
   ],
   "source": [
    "# dropping redundant columns\n",
    "data_rec.drop(['imgURL', 'price', 'ratings', 'name', 'RAM', 'corpus'], axis=1, inplace=True)\n",
    "\n",
    "data_rec.head()"
   ]
  },
  {
   "cell_type": "code",
   "execution_count": 796,
   "id": "6e3899d9",
   "metadata": {},
   "outputs": [
    {
     "data": {
      "text/plain": [
       "2491"
      ]
     },
     "execution_count": 796,
     "metadata": {},
     "output_type": "execute_result"
    }
   ],
   "source": [
    "# generating transactions from dataframe\n",
    "\n",
    "transaction = []\n",
    "t_row=[]\n",
    "for i in range(0, data_rec.shape[0]):\n",
    "    for j in range(0, data_rec.shape[1]):\n",
    "        t_row.append(data_rec.values[i,j])\n",
    "    transaction.append(t_row)\n",
    "    t_row=[]\n",
    "\n",
    "transaction = np.array(transaction)\n",
    "len(transaction)\n"
   ]
  },
  {
   "cell_type": "code",
   "execution_count": 798,
   "id": "46be6120",
   "metadata": {},
   "outputs": [
    {
     "data": {
      "text/html": [
       "<style type=\"text/css\">\n",
       "#T_18ebb_row0_col1 {\n",
       "  background-color: #00441b;\n",
       "  color: #f1f1f1;\n",
       "}\n",
       "#T_18ebb_row1_col1 {\n",
       "  background-color: #7ac77b;\n",
       "  color: #000000;\n",
       "}\n",
       "#T_18ebb_row2_col1 {\n",
       "  background-color: #b6e2af;\n",
       "  color: #000000;\n",
       "}\n",
       "#T_18ebb_row3_col1, #T_18ebb_row4_col1 {\n",
       "  background-color: #d3eecd;\n",
       "  color: #000000;\n",
       "}\n",
       "#T_18ebb_row5_col1 {\n",
       "  background-color: #d6efd0;\n",
       "  color: #000000;\n",
       "}\n",
       "#T_18ebb_row6_col1, #T_18ebb_row7_col1 {\n",
       "  background-color: #d9f0d3;\n",
       "  color: #000000;\n",
       "}\n",
       "#T_18ebb_row8_col1 {\n",
       "  background-color: #e4f5df;\n",
       "  color: #000000;\n",
       "}\n",
       "#T_18ebb_row9_col1 {\n",
       "  background-color: #e5f5e0;\n",
       "  color: #000000;\n",
       "}\n",
       "#T_18ebb_row10_col1 {\n",
       "  background-color: #e7f6e2;\n",
       "  color: #000000;\n",
       "}\n",
       "#T_18ebb_row11_col1 {\n",
       "  background-color: #ebf7e7;\n",
       "  color: #000000;\n",
       "}\n",
       "#T_18ebb_row12_col1 {\n",
       "  background-color: #ecf8e8;\n",
       "  color: #000000;\n",
       "}\n",
       "#T_18ebb_row13_col1 {\n",
       "  background-color: #edf8e9;\n",
       "  color: #000000;\n",
       "}\n",
       "#T_18ebb_row14_col1 {\n",
       "  background-color: #eef8ea;\n",
       "  color: #000000;\n",
       "}\n",
       "#T_18ebb_row15_col1 {\n",
       "  background-color: #f1faee;\n",
       "  color: #000000;\n",
       "}\n",
       "#T_18ebb_row16_col1 {\n",
       "  background-color: #f2faf0;\n",
       "  color: #000000;\n",
       "}\n",
       "#T_18ebb_row17_col1 {\n",
       "  background-color: #f3faf0;\n",
       "  color: #000000;\n",
       "}\n",
       "#T_18ebb_row18_col1, #T_18ebb_row19_col1, #T_18ebb_row20_col1 {\n",
       "  background-color: #f6fcf4;\n",
       "  color: #000000;\n",
       "}\n",
       "#T_18ebb_row21_col1, #T_18ebb_row22_col1 {\n",
       "  background-color: #f7fcf5;\n",
       "  color: #000000;\n",
       "}\n",
       "</style>\n",
       "<table id=\"T_18ebb\">\n",
       "  <thead>\n",
       "    <tr>\n",
       "      <th class=\"blank level0\" >&nbsp;</th>\n",
       "      <th id=\"T_18ebb_level0_col0\" class=\"col_heading level0 col0\" >items</th>\n",
       "      <th id=\"T_18ebb_level0_col1\" class=\"col_heading level0 col1\" >incident_count</th>\n",
       "    </tr>\n",
       "  </thead>\n",
       "  <tbody>\n",
       "    <tr>\n",
       "      <th id=\"T_18ebb_level0_row0\" class=\"row_heading level0 row0\" >0</th>\n",
       "      <td id=\"T_18ebb_row0_col0\" class=\"data row0 col0\" >Android</td>\n",
       "      <td id=\"T_18ebb_row0_col1\" class=\"data row0 col1\" >2105</td>\n",
       "    </tr>\n",
       "    <tr>\n",
       "      <th id=\"T_18ebb_level0_row1\" class=\"row_heading level0 row1\" >1</th>\n",
       "      <td id=\"T_18ebb_row1_col0\" class=\"data row1 col0\" >128.0</td>\n",
       "      <td id=\"T_18ebb_row1_col1\" class=\"data row1 col1\" >1020</td>\n",
       "    </tr>\n",
       "    <tr>\n",
       "      <th id=\"T_18ebb_level0_row2\" class=\"row_heading level0 row2\" >2</th>\n",
       "      <td id=\"T_18ebb_row2_col0\" class=\"data row2 col0\" >64.0</td>\n",
       "      <td id=\"T_18ebb_row2_col1\" class=\"data row2 col1\" >644</td>\n",
       "    </tr>\n",
       "    <tr>\n",
       "      <th id=\"T_18ebb_level0_row3\" class=\"row_heading level0 row3\" >3</th>\n",
       "      <td id=\"T_18ebb_row3_col0\" class=\"data row3 col0\" >Samsung</td>\n",
       "      <td id=\"T_18ebb_row3_col1\" class=\"data row3 col1\" >426</td>\n",
       "    </tr>\n",
       "    <tr>\n",
       "      <th id=\"T_18ebb_level0_row4\" class=\"row_heading level0 row4\" >4</th>\n",
       "      <td id=\"T_18ebb_row4_col0\" class=\"data row4 col0\" >Xiaomi</td>\n",
       "      <td id=\"T_18ebb_row4_col1\" class=\"data row4 col1\" >422</td>\n",
       "    </tr>\n",
       "    <tr>\n",
       "      <th id=\"T_18ebb_level0_row5\" class=\"row_heading level0 row5\" >5</th>\n",
       "      <td id=\"T_18ebb_row5_col0\" class=\"data row5 col0\" >256.0</td>\n",
       "      <td id=\"T_18ebb_row5_col1\" class=\"data row5 col1\" >397</td>\n",
       "    </tr>\n",
       "    <tr>\n",
       "      <th id=\"T_18ebb_level0_row6\" class=\"row_heading level0 row6\" >6</th>\n",
       "      <td id=\"T_18ebb_row6_col0\" class=\"data row6 col0\" >iOS</td>\n",
       "      <td id=\"T_18ebb_row6_col1\" class=\"data row6 col1\" >375</td>\n",
       "    </tr>\n",
       "    <tr>\n",
       "      <th id=\"T_18ebb_level0_row7\" class=\"row_heading level0 row7\" >7</th>\n",
       "      <td id=\"T_18ebb_row7_col0\" class=\"data row7 col0\" >Apple</td>\n",
       "      <td id=\"T_18ebb_row7_col1\" class=\"data row7 col1\" >375</td>\n",
       "    </tr>\n",
       "    <tr>\n",
       "      <th id=\"T_18ebb_level0_row8\" class=\"row_heading level0 row8\" >8</th>\n",
       "      <td id=\"T_18ebb_row8_col0\" class=\"data row8 col0\" >Vivo</td>\n",
       "      <td id=\"T_18ebb_row8_col1\" class=\"data row8 col1\" >274</td>\n",
       "    </tr>\n",
       "    <tr>\n",
       "      <th id=\"T_18ebb_level0_row9\" class=\"row_heading level0 row9\" >9</th>\n",
       "      <td id=\"T_18ebb_row9_col0\" class=\"data row9 col0\" >32.0</td>\n",
       "      <td id=\"T_18ebb_row9_col1\" class=\"data row9 col1\" >265</td>\n",
       "    </tr>\n",
       "    <tr>\n",
       "      <th id=\"T_18ebb_level0_row10\" class=\"row_heading level0 row10\" >10</th>\n",
       "      <td id=\"T_18ebb_row10_col0\" class=\"data row10 col0\" >OPPO</td>\n",
       "      <td id=\"T_18ebb_row10_col1\" class=\"data row10 col1\" >246</td>\n",
       "    </tr>\n",
       "    <tr>\n",
       "      <th id=\"T_18ebb_level0_row11\" class=\"row_heading level0 row11\" >11</th>\n",
       "      <td id=\"T_18ebb_row11_col0\" class=\"data row11 col0\" >Realme</td>\n",
       "      <td id=\"T_18ebb_row11_col1\" class=\"data row11 col1\" >186</td>\n",
       "    </tr>\n",
       "    <tr>\n",
       "      <th id=\"T_18ebb_level0_row12\" class=\"row_heading level0 row12\" >12</th>\n",
       "      <td id=\"T_18ebb_row12_col0\" class=\"data row12 col0\" >OnePlus</td>\n",
       "      <td id=\"T_18ebb_row12_col1\" class=\"data row12 col1\" >169</td>\n",
       "    </tr>\n",
       "    <tr>\n",
       "      <th id=\"T_18ebb_level0_row13\" class=\"row_heading level0 row13\" >13</th>\n",
       "      <td id=\"T_18ebb_row13_col0\" class=\"data row13 col0\" >Infinix</td>\n",
       "      <td id=\"T_18ebb_row13_col1\" class=\"data row13 col1\" >149</td>\n",
       "    </tr>\n",
       "    <tr>\n",
       "      <th id=\"T_18ebb_level0_row14\" class=\"row_heading level0 row14\" >14</th>\n",
       "      <td id=\"T_18ebb_row14_col0\" class=\"data row14 col0\" >Tecno</td>\n",
       "      <td id=\"T_18ebb_row14_col1\" class=\"data row14 col1\" >137</td>\n",
       "    </tr>\n",
       "    <tr>\n",
       "      <th id=\"T_18ebb_level0_row15\" class=\"row_heading level0 row15\" >15</th>\n",
       "      <td id=\"T_18ebb_row15_col0\" class=\"data row15 col0\" >Motorola</td>\n",
       "      <td id=\"T_18ebb_row15_col1\" class=\"data row15 col1\" >96</td>\n",
       "    </tr>\n",
       "    <tr>\n",
       "      <th id=\"T_18ebb_level0_row16\" class=\"row_heading level0 row16\" >16</th>\n",
       "      <td id=\"T_18ebb_row16_col0\" class=\"data row16 col0\" >16.0</td>\n",
       "      <td id=\"T_18ebb_row16_col1\" class=\"data row16 col1\" >67</td>\n",
       "    </tr>\n",
       "    <tr>\n",
       "      <th id=\"T_18ebb_level0_row17\" class=\"row_heading level0 row17\" >17</th>\n",
       "      <td id=\"T_18ebb_row17_col0\" class=\"data row17 col0\" >512.0</td>\n",
       "      <td id=\"T_18ebb_row17_col1\" class=\"data row17 col1\" >61</td>\n",
       "    </tr>\n",
       "    <tr>\n",
       "      <th id=\"T_18ebb_level0_row18\" class=\"row_heading level0 row18\" >18</th>\n",
       "      <td id=\"T_18ebb_row18_col0\" class=\"data row18 col0\" >Other</td>\n",
       "      <td id=\"T_18ebb_row18_col1\" class=\"data row18 col1\" >21</td>\n",
       "    </tr>\n",
       "    <tr>\n",
       "      <th id=\"T_18ebb_level0_row19\" class=\"row_heading level0 row19\" >19</th>\n",
       "      <td id=\"T_18ebb_row19_col0\" class=\"data row19 col0\" >8.0</td>\n",
       "      <td id=\"T_18ebb_row19_col1\" class=\"data row19 col1\" >17</td>\n",
       "    </tr>\n",
       "    <tr>\n",
       "      <th id=\"T_18ebb_level0_row20\" class=\"row_heading level0 row20\" >20</th>\n",
       "      <td id=\"T_18ebb_row20_col0\" class=\"data row20 col0\" >1024.0</td>\n",
       "      <td id=\"T_18ebb_row20_col1\" class=\"data row20 col1\" >17</td>\n",
       "    </tr>\n",
       "    <tr>\n",
       "      <th id=\"T_18ebb_level0_row21\" class=\"row_heading level0 row21\" >21</th>\n",
       "      <td id=\"T_18ebb_row21_col0\" class=\"data row21 col0\" >4.0</td>\n",
       "      <td id=\"T_18ebb_row21_col1\" class=\"data row21 col1\" >3</td>\n",
       "    </tr>\n",
       "    <tr>\n",
       "      <th id=\"T_18ebb_level0_row22\" class=\"row_heading level0 row22\" >22</th>\n",
       "      <td id=\"T_18ebb_row22_col0\" class=\"data row22 col0\" >Tizen</td>\n",
       "      <td id=\"T_18ebb_row22_col1\" class=\"data row22 col1\" >1</td>\n",
       "    </tr>\n",
       "  </tbody>\n",
       "</table>\n"
      ],
      "text/plain": [
       "<pandas.io.formats.style.Styler at 0x195938d24d0>"
      ]
     },
     "execution_count": 798,
     "metadata": {},
     "output_type": "execute_result"
    }
   ],
   "source": [
    "# visualizing  the frequency of all items\n",
    "\n",
    "df_table.head(len(df_table)).style.background_gradient(cmap='Greens')"
   ]
  },
  {
   "cell_type": "code",
   "execution_count": 799,
   "id": "0404c444",
   "metadata": {},
   "outputs": [],
   "source": [
    "# dropping Others record as they are useless for recommendation\n",
    "\n",
    "df1=df_table.drop(df_table.index[[18,19]])"
   ]
  },
  {
   "cell_type": "code",
   "execution_count": 801,
   "id": "95fdb73d",
   "metadata": {},
   "outputs": [
    {
     "data": {
      "application/vnd.plotly.v1+json": {
       "config": {
        "plotlyServerURL": "https://plot.ly"
       },
       "data": [
        {
         "branchvalues": "total",
         "customdata": [
          [
           "1024.0",
           17
          ],
          [
           "128.0",
           1020
          ],
          [
           "16.0",
           67
          ],
          [
           "256.0",
           397
          ],
          [
           "32.0",
           265
          ],
          [
           "4.0",
           3
          ],
          [
           "512.0",
           61
          ],
          [
           "64.0",
           644
          ],
          [
           "Android",
           2105
          ],
          [
           "Apple",
           375
          ],
          [
           "Infinix",
           149
          ],
          [
           "Motorola",
           96
          ],
          [
           "OPPO",
           246
          ],
          [
           "OnePlus",
           169
          ],
          [
           "Realme",
           186
          ],
          [
           "Samsung",
           426
          ],
          [
           "Tecno",
           137
          ],
          [
           "Tizen",
           1
          ],
          [
           "Vivo",
           274
          ],
          [
           "Xiaomi",
           422
          ],
          [
           "iOS",
           375
          ],
          [
           "(?)",
           943.1404169468728
          ]
         ],
         "domain": {
          "x": [
           0,
           1
          ],
          "y": [
           0,
           1
          ]
         },
         "hovertemplate": "labels=%{label}<br>incident_count=%{value}<br>parent=%{parent}<br>id=%{id}<br>items=%{customdata[0]}<br>color=%{color}<extra></extra>",
         "ids": [
          "all/1024.0",
          "all/128.0",
          "all/16.0",
          "all/256.0",
          "all/32.0",
          "all/4.0",
          "all/512.0",
          "all/64.0",
          "all/Android",
          "all/Apple",
          "all/Infinix",
          "all/Motorola",
          "all/OPPO",
          "all/OnePlus",
          "all/Realme",
          "all/Samsung",
          "all/Tecno",
          "all/Tizen",
          "all/Vivo",
          "all/Xiaomi",
          "all/iOS",
          "all"
         ],
         "labels": [
          "1024.0",
          "128.0",
          "16.0",
          "256.0",
          "32.0",
          "4.0",
          "512.0",
          "64.0",
          "Android",
          "Apple",
          "Infinix",
          "Motorola",
          "OPPO",
          "OnePlus",
          "Realme",
          "Samsung",
          "Tecno",
          "Tizen",
          "Vivo",
          "Xiaomi",
          "iOS",
          "all"
         ],
         "marker": {
          "coloraxis": "coloraxis",
          "colors": [
           17,
           1020,
           67,
           397,
           265,
           3,
           61,
           644,
           2105,
           375,
           149,
           96,
           246,
           169,
           186,
           426,
           137,
           1,
           274,
           422,
           375,
           943.1404169468728
          ]
         },
         "name": "",
         "parents": [
          "all",
          "all",
          "all",
          "all",
          "all",
          "all",
          "all",
          "all",
          "all",
          "all",
          "all",
          "all",
          "all",
          "all",
          "all",
          "all",
          "all",
          "all",
          "all",
          "all",
          "all",
          ""
         ],
         "type": "treemap",
         "values": [
          17,
          1020,
          67,
          397,
          265,
          3,
          61,
          644,
          2105,
          375,
          149,
          96,
          246,
          169,
          186,
          426,
          137,
          1,
          274,
          422,
          375,
          7435
         ]
        }
       ],
       "layout": {
        "coloraxis": {
         "colorbar": {
          "title": {
           "text": "color"
          }
         },
         "colorscale": [
          [
           0,
           "rgb(247,252,245)"
          ],
          [
           0.125,
           "rgb(229,245,224)"
          ],
          [
           0.25,
           "rgb(199,233,192)"
          ],
          [
           0.375,
           "rgb(161,217,155)"
          ],
          [
           0.5,
           "rgb(116,196,118)"
          ],
          [
           0.625,
           "rgb(65,171,93)"
          ],
          [
           0.75,
           "rgb(35,139,69)"
          ],
          [
           0.875,
           "rgb(0,109,44)"
          ],
          [
           1,
           "rgb(0,68,27)"
          ]
         ]
        },
        "legend": {
         "tracegroupgap": 0
        },
        "margin": {
         "t": 60
        },
        "template": {
         "data": {
          "bar": [
           {
            "error_x": {
             "color": "#2a3f5f"
            },
            "error_y": {
             "color": "#2a3f5f"
            },
            "marker": {
             "line": {
              "color": "#E5ECF6",
              "width": 0.5
             },
             "pattern": {
              "fillmode": "overlay",
              "size": 10,
              "solidity": 0.2
             }
            },
            "type": "bar"
           }
          ],
          "barpolar": [
           {
            "marker": {
             "line": {
              "color": "#E5ECF6",
              "width": 0.5
             },
             "pattern": {
              "fillmode": "overlay",
              "size": 10,
              "solidity": 0.2
             }
            },
            "type": "barpolar"
           }
          ],
          "carpet": [
           {
            "aaxis": {
             "endlinecolor": "#2a3f5f",
             "gridcolor": "white",
             "linecolor": "white",
             "minorgridcolor": "white",
             "startlinecolor": "#2a3f5f"
            },
            "baxis": {
             "endlinecolor": "#2a3f5f",
             "gridcolor": "white",
             "linecolor": "white",
             "minorgridcolor": "white",
             "startlinecolor": "#2a3f5f"
            },
            "type": "carpet"
           }
          ],
          "choropleth": [
           {
            "colorbar": {
             "outlinewidth": 0,
             "ticks": ""
            },
            "type": "choropleth"
           }
          ],
          "contour": [
           {
            "colorbar": {
             "outlinewidth": 0,
             "ticks": ""
            },
            "colorscale": [
             [
              0,
              "#0d0887"
             ],
             [
              0.1111111111111111,
              "#46039f"
             ],
             [
              0.2222222222222222,
              "#7201a8"
             ],
             [
              0.3333333333333333,
              "#9c179e"
             ],
             [
              0.4444444444444444,
              "#bd3786"
             ],
             [
              0.5555555555555556,
              "#d8576b"
             ],
             [
              0.6666666666666666,
              "#ed7953"
             ],
             [
              0.7777777777777778,
              "#fb9f3a"
             ],
             [
              0.8888888888888888,
              "#fdca26"
             ],
             [
              1,
              "#f0f921"
             ]
            ],
            "type": "contour"
           }
          ],
          "contourcarpet": [
           {
            "colorbar": {
             "outlinewidth": 0,
             "ticks": ""
            },
            "type": "contourcarpet"
           }
          ],
          "heatmap": [
           {
            "colorbar": {
             "outlinewidth": 0,
             "ticks": ""
            },
            "colorscale": [
             [
              0,
              "#0d0887"
             ],
             [
              0.1111111111111111,
              "#46039f"
             ],
             [
              0.2222222222222222,
              "#7201a8"
             ],
             [
              0.3333333333333333,
              "#9c179e"
             ],
             [
              0.4444444444444444,
              "#bd3786"
             ],
             [
              0.5555555555555556,
              "#d8576b"
             ],
             [
              0.6666666666666666,
              "#ed7953"
             ],
             [
              0.7777777777777778,
              "#fb9f3a"
             ],
             [
              0.8888888888888888,
              "#fdca26"
             ],
             [
              1,
              "#f0f921"
             ]
            ],
            "type": "heatmap"
           }
          ],
          "heatmapgl": [
           {
            "colorbar": {
             "outlinewidth": 0,
             "ticks": ""
            },
            "colorscale": [
             [
              0,
              "#0d0887"
             ],
             [
              0.1111111111111111,
              "#46039f"
             ],
             [
              0.2222222222222222,
              "#7201a8"
             ],
             [
              0.3333333333333333,
              "#9c179e"
             ],
             [
              0.4444444444444444,
              "#bd3786"
             ],
             [
              0.5555555555555556,
              "#d8576b"
             ],
             [
              0.6666666666666666,
              "#ed7953"
             ],
             [
              0.7777777777777778,
              "#fb9f3a"
             ],
             [
              0.8888888888888888,
              "#fdca26"
             ],
             [
              1,
              "#f0f921"
             ]
            ],
            "type": "heatmapgl"
           }
          ],
          "histogram": [
           {
            "marker": {
             "pattern": {
              "fillmode": "overlay",
              "size": 10,
              "solidity": 0.2
             }
            },
            "type": "histogram"
           }
          ],
          "histogram2d": [
           {
            "colorbar": {
             "outlinewidth": 0,
             "ticks": ""
            },
            "colorscale": [
             [
              0,
              "#0d0887"
             ],
             [
              0.1111111111111111,
              "#46039f"
             ],
             [
              0.2222222222222222,
              "#7201a8"
             ],
             [
              0.3333333333333333,
              "#9c179e"
             ],
             [
              0.4444444444444444,
              "#bd3786"
             ],
             [
              0.5555555555555556,
              "#d8576b"
             ],
             [
              0.6666666666666666,
              "#ed7953"
             ],
             [
              0.7777777777777778,
              "#fb9f3a"
             ],
             [
              0.8888888888888888,
              "#fdca26"
             ],
             [
              1,
              "#f0f921"
             ]
            ],
            "type": "histogram2d"
           }
          ],
          "histogram2dcontour": [
           {
            "colorbar": {
             "outlinewidth": 0,
             "ticks": ""
            },
            "colorscale": [
             [
              0,
              "#0d0887"
             ],
             [
              0.1111111111111111,
              "#46039f"
             ],
             [
              0.2222222222222222,
              "#7201a8"
             ],
             [
              0.3333333333333333,
              "#9c179e"
             ],
             [
              0.4444444444444444,
              "#bd3786"
             ],
             [
              0.5555555555555556,
              "#d8576b"
             ],
             [
              0.6666666666666666,
              "#ed7953"
             ],
             [
              0.7777777777777778,
              "#fb9f3a"
             ],
             [
              0.8888888888888888,
              "#fdca26"
             ],
             [
              1,
              "#f0f921"
             ]
            ],
            "type": "histogram2dcontour"
           }
          ],
          "mesh3d": [
           {
            "colorbar": {
             "outlinewidth": 0,
             "ticks": ""
            },
            "type": "mesh3d"
           }
          ],
          "parcoords": [
           {
            "line": {
             "colorbar": {
              "outlinewidth": 0,
              "ticks": ""
             }
            },
            "type": "parcoords"
           }
          ],
          "pie": [
           {
            "automargin": true,
            "type": "pie"
           }
          ],
          "scatter": [
           {
            "fillpattern": {
             "fillmode": "overlay",
             "size": 10,
             "solidity": 0.2
            },
            "type": "scatter"
           }
          ],
          "scatter3d": [
           {
            "line": {
             "colorbar": {
              "outlinewidth": 0,
              "ticks": ""
             }
            },
            "marker": {
             "colorbar": {
              "outlinewidth": 0,
              "ticks": ""
             }
            },
            "type": "scatter3d"
           }
          ],
          "scattercarpet": [
           {
            "marker": {
             "colorbar": {
              "outlinewidth": 0,
              "ticks": ""
             }
            },
            "type": "scattercarpet"
           }
          ],
          "scattergeo": [
           {
            "marker": {
             "colorbar": {
              "outlinewidth": 0,
              "ticks": ""
             }
            },
            "type": "scattergeo"
           }
          ],
          "scattergl": [
           {
            "marker": {
             "colorbar": {
              "outlinewidth": 0,
              "ticks": ""
             }
            },
            "type": "scattergl"
           }
          ],
          "scattermapbox": [
           {
            "marker": {
             "colorbar": {
              "outlinewidth": 0,
              "ticks": ""
             }
            },
            "type": "scattermapbox"
           }
          ],
          "scatterpolar": [
           {
            "marker": {
             "colorbar": {
              "outlinewidth": 0,
              "ticks": ""
             }
            },
            "type": "scatterpolar"
           }
          ],
          "scatterpolargl": [
           {
            "marker": {
             "colorbar": {
              "outlinewidth": 0,
              "ticks": ""
             }
            },
            "type": "scatterpolargl"
           }
          ],
          "scatterternary": [
           {
            "marker": {
             "colorbar": {
              "outlinewidth": 0,
              "ticks": ""
             }
            },
            "type": "scatterternary"
           }
          ],
          "surface": [
           {
            "colorbar": {
             "outlinewidth": 0,
             "ticks": ""
            },
            "colorscale": [
             [
              0,
              "#0d0887"
             ],
             [
              0.1111111111111111,
              "#46039f"
             ],
             [
              0.2222222222222222,
              "#7201a8"
             ],
             [
              0.3333333333333333,
              "#9c179e"
             ],
             [
              0.4444444444444444,
              "#bd3786"
             ],
             [
              0.5555555555555556,
              "#d8576b"
             ],
             [
              0.6666666666666666,
              "#ed7953"
             ],
             [
              0.7777777777777778,
              "#fb9f3a"
             ],
             [
              0.8888888888888888,
              "#fdca26"
             ],
             [
              1,
              "#f0f921"
             ]
            ],
            "type": "surface"
           }
          ],
          "table": [
           {
            "cells": {
             "fill": {
              "color": "#EBF0F8"
             },
             "line": {
              "color": "white"
             }
            },
            "header": {
             "fill": {
              "color": "#C8D4E3"
             },
             "line": {
              "color": "white"
             }
            },
            "type": "table"
           }
          ]
         },
         "layout": {
          "annotationdefaults": {
           "arrowcolor": "#2a3f5f",
           "arrowhead": 0,
           "arrowwidth": 1
          },
          "autotypenumbers": "strict",
          "coloraxis": {
           "colorbar": {
            "outlinewidth": 0,
            "ticks": ""
           }
          },
          "colorscale": {
           "diverging": [
            [
             0,
             "#8e0152"
            ],
            [
             0.1,
             "#c51b7d"
            ],
            [
             0.2,
             "#de77ae"
            ],
            [
             0.3,
             "#f1b6da"
            ],
            [
             0.4,
             "#fde0ef"
            ],
            [
             0.5,
             "#f7f7f7"
            ],
            [
             0.6,
             "#e6f5d0"
            ],
            [
             0.7,
             "#b8e186"
            ],
            [
             0.8,
             "#7fbc41"
            ],
            [
             0.9,
             "#4d9221"
            ],
            [
             1,
             "#276419"
            ]
           ],
           "sequential": [
            [
             0,
             "#0d0887"
            ],
            [
             0.1111111111111111,
             "#46039f"
            ],
            [
             0.2222222222222222,
             "#7201a8"
            ],
            [
             0.3333333333333333,
             "#9c179e"
            ],
            [
             0.4444444444444444,
             "#bd3786"
            ],
            [
             0.5555555555555556,
             "#d8576b"
            ],
            [
             0.6666666666666666,
             "#ed7953"
            ],
            [
             0.7777777777777778,
             "#fb9f3a"
            ],
            [
             0.8888888888888888,
             "#fdca26"
            ],
            [
             1,
             "#f0f921"
            ]
           ],
           "sequentialminus": [
            [
             0,
             "#0d0887"
            ],
            [
             0.1111111111111111,
             "#46039f"
            ],
            [
             0.2222222222222222,
             "#7201a8"
            ],
            [
             0.3333333333333333,
             "#9c179e"
            ],
            [
             0.4444444444444444,
             "#bd3786"
            ],
            [
             0.5555555555555556,
             "#d8576b"
            ],
            [
             0.6666666666666666,
             "#ed7953"
            ],
            [
             0.7777777777777778,
             "#fb9f3a"
            ],
            [
             0.8888888888888888,
             "#fdca26"
            ],
            [
             1,
             "#f0f921"
            ]
           ]
          },
          "colorway": [
           "#636efa",
           "#EF553B",
           "#00cc96",
           "#ab63fa",
           "#FFA15A",
           "#19d3f3",
           "#FF6692",
           "#B6E880",
           "#FF97FF",
           "#FECB52"
          ],
          "font": {
           "color": "#2a3f5f"
          },
          "geo": {
           "bgcolor": "white",
           "lakecolor": "white",
           "landcolor": "#E5ECF6",
           "showlakes": true,
           "showland": true,
           "subunitcolor": "white"
          },
          "hoverlabel": {
           "align": "left"
          },
          "hovermode": "closest",
          "mapbox": {
           "style": "light"
          },
          "paper_bgcolor": "white",
          "plot_bgcolor": "#E5ECF6",
          "polar": {
           "angularaxis": {
            "gridcolor": "white",
            "linecolor": "white",
            "ticks": ""
           },
           "bgcolor": "#E5ECF6",
           "radialaxis": {
            "gridcolor": "white",
            "linecolor": "white",
            "ticks": ""
           }
          },
          "scene": {
           "xaxis": {
            "backgroundcolor": "#E5ECF6",
            "gridcolor": "white",
            "gridwidth": 2,
            "linecolor": "white",
            "showbackground": true,
            "ticks": "",
            "zerolinecolor": "white"
           },
           "yaxis": {
            "backgroundcolor": "#E5ECF6",
            "gridcolor": "white",
            "gridwidth": 2,
            "linecolor": "white",
            "showbackground": true,
            "ticks": "",
            "zerolinecolor": "white"
           },
           "zaxis": {
            "backgroundcolor": "#E5ECF6",
            "gridcolor": "white",
            "gridwidth": 2,
            "linecolor": "white",
            "showbackground": true,
            "ticks": "",
            "zerolinecolor": "white"
           }
          },
          "shapedefaults": {
           "line": {
            "color": "#2a3f5f"
           }
          },
          "ternary": {
           "aaxis": {
            "gridcolor": "white",
            "linecolor": "white",
            "ticks": ""
           },
           "baxis": {
            "gridcolor": "white",
            "linecolor": "white",
            "ticks": ""
           },
           "bgcolor": "#E5ECF6",
           "caxis": {
            "gridcolor": "white",
            "linecolor": "white",
            "ticks": ""
           }
          },
          "title": {
           "x": 0.05
          },
          "xaxis": {
           "automargin": true,
           "gridcolor": "white",
           "linecolor": "white",
           "ticks": "",
           "title": {
            "standoff": 15
           },
           "zerolinecolor": "white",
           "zerolinewidth": 2
          },
          "yaxis": {
           "automargin": true,
           "gridcolor": "white",
           "linecolor": "white",
           "ticks": "",
           "title": {
            "standoff": 15
           },
           "zerolinecolor": "white",
           "zerolinewidth": 2
          }
         }
        }
       }
      },
      "text/html": [
       "<div>                            <div id=\"fcc1082b-5c66-4739-b31c-05dc2f25fa88\" class=\"plotly-graph-div\" style=\"height:525px; width:100%;\"></div>            <script type=\"text/javascript\">                require([\"plotly\"], function(Plotly) {                    window.PLOTLYENV=window.PLOTLYENV || {};                                    if (document.getElementById(\"fcc1082b-5c66-4739-b31c-05dc2f25fa88\")) {                    Plotly.newPlot(                        \"fcc1082b-5c66-4739-b31c-05dc2f25fa88\",                        [{\"branchvalues\":\"total\",\"customdata\":[[\"1024.0\",17.0],[\"128.0\",1020.0],[\"16.0\",67.0],[\"256.0\",397.0],[\"32.0\",265.0],[\"4.0\",3.0],[\"512.0\",61.0],[\"64.0\",644.0],[\"Android\",2105.0],[\"Apple\",375.0],[\"Infinix\",149.0],[\"Motorola\",96.0],[\"OPPO\",246.0],[\"OnePlus\",169.0],[\"Realme\",186.0],[\"Samsung\",426.0],[\"Tecno\",137.0],[\"Tizen\",1.0],[\"Vivo\",274.0],[\"Xiaomi\",422.0],[\"iOS\",375.0],[\"(?)\",943.1404169468728]],\"domain\":{\"x\":[0.0,1.0],\"y\":[0.0,1.0]},\"hovertemplate\":\"labels=%{label}<br>incident_count=%{value}<br>parent=%{parent}<br>id=%{id}<br>items=%{customdata[0]}<br>color=%{color}<extra></extra>\",\"ids\":[\"all/1024.0\",\"all/128.0\",\"all/16.0\",\"all/256.0\",\"all/32.0\",\"all/4.0\",\"all/512.0\",\"all/64.0\",\"all/Android\",\"all/Apple\",\"all/Infinix\",\"all/Motorola\",\"all/OPPO\",\"all/OnePlus\",\"all/Realme\",\"all/Samsung\",\"all/Tecno\",\"all/Tizen\",\"all/Vivo\",\"all/Xiaomi\",\"all/iOS\",\"all\"],\"labels\":[\"1024.0\",\"128.0\",\"16.0\",\"256.0\",\"32.0\",\"4.0\",\"512.0\",\"64.0\",\"Android\",\"Apple\",\"Infinix\",\"Motorola\",\"OPPO\",\"OnePlus\",\"Realme\",\"Samsung\",\"Tecno\",\"Tizen\",\"Vivo\",\"Xiaomi\",\"iOS\",\"all\"],\"marker\":{\"coloraxis\":\"coloraxis\",\"colors\":[17.0,1020.0,67.0,397.0,265.0,3.0,61.0,644.0,2105.0,375.0,149.0,96.0,246.0,169.0,186.0,426.0,137.0,1.0,274.0,422.0,375.0,943.1404169468728]},\"name\":\"\",\"parents\":[\"all\",\"all\",\"all\",\"all\",\"all\",\"all\",\"all\",\"all\",\"all\",\"all\",\"all\",\"all\",\"all\",\"all\",\"all\",\"all\",\"all\",\"all\",\"all\",\"all\",\"all\",\"\"],\"values\":[17,1020,67,397,265,3,61,644,2105,375,149,96,246,169,186,426,137,1,274,422,375,7435],\"type\":\"treemap\"}],                        {\"template\":{\"data\":{\"histogram2dcontour\":[{\"type\":\"histogram2dcontour\",\"colorbar\":{\"outlinewidth\":0,\"ticks\":\"\"},\"colorscale\":[[0.0,\"#0d0887\"],[0.1111111111111111,\"#46039f\"],[0.2222222222222222,\"#7201a8\"],[0.3333333333333333,\"#9c179e\"],[0.4444444444444444,\"#bd3786\"],[0.5555555555555556,\"#d8576b\"],[0.6666666666666666,\"#ed7953\"],[0.7777777777777778,\"#fb9f3a\"],[0.8888888888888888,\"#fdca26\"],[1.0,\"#f0f921\"]]}],\"choropleth\":[{\"type\":\"choropleth\",\"colorbar\":{\"outlinewidth\":0,\"ticks\":\"\"}}],\"histogram2d\":[{\"type\":\"histogram2d\",\"colorbar\":{\"outlinewidth\":0,\"ticks\":\"\"},\"colorscale\":[[0.0,\"#0d0887\"],[0.1111111111111111,\"#46039f\"],[0.2222222222222222,\"#7201a8\"],[0.3333333333333333,\"#9c179e\"],[0.4444444444444444,\"#bd3786\"],[0.5555555555555556,\"#d8576b\"],[0.6666666666666666,\"#ed7953\"],[0.7777777777777778,\"#fb9f3a\"],[0.8888888888888888,\"#fdca26\"],[1.0,\"#f0f921\"]]}],\"heatmap\":[{\"type\":\"heatmap\",\"colorbar\":{\"outlinewidth\":0,\"ticks\":\"\"},\"colorscale\":[[0.0,\"#0d0887\"],[0.1111111111111111,\"#46039f\"],[0.2222222222222222,\"#7201a8\"],[0.3333333333333333,\"#9c179e\"],[0.4444444444444444,\"#bd3786\"],[0.5555555555555556,\"#d8576b\"],[0.6666666666666666,\"#ed7953\"],[0.7777777777777778,\"#fb9f3a\"],[0.8888888888888888,\"#fdca26\"],[1.0,\"#f0f921\"]]}],\"heatmapgl\":[{\"type\":\"heatmapgl\",\"colorbar\":{\"outlinewidth\":0,\"ticks\":\"\"},\"colorscale\":[[0.0,\"#0d0887\"],[0.1111111111111111,\"#46039f\"],[0.2222222222222222,\"#7201a8\"],[0.3333333333333333,\"#9c179e\"],[0.4444444444444444,\"#bd3786\"],[0.5555555555555556,\"#d8576b\"],[0.6666666666666666,\"#ed7953\"],[0.7777777777777778,\"#fb9f3a\"],[0.8888888888888888,\"#fdca26\"],[1.0,\"#f0f921\"]]}],\"contourcarpet\":[{\"type\":\"contourcarpet\",\"colorbar\":{\"outlinewidth\":0,\"ticks\":\"\"}}],\"contour\":[{\"type\":\"contour\",\"colorbar\":{\"outlinewidth\":0,\"ticks\":\"\"},\"colorscale\":[[0.0,\"#0d0887\"],[0.1111111111111111,\"#46039f\"],[0.2222222222222222,\"#7201a8\"],[0.3333333333333333,\"#9c179e\"],[0.4444444444444444,\"#bd3786\"],[0.5555555555555556,\"#d8576b\"],[0.6666666666666666,\"#ed7953\"],[0.7777777777777778,\"#fb9f3a\"],[0.8888888888888888,\"#fdca26\"],[1.0,\"#f0f921\"]]}],\"surface\":[{\"type\":\"surface\",\"colorbar\":{\"outlinewidth\":0,\"ticks\":\"\"},\"colorscale\":[[0.0,\"#0d0887\"],[0.1111111111111111,\"#46039f\"],[0.2222222222222222,\"#7201a8\"],[0.3333333333333333,\"#9c179e\"],[0.4444444444444444,\"#bd3786\"],[0.5555555555555556,\"#d8576b\"],[0.6666666666666666,\"#ed7953\"],[0.7777777777777778,\"#fb9f3a\"],[0.8888888888888888,\"#fdca26\"],[1.0,\"#f0f921\"]]}],\"mesh3d\":[{\"type\":\"mesh3d\",\"colorbar\":{\"outlinewidth\":0,\"ticks\":\"\"}}],\"scatter\":[{\"fillpattern\":{\"fillmode\":\"overlay\",\"size\":10,\"solidity\":0.2},\"type\":\"scatter\"}],\"parcoords\":[{\"type\":\"parcoords\",\"line\":{\"colorbar\":{\"outlinewidth\":0,\"ticks\":\"\"}}}],\"scatterpolargl\":[{\"type\":\"scatterpolargl\",\"marker\":{\"colorbar\":{\"outlinewidth\":0,\"ticks\":\"\"}}}],\"bar\":[{\"error_x\":{\"color\":\"#2a3f5f\"},\"error_y\":{\"color\":\"#2a3f5f\"},\"marker\":{\"line\":{\"color\":\"#E5ECF6\",\"width\":0.5},\"pattern\":{\"fillmode\":\"overlay\",\"size\":10,\"solidity\":0.2}},\"type\":\"bar\"}],\"scattergeo\":[{\"type\":\"scattergeo\",\"marker\":{\"colorbar\":{\"outlinewidth\":0,\"ticks\":\"\"}}}],\"scatterpolar\":[{\"type\":\"scatterpolar\",\"marker\":{\"colorbar\":{\"outlinewidth\":0,\"ticks\":\"\"}}}],\"histogram\":[{\"marker\":{\"pattern\":{\"fillmode\":\"overlay\",\"size\":10,\"solidity\":0.2}},\"type\":\"histogram\"}],\"scattergl\":[{\"type\":\"scattergl\",\"marker\":{\"colorbar\":{\"outlinewidth\":0,\"ticks\":\"\"}}}],\"scatter3d\":[{\"type\":\"scatter3d\",\"line\":{\"colorbar\":{\"outlinewidth\":0,\"ticks\":\"\"}},\"marker\":{\"colorbar\":{\"outlinewidth\":0,\"ticks\":\"\"}}}],\"scattermapbox\":[{\"type\":\"scattermapbox\",\"marker\":{\"colorbar\":{\"outlinewidth\":0,\"ticks\":\"\"}}}],\"scatterternary\":[{\"type\":\"scatterternary\",\"marker\":{\"colorbar\":{\"outlinewidth\":0,\"ticks\":\"\"}}}],\"scattercarpet\":[{\"type\":\"scattercarpet\",\"marker\":{\"colorbar\":{\"outlinewidth\":0,\"ticks\":\"\"}}}],\"carpet\":[{\"aaxis\":{\"endlinecolor\":\"#2a3f5f\",\"gridcolor\":\"white\",\"linecolor\":\"white\",\"minorgridcolor\":\"white\",\"startlinecolor\":\"#2a3f5f\"},\"baxis\":{\"endlinecolor\":\"#2a3f5f\",\"gridcolor\":\"white\",\"linecolor\":\"white\",\"minorgridcolor\":\"white\",\"startlinecolor\":\"#2a3f5f\"},\"type\":\"carpet\"}],\"table\":[{\"cells\":{\"fill\":{\"color\":\"#EBF0F8\"},\"line\":{\"color\":\"white\"}},\"header\":{\"fill\":{\"color\":\"#C8D4E3\"},\"line\":{\"color\":\"white\"}},\"type\":\"table\"}],\"barpolar\":[{\"marker\":{\"line\":{\"color\":\"#E5ECF6\",\"width\":0.5},\"pattern\":{\"fillmode\":\"overlay\",\"size\":10,\"solidity\":0.2}},\"type\":\"barpolar\"}],\"pie\":[{\"automargin\":true,\"type\":\"pie\"}]},\"layout\":{\"autotypenumbers\":\"strict\",\"colorway\":[\"#636efa\",\"#EF553B\",\"#00cc96\",\"#ab63fa\",\"#FFA15A\",\"#19d3f3\",\"#FF6692\",\"#B6E880\",\"#FF97FF\",\"#FECB52\"],\"font\":{\"color\":\"#2a3f5f\"},\"hovermode\":\"closest\",\"hoverlabel\":{\"align\":\"left\"},\"paper_bgcolor\":\"white\",\"plot_bgcolor\":\"#E5ECF6\",\"polar\":{\"bgcolor\":\"#E5ECF6\",\"angularaxis\":{\"gridcolor\":\"white\",\"linecolor\":\"white\",\"ticks\":\"\"},\"radialaxis\":{\"gridcolor\":\"white\",\"linecolor\":\"white\",\"ticks\":\"\"}},\"ternary\":{\"bgcolor\":\"#E5ECF6\",\"aaxis\":{\"gridcolor\":\"white\",\"linecolor\":\"white\",\"ticks\":\"\"},\"baxis\":{\"gridcolor\":\"white\",\"linecolor\":\"white\",\"ticks\":\"\"},\"caxis\":{\"gridcolor\":\"white\",\"linecolor\":\"white\",\"ticks\":\"\"}},\"coloraxis\":{\"colorbar\":{\"outlinewidth\":0,\"ticks\":\"\"}},\"colorscale\":{\"sequential\":[[0.0,\"#0d0887\"],[0.1111111111111111,\"#46039f\"],[0.2222222222222222,\"#7201a8\"],[0.3333333333333333,\"#9c179e\"],[0.4444444444444444,\"#bd3786\"],[0.5555555555555556,\"#d8576b\"],[0.6666666666666666,\"#ed7953\"],[0.7777777777777778,\"#fb9f3a\"],[0.8888888888888888,\"#fdca26\"],[1.0,\"#f0f921\"]],\"sequentialminus\":[[0.0,\"#0d0887\"],[0.1111111111111111,\"#46039f\"],[0.2222222222222222,\"#7201a8\"],[0.3333333333333333,\"#9c179e\"],[0.4444444444444444,\"#bd3786\"],[0.5555555555555556,\"#d8576b\"],[0.6666666666666666,\"#ed7953\"],[0.7777777777777778,\"#fb9f3a\"],[0.8888888888888888,\"#fdca26\"],[1.0,\"#f0f921\"]],\"diverging\":[[0,\"#8e0152\"],[0.1,\"#c51b7d\"],[0.2,\"#de77ae\"],[0.3,\"#f1b6da\"],[0.4,\"#fde0ef\"],[0.5,\"#f7f7f7\"],[0.6,\"#e6f5d0\"],[0.7,\"#b8e186\"],[0.8,\"#7fbc41\"],[0.9,\"#4d9221\"],[1,\"#276419\"]]},\"xaxis\":{\"gridcolor\":\"white\",\"linecolor\":\"white\",\"ticks\":\"\",\"title\":{\"standoff\":15},\"zerolinecolor\":\"white\",\"automargin\":true,\"zerolinewidth\":2},\"yaxis\":{\"gridcolor\":\"white\",\"linecolor\":\"white\",\"ticks\":\"\",\"title\":{\"standoff\":15},\"zerolinecolor\":\"white\",\"automargin\":true,\"zerolinewidth\":2},\"scene\":{\"xaxis\":{\"backgroundcolor\":\"#E5ECF6\",\"gridcolor\":\"white\",\"linecolor\":\"white\",\"showbackground\":true,\"ticks\":\"\",\"zerolinecolor\":\"white\",\"gridwidth\":2},\"yaxis\":{\"backgroundcolor\":\"#E5ECF6\",\"gridcolor\":\"white\",\"linecolor\":\"white\",\"showbackground\":true,\"ticks\":\"\",\"zerolinecolor\":\"white\",\"gridwidth\":2},\"zaxis\":{\"backgroundcolor\":\"#E5ECF6\",\"gridcolor\":\"white\",\"linecolor\":\"white\",\"showbackground\":true,\"ticks\":\"\",\"zerolinecolor\":\"white\",\"gridwidth\":2}},\"shapedefaults\":{\"line\":{\"color\":\"#2a3f5f\"}},\"annotationdefaults\":{\"arrowcolor\":\"#2a3f5f\",\"arrowhead\":0,\"arrowwidth\":1},\"geo\":{\"bgcolor\":\"white\",\"landcolor\":\"#E5ECF6\",\"subunitcolor\":\"white\",\"showland\":true,\"showlakes\":true,\"lakecolor\":\"white\"},\"title\":{\"x\":0.05},\"mapbox\":{\"style\":\"light\"}}},\"coloraxis\":{\"colorbar\":{\"title\":{\"text\":\"color\"}},\"colorscale\":[[0.0,\"rgb(247,252,245)\"],[0.125,\"rgb(229,245,224)\"],[0.25,\"rgb(199,233,192)\"],[0.375,\"rgb(161,217,155)\"],[0.5,\"rgb(116,196,118)\"],[0.625,\"rgb(65,171,93)\"],[0.75,\"rgb(35,139,69)\"],[0.875,\"rgb(0,109,44)\"],[1.0,\"rgb(0,68,27)\"]]},\"legend\":{\"tracegroupgap\":0},\"margin\":{\"t\":60}},                        {\"responsive\": true}                    ).then(function(){\n",
       "                            \n",
       "var gd = document.getElementById('fcc1082b-5c66-4739-b31c-05dc2f25fa88');\n",
       "var x = new MutationObserver(function (mutations, observer) {{\n",
       "        var display = window.getComputedStyle(gd).display;\n",
       "        if (!display || display === 'none') {{\n",
       "            console.log([gd, 'removed!']);\n",
       "            Plotly.purge(gd);\n",
       "            observer.disconnect();\n",
       "        }}\n",
       "}});\n",
       "\n",
       "// Listen for the removal of the full notebook cells\n",
       "var notebookContainer = gd.closest('#notebook-container');\n",
       "if (notebookContainer) {{\n",
       "    x.observe(notebookContainer, {childList: true});\n",
       "}}\n",
       "\n",
       "// Listen for the clearing of the current output cell\n",
       "var outputEl = gd.closest('.output');\n",
       "if (outputEl) {{\n",
       "    x.observe(outputEl, {childList: true});\n",
       "}}\n",
       "\n",
       "                        })                };                });            </script>        </div>"
      ]
     },
     "metadata": {},
     "output_type": "display_data"
    }
   ],
   "source": [
    "# Plotting treemap for visualization\n",
    "\n",
    "import plotly.express as px\n",
    "\n",
    "df1[\"all\"] = \"all\" \n",
    "\n",
    "fig = px.treemap(df1.head(len(df1)), path=['all', \"items\"], values='incident_count',\n",
    "                  color=df1[\"incident_count\"].head(len(df1)), hover_data=['items'],\n",
    "                  color_continuous_scale='Greens',\n",
    "                )\n",
    "fig.show()"
   ]
  },
  {
   "cell_type": "code",
   "execution_count": 802,
   "id": "6af0f022",
   "metadata": {},
   "outputs": [
    {
     "data": {
      "text/html": [
       "<div>\n",
       "<style scoped>\n",
       "    .dataframe tbody tr th:only-of-type {\n",
       "        vertical-align: middle;\n",
       "    }\n",
       "\n",
       "    .dataframe tbody tr th {\n",
       "        vertical-align: top;\n",
       "    }\n",
       "\n",
       "    .dataframe thead th {\n",
       "        text-align: right;\n",
       "    }\n",
       "</style>\n",
       "<table border=\"1\" class=\"dataframe\">\n",
       "  <thead>\n",
       "    <tr style=\"text-align: right;\">\n",
       "      <th></th>\n",
       "      <th>1024.0</th>\n",
       "      <th>128.0</th>\n",
       "      <th>16.0</th>\n",
       "      <th>256.0</th>\n",
       "      <th>32.0</th>\n",
       "      <th>4.0</th>\n",
       "      <th>512.0</th>\n",
       "      <th>64.0</th>\n",
       "      <th>8.0</th>\n",
       "      <th>Android</th>\n",
       "      <th>...</th>\n",
       "      <th>OPPO</th>\n",
       "      <th>OnePlus</th>\n",
       "      <th>Other</th>\n",
       "      <th>Realme</th>\n",
       "      <th>Samsung</th>\n",
       "      <th>Tecno</th>\n",
       "      <th>Tizen</th>\n",
       "      <th>Vivo</th>\n",
       "      <th>Xiaomi</th>\n",
       "      <th>iOS</th>\n",
       "    </tr>\n",
       "  </thead>\n",
       "  <tbody>\n",
       "    <tr>\n",
       "      <th>0</th>\n",
       "      <td>False</td>\n",
       "      <td>True</td>\n",
       "      <td>False</td>\n",
       "      <td>False</td>\n",
       "      <td>False</td>\n",
       "      <td>False</td>\n",
       "      <td>False</td>\n",
       "      <td>False</td>\n",
       "      <td>False</td>\n",
       "      <td>True</td>\n",
       "      <td>...</td>\n",
       "      <td>False</td>\n",
       "      <td>False</td>\n",
       "      <td>False</td>\n",
       "      <td>False</td>\n",
       "      <td>False</td>\n",
       "      <td>False</td>\n",
       "      <td>False</td>\n",
       "      <td>False</td>\n",
       "      <td>True</td>\n",
       "      <td>False</td>\n",
       "    </tr>\n",
       "    <tr>\n",
       "      <th>1</th>\n",
       "      <td>False</td>\n",
       "      <td>True</td>\n",
       "      <td>False</td>\n",
       "      <td>False</td>\n",
       "      <td>False</td>\n",
       "      <td>False</td>\n",
       "      <td>False</td>\n",
       "      <td>False</td>\n",
       "      <td>False</td>\n",
       "      <td>True</td>\n",
       "      <td>...</td>\n",
       "      <td>True</td>\n",
       "      <td>False</td>\n",
       "      <td>False</td>\n",
       "      <td>False</td>\n",
       "      <td>False</td>\n",
       "      <td>False</td>\n",
       "      <td>False</td>\n",
       "      <td>False</td>\n",
       "      <td>False</td>\n",
       "      <td>False</td>\n",
       "    </tr>\n",
       "    <tr>\n",
       "      <th>2</th>\n",
       "      <td>False</td>\n",
       "      <td>False</td>\n",
       "      <td>False</td>\n",
       "      <td>False</td>\n",
       "      <td>False</td>\n",
       "      <td>False</td>\n",
       "      <td>False</td>\n",
       "      <td>True</td>\n",
       "      <td>False</td>\n",
       "      <td>True</td>\n",
       "      <td>...</td>\n",
       "      <td>False</td>\n",
       "      <td>False</td>\n",
       "      <td>False</td>\n",
       "      <td>False</td>\n",
       "      <td>False</td>\n",
       "      <td>False</td>\n",
       "      <td>False</td>\n",
       "      <td>False</td>\n",
       "      <td>True</td>\n",
       "      <td>False</td>\n",
       "    </tr>\n",
       "    <tr>\n",
       "      <th>3</th>\n",
       "      <td>False</td>\n",
       "      <td>False</td>\n",
       "      <td>False</td>\n",
       "      <td>True</td>\n",
       "      <td>False</td>\n",
       "      <td>False</td>\n",
       "      <td>False</td>\n",
       "      <td>False</td>\n",
       "      <td>False</td>\n",
       "      <td>True</td>\n",
       "      <td>...</td>\n",
       "      <td>False</td>\n",
       "      <td>True</td>\n",
       "      <td>False</td>\n",
       "      <td>False</td>\n",
       "      <td>False</td>\n",
       "      <td>False</td>\n",
       "      <td>False</td>\n",
       "      <td>False</td>\n",
       "      <td>False</td>\n",
       "      <td>False</td>\n",
       "    </tr>\n",
       "    <tr>\n",
       "      <th>4</th>\n",
       "      <td>False</td>\n",
       "      <td>True</td>\n",
       "      <td>False</td>\n",
       "      <td>False</td>\n",
       "      <td>False</td>\n",
       "      <td>False</td>\n",
       "      <td>False</td>\n",
       "      <td>False</td>\n",
       "      <td>False</td>\n",
       "      <td>False</td>\n",
       "      <td>...</td>\n",
       "      <td>False</td>\n",
       "      <td>False</td>\n",
       "      <td>False</td>\n",
       "      <td>False</td>\n",
       "      <td>False</td>\n",
       "      <td>False</td>\n",
       "      <td>False</td>\n",
       "      <td>False</td>\n",
       "      <td>False</td>\n",
       "      <td>True</td>\n",
       "    </tr>\n",
       "    <tr>\n",
       "      <th>...</th>\n",
       "      <td>...</td>\n",
       "      <td>...</td>\n",
       "      <td>...</td>\n",
       "      <td>...</td>\n",
       "      <td>...</td>\n",
       "      <td>...</td>\n",
       "      <td>...</td>\n",
       "      <td>...</td>\n",
       "      <td>...</td>\n",
       "      <td>...</td>\n",
       "      <td>...</td>\n",
       "      <td>...</td>\n",
       "      <td>...</td>\n",
       "      <td>...</td>\n",
       "      <td>...</td>\n",
       "      <td>...</td>\n",
       "      <td>...</td>\n",
       "      <td>...</td>\n",
       "      <td>...</td>\n",
       "      <td>...</td>\n",
       "      <td>...</td>\n",
       "    </tr>\n",
       "    <tr>\n",
       "      <th>2486</th>\n",
       "      <td>False</td>\n",
       "      <td>True</td>\n",
       "      <td>False</td>\n",
       "      <td>False</td>\n",
       "      <td>False</td>\n",
       "      <td>False</td>\n",
       "      <td>False</td>\n",
       "      <td>False</td>\n",
       "      <td>False</td>\n",
       "      <td>True</td>\n",
       "      <td>...</td>\n",
       "      <td>False</td>\n",
       "      <td>False</td>\n",
       "      <td>False</td>\n",
       "      <td>False</td>\n",
       "      <td>True</td>\n",
       "      <td>False</td>\n",
       "      <td>False</td>\n",
       "      <td>False</td>\n",
       "      <td>False</td>\n",
       "      <td>False</td>\n",
       "    </tr>\n",
       "    <tr>\n",
       "      <th>2487</th>\n",
       "      <td>False</td>\n",
       "      <td>False</td>\n",
       "      <td>False</td>\n",
       "      <td>False</td>\n",
       "      <td>False</td>\n",
       "      <td>False</td>\n",
       "      <td>False</td>\n",
       "      <td>True</td>\n",
       "      <td>False</td>\n",
       "      <td>True</td>\n",
       "      <td>...</td>\n",
       "      <td>False</td>\n",
       "      <td>False</td>\n",
       "      <td>False</td>\n",
       "      <td>False</td>\n",
       "      <td>False</td>\n",
       "      <td>False</td>\n",
       "      <td>False</td>\n",
       "      <td>False</td>\n",
       "      <td>True</td>\n",
       "      <td>False</td>\n",
       "    </tr>\n",
       "    <tr>\n",
       "      <th>2488</th>\n",
       "      <td>False</td>\n",
       "      <td>True</td>\n",
       "      <td>False</td>\n",
       "      <td>False</td>\n",
       "      <td>False</td>\n",
       "      <td>False</td>\n",
       "      <td>False</td>\n",
       "      <td>False</td>\n",
       "      <td>False</td>\n",
       "      <td>True</td>\n",
       "      <td>...</td>\n",
       "      <td>False</td>\n",
       "      <td>True</td>\n",
       "      <td>False</td>\n",
       "      <td>False</td>\n",
       "      <td>False</td>\n",
       "      <td>False</td>\n",
       "      <td>False</td>\n",
       "      <td>False</td>\n",
       "      <td>False</td>\n",
       "      <td>False</td>\n",
       "    </tr>\n",
       "    <tr>\n",
       "      <th>2489</th>\n",
       "      <td>False</td>\n",
       "      <td>False</td>\n",
       "      <td>False</td>\n",
       "      <td>True</td>\n",
       "      <td>False</td>\n",
       "      <td>False</td>\n",
       "      <td>False</td>\n",
       "      <td>False</td>\n",
       "      <td>False</td>\n",
       "      <td>True</td>\n",
       "      <td>...</td>\n",
       "      <td>False</td>\n",
       "      <td>False</td>\n",
       "      <td>False</td>\n",
       "      <td>False</td>\n",
       "      <td>True</td>\n",
       "      <td>False</td>\n",
       "      <td>False</td>\n",
       "      <td>False</td>\n",
       "      <td>False</td>\n",
       "      <td>False</td>\n",
       "    </tr>\n",
       "    <tr>\n",
       "      <th>2490</th>\n",
       "      <td>False</td>\n",
       "      <td>True</td>\n",
       "      <td>False</td>\n",
       "      <td>False</td>\n",
       "      <td>False</td>\n",
       "      <td>False</td>\n",
       "      <td>False</td>\n",
       "      <td>False</td>\n",
       "      <td>False</td>\n",
       "      <td>True</td>\n",
       "      <td>...</td>\n",
       "      <td>False</td>\n",
       "      <td>False</td>\n",
       "      <td>False</td>\n",
       "      <td>False</td>\n",
       "      <td>False</td>\n",
       "      <td>False</td>\n",
       "      <td>False</td>\n",
       "      <td>True</td>\n",
       "      <td>False</td>\n",
       "      <td>False</td>\n",
       "    </tr>\n",
       "  </tbody>\n",
       "</table>\n",
       "<p>2491 rows × 23 columns</p>\n",
       "</div>"
      ],
      "text/plain": [
       "      1024.0  128.0   16.0  256.0   32.0    4.0  512.0   64.0    8.0  Android  \\\n",
       "0      False   True  False  False  False  False  False  False  False     True   \n",
       "1      False   True  False  False  False  False  False  False  False     True   \n",
       "2      False  False  False  False  False  False  False   True  False     True   \n",
       "3      False  False  False   True  False  False  False  False  False     True   \n",
       "4      False   True  False  False  False  False  False  False  False    False   \n",
       "...      ...    ...    ...    ...    ...    ...    ...    ...    ...      ...   \n",
       "2486   False   True  False  False  False  False  False  False  False     True   \n",
       "2487   False  False  False  False  False  False  False   True  False     True   \n",
       "2488   False   True  False  False  False  False  False  False  False     True   \n",
       "2489   False  False  False   True  False  False  False  False  False     True   \n",
       "2490   False   True  False  False  False  False  False  False  False     True   \n",
       "\n",
       "      ...   OPPO  OnePlus  Other  Realme  Samsung  Tecno  Tizen   Vivo  \\\n",
       "0     ...  False    False  False   False    False  False  False  False   \n",
       "1     ...   True    False  False   False    False  False  False  False   \n",
       "2     ...  False    False  False   False    False  False  False  False   \n",
       "3     ...  False     True  False   False    False  False  False  False   \n",
       "4     ...  False    False  False   False    False  False  False  False   \n",
       "...   ...    ...      ...    ...     ...      ...    ...    ...    ...   \n",
       "2486  ...  False    False  False   False     True  False  False  False   \n",
       "2487  ...  False    False  False   False    False  False  False  False   \n",
       "2488  ...  False     True  False   False    False  False  False  False   \n",
       "2489  ...  False    False  False   False     True  False  False  False   \n",
       "2490  ...  False    False  False   False    False  False  False   True   \n",
       "\n",
       "      Xiaomi    iOS  \n",
       "0       True  False  \n",
       "1      False  False  \n",
       "2       True  False  \n",
       "3      False  False  \n",
       "4      False   True  \n",
       "...      ...    ...  \n",
       "2486   False  False  \n",
       "2487    True  False  \n",
       "2488   False  False  \n",
       "2489   False  False  \n",
       "2490   False  False  \n",
       "\n",
       "[2491 rows x 23 columns]"
      ]
     },
     "execution_count": 802,
     "metadata": {},
     "output_type": "execute_result"
    }
   ],
   "source": [
    "# Encoding all transactions (dataset)\n",
    "\n",
    "from mlxtend.preprocessing import TransactionEncoder\n",
    "\n",
    "te = TransactionEncoder()\n",
    "te_ary = te.fit(transaction).transform(transaction)\n",
    "dataset = pd.DataFrame(te_ary, columns=te.columns_)\n",
    "\n",
    "dataset"
   ]
  },
  {
   "cell_type": "code",
   "execution_count": 803,
   "id": "f3615bc3",
   "metadata": {},
   "outputs": [
    {
     "data": {
      "text/html": [
       "<div>\n",
       "<style scoped>\n",
       "    .dataframe tbody tr th:only-of-type {\n",
       "        vertical-align: middle;\n",
       "    }\n",
       "\n",
       "    .dataframe tbody tr th {\n",
       "        vertical-align: top;\n",
       "    }\n",
       "\n",
       "    .dataframe thead th {\n",
       "        text-align: right;\n",
       "    }\n",
       "</style>\n",
       "<table border=\"1\" class=\"dataframe\">\n",
       "  <thead>\n",
       "    <tr style=\"text-align: right;\">\n",
       "      <th></th>\n",
       "      <th>support</th>\n",
       "      <th>itemsets</th>\n",
       "      <th>length</th>\n",
       "    </tr>\n",
       "  </thead>\n",
       "  <tbody>\n",
       "    <tr>\n",
       "      <th>0</th>\n",
       "      <td>0.409474</td>\n",
       "      <td>(128.0)</td>\n",
       "      <td>1</td>\n",
       "    </tr>\n",
       "    <tr>\n",
       "      <th>1</th>\n",
       "      <td>0.026897</td>\n",
       "      <td>(16.0)</td>\n",
       "      <td>1</td>\n",
       "    </tr>\n",
       "    <tr>\n",
       "      <th>2</th>\n",
       "      <td>0.159374</td>\n",
       "      <td>(256.0)</td>\n",
       "      <td>1</td>\n",
       "    </tr>\n",
       "    <tr>\n",
       "      <th>3</th>\n",
       "      <td>0.106383</td>\n",
       "      <td>(32.0)</td>\n",
       "      <td>1</td>\n",
       "    </tr>\n",
       "    <tr>\n",
       "      <th>4</th>\n",
       "      <td>0.024488</td>\n",
       "      <td>(512.0)</td>\n",
       "      <td>1</td>\n",
       "    </tr>\n",
       "    <tr>\n",
       "      <th>...</th>\n",
       "      <td>...</td>\n",
       "      <td>...</td>\n",
       "      <td>...</td>\n",
       "    </tr>\n",
       "    <tr>\n",
       "      <th>94</th>\n",
       "      <td>0.034524</td>\n",
       "      <td>(64.0, Android, Samsung)</td>\n",
       "      <td>3</td>\n",
       "    </tr>\n",
       "    <tr>\n",
       "      <th>95</th>\n",
       "      <td>0.023284</td>\n",
       "      <td>(64.0, Tecno, Android)</td>\n",
       "      <td>3</td>\n",
       "    </tr>\n",
       "    <tr>\n",
       "      <th>96</th>\n",
       "      <td>0.021277</td>\n",
       "      <td>(64.0, Android, Vivo)</td>\n",
       "      <td>3</td>\n",
       "    </tr>\n",
       "    <tr>\n",
       "      <th>97</th>\n",
       "      <td>0.052188</td>\n",
       "      <td>(64.0, Android, Xiaomi)</td>\n",
       "      <td>3</td>\n",
       "    </tr>\n",
       "    <tr>\n",
       "      <th>98</th>\n",
       "      <td>0.026495</td>\n",
       "      <td>(64.0, Apple, iOS)</td>\n",
       "      <td>3</td>\n",
       "    </tr>\n",
       "  </tbody>\n",
       "</table>\n",
       "<p>99 rows × 3 columns</p>\n",
       "</div>"
      ],
      "text/plain": [
       "     support                  itemsets  length\n",
       "0   0.409474                   (128.0)       1\n",
       "1   0.026897                    (16.0)       1\n",
       "2   0.159374                   (256.0)       1\n",
       "3   0.106383                    (32.0)       1\n",
       "4   0.024488                   (512.0)       1\n",
       "..       ...                       ...     ...\n",
       "94  0.034524  (64.0, Android, Samsung)       3\n",
       "95  0.023284    (64.0, Tecno, Android)       3\n",
       "96  0.021277     (64.0, Android, Vivo)       3\n",
       "97  0.052188   (64.0, Android, Xiaomi)       3\n",
       "98  0.026495        (64.0, Apple, iOS)       3\n",
       "\n",
       "[99 rows x 3 columns]"
      ]
     },
     "execution_count": 803,
     "metadata": {},
     "output_type": "execute_result"
    }
   ],
   "source": [
    "# Using Apriori algorithm to generate all frequent itemsets\n",
    "\n",
    "from mlxtend.frequent_patterns import apriori, association_rules\n",
    "\n",
    "frequent_itemsets = apriori(dataset, min_support=0.01, use_colnames=True)\n",
    "frequent_itemsets['length'] = frequent_itemsets['itemsets'].apply(lambda x: len(x))\n",
    "\n",
    "frequent_itemsets"
   ]
  },
  {
   "cell_type": "markdown",
   "id": "475e4ef5",
   "metadata": {},
   "source": [
    "### Mining association rules"
   ]
  },
  {
   "cell_type": "code",
   "execution_count": 809,
   "id": "f1850d47",
   "metadata": {},
   "outputs": [
    {
     "data": {
      "text/html": [
       "<div>\n",
       "<style scoped>\n",
       "    .dataframe tbody tr th:only-of-type {\n",
       "        vertical-align: middle;\n",
       "    }\n",
       "\n",
       "    .dataframe tbody tr th {\n",
       "        vertical-align: top;\n",
       "    }\n",
       "\n",
       "    .dataframe thead th {\n",
       "        text-align: right;\n",
       "    }\n",
       "</style>\n",
       "<table border=\"1\" class=\"dataframe\">\n",
       "  <thead>\n",
       "    <tr style=\"text-align: right;\">\n",
       "      <th></th>\n",
       "      <th>antecedents</th>\n",
       "      <th>consequents</th>\n",
       "      <th>antecedent support</th>\n",
       "      <th>consequent support</th>\n",
       "      <th>support</th>\n",
       "      <th>confidence</th>\n",
       "      <th>lift</th>\n",
       "      <th>leverage</th>\n",
       "      <th>conviction</th>\n",
       "      <th>zhangs_metric</th>\n",
       "      <th>antecedents_length</th>\n",
       "      <th>consequents_length</th>\n",
       "    </tr>\n",
       "  </thead>\n",
       "  <tbody>\n",
       "    <tr>\n",
       "      <th>33</th>\n",
       "      <td>(iOS)</td>\n",
       "      <td>(Apple)</td>\n",
       "      <td>0.150542</td>\n",
       "      <td>0.150542</td>\n",
       "      <td>0.150542</td>\n",
       "      <td>1.000000</td>\n",
       "      <td>6.642667</td>\n",
       "      <td>0.127879</td>\n",
       "      <td>inf</td>\n",
       "      <td>1.000000</td>\n",
       "      <td>1</td>\n",
       "      <td>1</td>\n",
       "    </tr>\n",
       "    <tr>\n",
       "      <th>62</th>\n",
       "      <td>(Apple, 256.0)</td>\n",
       "      <td>(iOS)</td>\n",
       "      <td>0.041750</td>\n",
       "      <td>0.150542</td>\n",
       "      <td>0.041750</td>\n",
       "      <td>1.000000</td>\n",
       "      <td>6.642667</td>\n",
       "      <td>0.035465</td>\n",
       "      <td>inf</td>\n",
       "      <td>0.886468</td>\n",
       "      <td>2</td>\n",
       "      <td>1</td>\n",
       "    </tr>\n",
       "    <tr>\n",
       "      <th>61</th>\n",
       "      <td>(256.0, iOS)</td>\n",
       "      <td>(Apple)</td>\n",
       "      <td>0.041750</td>\n",
       "      <td>0.150542</td>\n",
       "      <td>0.041750</td>\n",
       "      <td>1.000000</td>\n",
       "      <td>6.642667</td>\n",
       "      <td>0.035465</td>\n",
       "      <td>inf</td>\n",
       "      <td>0.886468</td>\n",
       "      <td>2</td>\n",
       "      <td>1</td>\n",
       "    </tr>\n",
       "    <tr>\n",
       "      <th>74</th>\n",
       "      <td>(Apple, 512.0)</td>\n",
       "      <td>(iOS)</td>\n",
       "      <td>0.021678</td>\n",
       "      <td>0.150542</td>\n",
       "      <td>0.021678</td>\n",
       "      <td>1.000000</td>\n",
       "      <td>6.642667</td>\n",
       "      <td>0.018415</td>\n",
       "      <td>inf</td>\n",
       "      <td>0.868281</td>\n",
       "      <td>2</td>\n",
       "      <td>1</td>\n",
       "    </tr>\n",
       "    <tr>\n",
       "      <th>76</th>\n",
       "      <td>(512.0, iOS)</td>\n",
       "      <td>(Apple)</td>\n",
       "      <td>0.021678</td>\n",
       "      <td>0.150542</td>\n",
       "      <td>0.021678</td>\n",
       "      <td>1.000000</td>\n",
       "      <td>6.642667</td>\n",
       "      <td>0.018415</td>\n",
       "      <td>inf</td>\n",
       "      <td>0.868281</td>\n",
       "      <td>2</td>\n",
       "      <td>1</td>\n",
       "    </tr>\n",
       "    <tr>\n",
       "      <th>...</th>\n",
       "      <td>...</td>\n",
       "      <td>...</td>\n",
       "      <td>...</td>\n",
       "      <td>...</td>\n",
       "      <td>...</td>\n",
       "      <td>...</td>\n",
       "      <td>...</td>\n",
       "      <td>...</td>\n",
       "      <td>...</td>\n",
       "      <td>...</td>\n",
       "      <td>...</td>\n",
       "      <td>...</td>\n",
       "    </tr>\n",
       "    <tr>\n",
       "      <th>96</th>\n",
       "      <td>(64.0)</td>\n",
       "      <td>(Tecno, Android)</td>\n",
       "      <td>0.258531</td>\n",
       "      <td>0.054998</td>\n",
       "      <td>0.023284</td>\n",
       "      <td>0.090062</td>\n",
       "      <td>1.637553</td>\n",
       "      <td>0.009065</td>\n",
       "      <td>1.038535</td>\n",
       "      <td>0.525083</td>\n",
       "      <td>1</td>\n",
       "      <td>2</td>\n",
       "    </tr>\n",
       "    <tr>\n",
       "      <th>28</th>\n",
       "      <td>(64.0)</td>\n",
       "      <td>(Tecno)</td>\n",
       "      <td>0.258531</td>\n",
       "      <td>0.054998</td>\n",
       "      <td>0.023284</td>\n",
       "      <td>0.090062</td>\n",
       "      <td>1.637553</td>\n",
       "      <td>0.009065</td>\n",
       "      <td>1.038535</td>\n",
       "      <td>0.525083</td>\n",
       "      <td>1</td>\n",
       "      <td>1</td>\n",
       "    </tr>\n",
       "    <tr>\n",
       "      <th>84</th>\n",
       "      <td>(64.0, Android)</td>\n",
       "      <td>(Motorola)</td>\n",
       "      <td>0.230831</td>\n",
       "      <td>0.038539</td>\n",
       "      <td>0.016058</td>\n",
       "      <td>0.069565</td>\n",
       "      <td>1.805072</td>\n",
       "      <td>0.007162</td>\n",
       "      <td>1.033346</td>\n",
       "      <td>0.579854</td>\n",
       "      <td>2</td>\n",
       "      <td>1</td>\n",
       "    </tr>\n",
       "    <tr>\n",
       "      <th>24</th>\n",
       "      <td>(64.0)</td>\n",
       "      <td>(Motorola)</td>\n",
       "      <td>0.258531</td>\n",
       "      <td>0.038539</td>\n",
       "      <td>0.016058</td>\n",
       "      <td>0.062112</td>\n",
       "      <td>1.611672</td>\n",
       "      <td>0.006094</td>\n",
       "      <td>1.025134</td>\n",
       "      <td>0.511857</td>\n",
       "      <td>1</td>\n",
       "      <td>1</td>\n",
       "    </tr>\n",
       "    <tr>\n",
       "      <th>86</th>\n",
       "      <td>(64.0)</td>\n",
       "      <td>(Android, Motorola)</td>\n",
       "      <td>0.258531</td>\n",
       "      <td>0.038539</td>\n",
       "      <td>0.016058</td>\n",
       "      <td>0.062112</td>\n",
       "      <td>1.611672</td>\n",
       "      <td>0.006094</td>\n",
       "      <td>1.025134</td>\n",
       "      <td>0.511857</td>\n",
       "      <td>1</td>\n",
       "      <td>2</td>\n",
       "    </tr>\n",
       "  </tbody>\n",
       "</table>\n",
       "<p>106 rows × 12 columns</p>\n",
       "</div>"
      ],
      "text/plain": [
       "        antecedents          consequents  antecedent support  \\\n",
       "33            (iOS)              (Apple)            0.150542   \n",
       "62   (Apple, 256.0)                (iOS)            0.041750   \n",
       "61     (256.0, iOS)              (Apple)            0.041750   \n",
       "74   (Apple, 512.0)                (iOS)            0.021678   \n",
       "76     (512.0, iOS)              (Apple)            0.021678   \n",
       "..              ...                  ...                 ...   \n",
       "96           (64.0)     (Tecno, Android)            0.258531   \n",
       "28           (64.0)              (Tecno)            0.258531   \n",
       "84  (64.0, Android)           (Motorola)            0.230831   \n",
       "24           (64.0)           (Motorola)            0.258531   \n",
       "86           (64.0)  (Android, Motorola)            0.258531   \n",
       "\n",
       "    consequent support   support  confidence      lift  leverage  conviction  \\\n",
       "33            0.150542  0.150542    1.000000  6.642667  0.127879         inf   \n",
       "62            0.150542  0.041750    1.000000  6.642667  0.035465         inf   \n",
       "61            0.150542  0.041750    1.000000  6.642667  0.035465         inf   \n",
       "74            0.150542  0.021678    1.000000  6.642667  0.018415         inf   \n",
       "76            0.150542  0.021678    1.000000  6.642667  0.018415         inf   \n",
       "..                 ...       ...         ...       ...       ...         ...   \n",
       "96            0.054998  0.023284    0.090062  1.637553  0.009065    1.038535   \n",
       "28            0.054998  0.023284    0.090062  1.637553  0.009065    1.038535   \n",
       "84            0.038539  0.016058    0.069565  1.805072  0.007162    1.033346   \n",
       "24            0.038539  0.016058    0.062112  1.611672  0.006094    1.025134   \n",
       "86            0.038539  0.016058    0.062112  1.611672  0.006094    1.025134   \n",
       "\n",
       "    zhangs_metric  antecedents_length  consequents_length  \n",
       "33       1.000000                   1                   1  \n",
       "62       0.886468                   2                   1  \n",
       "61       0.886468                   2                   1  \n",
       "74       0.868281                   2                   1  \n",
       "76       0.868281                   2                   1  \n",
       "..            ...                 ...                 ...  \n",
       "96       0.525083                   1                   2  \n",
       "28       0.525083                   1                   1  \n",
       "84       0.579854                   2                   1  \n",
       "24       0.511857                   1                   1  \n",
       "86       0.511857                   1                   2  \n",
       "\n",
       "[106 rows x 12 columns]"
      ]
     },
     "execution_count": 809,
     "metadata": {},
     "output_type": "execute_result"
    }
   ],
   "source": [
    "# \"Lift\" is used to define whether antecedents & consequents are dependent our not\n",
    "rules = association_rules(frequent_itemsets, metric=\"lift\", min_threshold=1.2)\n",
    "rules[\"antecedents_length\"] = rules[\"antecedents\"].apply(lambda x: len(x))\n",
    "rules[\"consequents_length\"] = rules[\"consequents\"].apply(lambda x: len(x))\n",
    "# rules.sort_values(\"lift\",ascending=False)\n",
    "rules.sort_values(\"confidence\",ascending=False)"
   ]
  },
  {
   "cell_type": "code",
   "execution_count": 568,
   "id": "d3fbe9d9",
   "metadata": {},
   "outputs": [],
   "source": []
  },
  {
   "cell_type": "code",
   "execution_count": 815,
   "id": "6da9478f",
   "metadata": {
    "scrolled": true
   },
   "outputs": [
    {
     "data": {
      "text/html": [
       "<div>\n",
       "<style scoped>\n",
       "    .dataframe tbody tr th:only-of-type {\n",
       "        vertical-align: middle;\n",
       "    }\n",
       "\n",
       "    .dataframe tbody tr th {\n",
       "        vertical-align: top;\n",
       "    }\n",
       "\n",
       "    .dataframe thead th {\n",
       "        text-align: right;\n",
       "    }\n",
       "</style>\n",
       "<table border=\"1\" class=\"dataframe\">\n",
       "  <thead>\n",
       "    <tr style=\"text-align: right;\">\n",
       "      <th></th>\n",
       "      <th>antecedents</th>\n",
       "      <th>consequents</th>\n",
       "      <th>antecedent support</th>\n",
       "      <th>consequent support</th>\n",
       "      <th>support</th>\n",
       "      <th>confidence</th>\n",
       "      <th>lift</th>\n",
       "      <th>leverage</th>\n",
       "      <th>conviction</th>\n",
       "      <th>zhangs_metric</th>\n",
       "      <th>antecedents_length</th>\n",
       "      <th>consequents_length</th>\n",
       "    </tr>\n",
       "  </thead>\n",
       "  <tbody>\n",
       "    <tr>\n",
       "      <th>103</th>\n",
       "      <td>(64.0, iOS)</td>\n",
       "      <td>(Apple)</td>\n",
       "      <td>0.026495</td>\n",
       "      <td>0.150542</td>\n",
       "      <td>0.026495</td>\n",
       "      <td>1.000000</td>\n",
       "      <td>6.642667</td>\n",
       "      <td>0.022507</td>\n",
       "      <td>inf</td>\n",
       "      <td>0.872577</td>\n",
       "      <td>2</td>\n",
       "      <td>1</td>\n",
       "    </tr>\n",
       "    <tr>\n",
       "      <th>61</th>\n",
       "      <td>(256.0, iOS)</td>\n",
       "      <td>(Apple)</td>\n",
       "      <td>0.041750</td>\n",
       "      <td>0.150542</td>\n",
       "      <td>0.041750</td>\n",
       "      <td>1.000000</td>\n",
       "      <td>6.642667</td>\n",
       "      <td>0.035465</td>\n",
       "      <td>inf</td>\n",
       "      <td>0.886468</td>\n",
       "      <td>2</td>\n",
       "      <td>1</td>\n",
       "    </tr>\n",
       "    <tr>\n",
       "      <th>102</th>\n",
       "      <td>(64.0, Apple)</td>\n",
       "      <td>(iOS)</td>\n",
       "      <td>0.026495</td>\n",
       "      <td>0.150542</td>\n",
       "      <td>0.026495</td>\n",
       "      <td>1.000000</td>\n",
       "      <td>6.642667</td>\n",
       "      <td>0.022507</td>\n",
       "      <td>inf</td>\n",
       "      <td>0.872577</td>\n",
       "      <td>2</td>\n",
       "      <td>1</td>\n",
       "    </tr>\n",
       "    <tr>\n",
       "      <th>76</th>\n",
       "      <td>(512.0, iOS)</td>\n",
       "      <td>(Apple)</td>\n",
       "      <td>0.021678</td>\n",
       "      <td>0.150542</td>\n",
       "      <td>0.021678</td>\n",
       "      <td>1.000000</td>\n",
       "      <td>6.642667</td>\n",
       "      <td>0.018415</td>\n",
       "      <td>inf</td>\n",
       "      <td>0.868281</td>\n",
       "      <td>2</td>\n",
       "      <td>1</td>\n",
       "    </tr>\n",
       "    <tr>\n",
       "      <th>74</th>\n",
       "      <td>(Apple, 512.0)</td>\n",
       "      <td>(iOS)</td>\n",
       "      <td>0.021678</td>\n",
       "      <td>0.150542</td>\n",
       "      <td>0.021678</td>\n",
       "      <td>1.000000</td>\n",
       "      <td>6.642667</td>\n",
       "      <td>0.018415</td>\n",
       "      <td>inf</td>\n",
       "      <td>0.868281</td>\n",
       "      <td>2</td>\n",
       "      <td>1</td>\n",
       "    </tr>\n",
       "    <tr>\n",
       "      <th>62</th>\n",
       "      <td>(Apple, 256.0)</td>\n",
       "      <td>(iOS)</td>\n",
       "      <td>0.041750</td>\n",
       "      <td>0.150542</td>\n",
       "      <td>0.041750</td>\n",
       "      <td>1.000000</td>\n",
       "      <td>6.642667</td>\n",
       "      <td>0.035465</td>\n",
       "      <td>inf</td>\n",
       "      <td>0.886468</td>\n",
       "      <td>2</td>\n",
       "      <td>1</td>\n",
       "    </tr>\n",
       "    <tr>\n",
       "      <th>46</th>\n",
       "      <td>(Apple, 128.0)</td>\n",
       "      <td>(iOS)</td>\n",
       "      <td>0.040145</td>\n",
       "      <td>0.150542</td>\n",
       "      <td>0.040145</td>\n",
       "      <td>1.000000</td>\n",
       "      <td>6.642667</td>\n",
       "      <td>0.034101</td>\n",
       "      <td>inf</td>\n",
       "      <td>0.884985</td>\n",
       "      <td>2</td>\n",
       "      <td>1</td>\n",
       "    </tr>\n",
       "    <tr>\n",
       "      <th>47</th>\n",
       "      <td>(128.0, iOS)</td>\n",
       "      <td>(Apple)</td>\n",
       "      <td>0.040145</td>\n",
       "      <td>0.150542</td>\n",
       "      <td>0.040145</td>\n",
       "      <td>1.000000</td>\n",
       "      <td>6.642667</td>\n",
       "      <td>0.034101</td>\n",
       "      <td>inf</td>\n",
       "      <td>0.884985</td>\n",
       "      <td>2</td>\n",
       "      <td>1</td>\n",
       "    </tr>\n",
       "    <tr>\n",
       "      <th>34</th>\n",
       "      <td>(Android, OnePlus)</td>\n",
       "      <td>(128.0)</td>\n",
       "      <td>0.067844</td>\n",
       "      <td>0.409474</td>\n",
       "      <td>0.037736</td>\n",
       "      <td>0.556213</td>\n",
       "      <td>1.358359</td>\n",
       "      <td>0.009955</td>\n",
       "      <td>1.330652</td>\n",
       "      <td>0.283019</td>\n",
       "      <td>2</td>\n",
       "      <td>1</td>\n",
       "    </tr>\n",
       "    <tr>\n",
       "      <th>42</th>\n",
       "      <td>(Android, Vivo)</td>\n",
       "      <td>(128.0)</td>\n",
       "      <td>0.109996</td>\n",
       "      <td>0.409474</td>\n",
       "      <td>0.059012</td>\n",
       "      <td>0.536496</td>\n",
       "      <td>1.310208</td>\n",
       "      <td>0.013972</td>\n",
       "      <td>1.274048</td>\n",
       "      <td>0.266024</td>\n",
       "      <td>2</td>\n",
       "      <td>1</td>\n",
       "    </tr>\n",
       "    <tr>\n",
       "      <th>38</th>\n",
       "      <td>(Android, Samsung)</td>\n",
       "      <td>(128.0)</td>\n",
       "      <td>0.169008</td>\n",
       "      <td>0.409474</td>\n",
       "      <td>0.089522</td>\n",
       "      <td>0.529691</td>\n",
       "      <td>1.293589</td>\n",
       "      <td>0.020318</td>\n",
       "      <td>1.255613</td>\n",
       "      <td>0.273116</td>\n",
       "      <td>2</td>\n",
       "      <td>1</td>\n",
       "    </tr>\n",
       "    <tr>\n",
       "      <th>81</th>\n",
       "      <td>(Android, Infinix)</td>\n",
       "      <td>(64.0)</td>\n",
       "      <td>0.059815</td>\n",
       "      <td>0.258531</td>\n",
       "      <td>0.030911</td>\n",
       "      <td>0.516779</td>\n",
       "      <td>1.998906</td>\n",
       "      <td>0.015447</td>\n",
       "      <td>1.534430</td>\n",
       "      <td>0.531519</td>\n",
       "      <td>2</td>\n",
       "      <td>1</td>\n",
       "    </tr>\n",
       "    <tr>\n",
       "      <th>95</th>\n",
       "      <td>(Tecno, Android)</td>\n",
       "      <td>(64.0)</td>\n",
       "      <td>0.054998</td>\n",
       "      <td>0.258531</td>\n",
       "      <td>0.023284</td>\n",
       "      <td>0.423358</td>\n",
       "      <td>1.637553</td>\n",
       "      <td>0.009065</td>\n",
       "      <td>1.285839</td>\n",
       "      <td>0.411991</td>\n",
       "      <td>2</td>\n",
       "      <td>1</td>\n",
       "    </tr>\n",
       "    <tr>\n",
       "      <th>54</th>\n",
       "      <td>(Android, OnePlus)</td>\n",
       "      <td>(256.0)</td>\n",
       "      <td>0.067844</td>\n",
       "      <td>0.159374</td>\n",
       "      <td>0.028503</td>\n",
       "      <td>0.420118</td>\n",
       "      <td>2.636057</td>\n",
       "      <td>0.017690</td>\n",
       "      <td>1.449651</td>\n",
       "      <td>0.665817</td>\n",
       "      <td>2</td>\n",
       "      <td>1</td>\n",
       "    </tr>\n",
       "    <tr>\n",
       "      <th>85</th>\n",
       "      <td>(Android, Motorola)</td>\n",
       "      <td>(64.0)</td>\n",
       "      <td>0.038539</td>\n",
       "      <td>0.258531</td>\n",
       "      <td>0.016058</td>\n",
       "      <td>0.416667</td>\n",
       "      <td>1.611672</td>\n",
       "      <td>0.006094</td>\n",
       "      <td>1.271090</td>\n",
       "      <td>0.394739</td>\n",
       "      <td>2</td>\n",
       "      <td>1</td>\n",
       "    </tr>\n",
       "    <tr>\n",
       "      <th>91</th>\n",
       "      <td>(Realme, Android)</td>\n",
       "      <td>(64.0)</td>\n",
       "      <td>0.074669</td>\n",
       "      <td>0.258531</td>\n",
       "      <td>0.023284</td>\n",
       "      <td>0.311828</td>\n",
       "      <td>1.206154</td>\n",
       "      <td>0.003980</td>\n",
       "      <td>1.077448</td>\n",
       "      <td>0.184711</td>\n",
       "      <td>2</td>\n",
       "      <td>1</td>\n",
       "    </tr>\n",
       "    <tr>\n",
       "      <th>99</th>\n",
       "      <td>(Android, Xiaomi)</td>\n",
       "      <td>(64.0)</td>\n",
       "      <td>0.168206</td>\n",
       "      <td>0.258531</td>\n",
       "      <td>0.052188</td>\n",
       "      <td>0.310263</td>\n",
       "      <td>1.200099</td>\n",
       "      <td>0.008702</td>\n",
       "      <td>1.075002</td>\n",
       "      <td>0.200453</td>\n",
       "      <td>2</td>\n",
       "      <td>1</td>\n",
       "    </tr>\n",
       "    <tr>\n",
       "      <th>60</th>\n",
       "      <td>(Apple, iOS)</td>\n",
       "      <td>(256.0)</td>\n",
       "      <td>0.150542</td>\n",
       "      <td>0.159374</td>\n",
       "      <td>0.041750</td>\n",
       "      <td>0.277333</td>\n",
       "      <td>1.740144</td>\n",
       "      <td>0.017758</td>\n",
       "      <td>1.163228</td>\n",
       "      <td>0.500713</td>\n",
       "      <td>2</td>\n",
       "      <td>1</td>\n",
       "    </tr>\n",
       "    <tr>\n",
       "      <th>70</th>\n",
       "      <td>(32.0, Android)</td>\n",
       "      <td>(Xiaomi)</td>\n",
       "      <td>0.099558</td>\n",
       "      <td>0.169410</td>\n",
       "      <td>0.026094</td>\n",
       "      <td>0.262097</td>\n",
       "      <td>1.547116</td>\n",
       "      <td>0.009228</td>\n",
       "      <td>1.125608</td>\n",
       "      <td>0.392736</td>\n",
       "      <td>2</td>\n",
       "      <td>1</td>\n",
       "    </tr>\n",
       "    <tr>\n",
       "      <th>39</th>\n",
       "      <td>(Android, 128.0)</td>\n",
       "      <td>(Samsung)</td>\n",
       "      <td>0.367322</td>\n",
       "      <td>0.171016</td>\n",
       "      <td>0.089522</td>\n",
       "      <td>0.243716</td>\n",
       "      <td>1.425108</td>\n",
       "      <td>0.026704</td>\n",
       "      <td>1.096128</td>\n",
       "      <td>0.471487</td>\n",
       "      <td>2</td>\n",
       "      <td>1</td>\n",
       "    </tr>\n",
       "    <tr>\n",
       "      <th>55</th>\n",
       "      <td>(Android, 256.0)</td>\n",
       "      <td>(OnePlus)</td>\n",
       "      <td>0.117623</td>\n",
       "      <td>0.067844</td>\n",
       "      <td>0.028503</td>\n",
       "      <td>0.242321</td>\n",
       "      <td>3.571723</td>\n",
       "      <td>0.020523</td>\n",
       "      <td>1.230278</td>\n",
       "      <td>0.816004</td>\n",
       "      <td>2</td>\n",
       "      <td>1</td>\n",
       "    </tr>\n",
       "    <tr>\n",
       "      <th>98</th>\n",
       "      <td>(64.0, Android)</td>\n",
       "      <td>(Xiaomi)</td>\n",
       "      <td>0.230831</td>\n",
       "      <td>0.169410</td>\n",
       "      <td>0.052188</td>\n",
       "      <td>0.226087</td>\n",
       "      <td>1.334556</td>\n",
       "      <td>0.013083</td>\n",
       "      <td>1.073234</td>\n",
       "      <td>0.325919</td>\n",
       "      <td>2</td>\n",
       "      <td>1</td>\n",
       "    </tr>\n",
       "    <tr>\n",
       "      <th>50</th>\n",
       "      <td>(Android, OPPO)</td>\n",
       "      <td>(256.0)</td>\n",
       "      <td>0.098756</td>\n",
       "      <td>0.159374</td>\n",
       "      <td>0.019671</td>\n",
       "      <td>0.199187</td>\n",
       "      <td>1.249811</td>\n",
       "      <td>0.003932</td>\n",
       "      <td>1.049716</td>\n",
       "      <td>0.221781</td>\n",
       "      <td>2</td>\n",
       "      <td>1</td>\n",
       "    </tr>\n",
       "    <tr>\n",
       "      <th>51</th>\n",
       "      <td>(Android, 256.0)</td>\n",
       "      <td>(OPPO)</td>\n",
       "      <td>0.117623</td>\n",
       "      <td>0.098756</td>\n",
       "      <td>0.019671</td>\n",
       "      <td>0.167235</td>\n",
       "      <td>1.693429</td>\n",
       "      <td>0.008055</td>\n",
       "      <td>1.082232</td>\n",
       "      <td>0.464068</td>\n",
       "      <td>2</td>\n",
       "      <td>1</td>\n",
       "    </tr>\n",
       "    <tr>\n",
       "      <th>66</th>\n",
       "      <td>(Realme, Android)</td>\n",
       "      <td>(32.0)</td>\n",
       "      <td>0.074669</td>\n",
       "      <td>0.106383</td>\n",
       "      <td>0.012043</td>\n",
       "      <td>0.161290</td>\n",
       "      <td>1.516129</td>\n",
       "      <td>0.004100</td>\n",
       "      <td>1.065466</td>\n",
       "      <td>0.367896</td>\n",
       "      <td>2</td>\n",
       "      <td>1</td>\n",
       "    </tr>\n",
       "    <tr>\n",
       "      <th>43</th>\n",
       "      <td>(Android, 128.0)</td>\n",
       "      <td>(Vivo)</td>\n",
       "      <td>0.367322</td>\n",
       "      <td>0.109996</td>\n",
       "      <td>0.059012</td>\n",
       "      <td>0.160656</td>\n",
       "      <td>1.460560</td>\n",
       "      <td>0.018608</td>\n",
       "      <td>1.060356</td>\n",
       "      <td>0.498407</td>\n",
       "      <td>2</td>\n",
       "      <td>1</td>\n",
       "    </tr>\n",
       "    <tr>\n",
       "      <th>71</th>\n",
       "      <td>(Android, Xiaomi)</td>\n",
       "      <td>(32.0)</td>\n",
       "      <td>0.168206</td>\n",
       "      <td>0.106383</td>\n",
       "      <td>0.026094</td>\n",
       "      <td>0.155131</td>\n",
       "      <td>1.458234</td>\n",
       "      <td>0.008200</td>\n",
       "      <td>1.057699</td>\n",
       "      <td>0.377784</td>\n",
       "      <td>2</td>\n",
       "      <td>1</td>\n",
       "    </tr>\n",
       "    <tr>\n",
       "      <th>75</th>\n",
       "      <td>(Apple, iOS)</td>\n",
       "      <td>(512.0)</td>\n",
       "      <td>0.150542</td>\n",
       "      <td>0.024488</td>\n",
       "      <td>0.021678</td>\n",
       "      <td>0.144000</td>\n",
       "      <td>5.880393</td>\n",
       "      <td>0.017992</td>\n",
       "      <td>1.139617</td>\n",
       "      <td>0.977027</td>\n",
       "      <td>2</td>\n",
       "      <td>1</td>\n",
       "    </tr>\n",
       "    <tr>\n",
       "      <th>58</th>\n",
       "      <td>(Android, 256.0)</td>\n",
       "      <td>(Vivo)</td>\n",
       "      <td>0.117623</td>\n",
       "      <td>0.109996</td>\n",
       "      <td>0.016459</td>\n",
       "      <td>0.139932</td>\n",
       "      <td>1.272153</td>\n",
       "      <td>0.003521</td>\n",
       "      <td>1.034806</td>\n",
       "      <td>0.242449</td>\n",
       "      <td>2</td>\n",
       "      <td>1</td>\n",
       "    </tr>\n",
       "    <tr>\n",
       "      <th>80</th>\n",
       "      <td>(64.0, Android)</td>\n",
       "      <td>(Infinix)</td>\n",
       "      <td>0.230831</td>\n",
       "      <td>0.059815</td>\n",
       "      <td>0.030911</td>\n",
       "      <td>0.133913</td>\n",
       "      <td>2.238774</td>\n",
       "      <td>0.017104</td>\n",
       "      <td>1.085555</td>\n",
       "      <td>0.719383</td>\n",
       "      <td>2</td>\n",
       "      <td>1</td>\n",
       "    </tr>\n",
       "    <tr>\n",
       "      <th>67</th>\n",
       "      <td>(32.0, Android)</td>\n",
       "      <td>(Realme)</td>\n",
       "      <td>0.099558</td>\n",
       "      <td>0.074669</td>\n",
       "      <td>0.012043</td>\n",
       "      <td>0.120968</td>\n",
       "      <td>1.620057</td>\n",
       "      <td>0.004609</td>\n",
       "      <td>1.052670</td>\n",
       "      <td>0.425056</td>\n",
       "      <td>2</td>\n",
       "      <td>1</td>\n",
       "    </tr>\n",
       "    <tr>\n",
       "      <th>88</th>\n",
       "      <td>(64.0, Android)</td>\n",
       "      <td>(OPPO)</td>\n",
       "      <td>0.230831</td>\n",
       "      <td>0.098756</td>\n",
       "      <td>0.027700</td>\n",
       "      <td>0.120000</td>\n",
       "      <td>1.215122</td>\n",
       "      <td>0.004904</td>\n",
       "      <td>1.024141</td>\n",
       "      <td>0.230167</td>\n",
       "      <td>2</td>\n",
       "      <td>1</td>\n",
       "    </tr>\n",
       "    <tr>\n",
       "      <th>35</th>\n",
       "      <td>(Android, 128.0)</td>\n",
       "      <td>(OnePlus)</td>\n",
       "      <td>0.367322</td>\n",
       "      <td>0.067844</td>\n",
       "      <td>0.037736</td>\n",
       "      <td>0.102732</td>\n",
       "      <td>1.514237</td>\n",
       "      <td>0.012815</td>\n",
       "      <td>1.038882</td>\n",
       "      <td>0.536768</td>\n",
       "      <td>2</td>\n",
       "      <td>1</td>\n",
       "    </tr>\n",
       "    <tr>\n",
       "      <th>90</th>\n",
       "      <td>(64.0, Android)</td>\n",
       "      <td>(Realme)</td>\n",
       "      <td>0.230831</td>\n",
       "      <td>0.074669</td>\n",
       "      <td>0.023284</td>\n",
       "      <td>0.100870</td>\n",
       "      <td>1.350893</td>\n",
       "      <td>0.006048</td>\n",
       "      <td>1.029140</td>\n",
       "      <td>0.337701</td>\n",
       "      <td>2</td>\n",
       "      <td>1</td>\n",
       "    </tr>\n",
       "    <tr>\n",
       "      <th>94</th>\n",
       "      <td>(64.0, Android)</td>\n",
       "      <td>(Tecno)</td>\n",
       "      <td>0.230831</td>\n",
       "      <td>0.054998</td>\n",
       "      <td>0.023284</td>\n",
       "      <td>0.100870</td>\n",
       "      <td>1.834059</td>\n",
       "      <td>0.010589</td>\n",
       "      <td>1.051018</td>\n",
       "      <td>0.591237</td>\n",
       "      <td>2</td>\n",
       "      <td>1</td>\n",
       "    </tr>\n",
       "    <tr>\n",
       "      <th>84</th>\n",
       "      <td>(64.0, Android)</td>\n",
       "      <td>(Motorola)</td>\n",
       "      <td>0.230831</td>\n",
       "      <td>0.038539</td>\n",
       "      <td>0.016058</td>\n",
       "      <td>0.069565</td>\n",
       "      <td>1.805072</td>\n",
       "      <td>0.007162</td>\n",
       "      <td>1.033346</td>\n",
       "      <td>0.579854</td>\n",
       "      <td>2</td>\n",
       "      <td>1</td>\n",
       "    </tr>\n",
       "  </tbody>\n",
       "</table>\n",
       "</div>"
      ],
      "text/plain": [
       "             antecedents consequents  antecedent support  consequent support  \\\n",
       "103          (64.0, iOS)     (Apple)            0.026495            0.150542   \n",
       "61          (256.0, iOS)     (Apple)            0.041750            0.150542   \n",
       "102        (64.0, Apple)       (iOS)            0.026495            0.150542   \n",
       "76          (512.0, iOS)     (Apple)            0.021678            0.150542   \n",
       "74        (Apple, 512.0)       (iOS)            0.021678            0.150542   \n",
       "62        (Apple, 256.0)       (iOS)            0.041750            0.150542   \n",
       "46        (Apple, 128.0)       (iOS)            0.040145            0.150542   \n",
       "47          (128.0, iOS)     (Apple)            0.040145            0.150542   \n",
       "34    (Android, OnePlus)     (128.0)            0.067844            0.409474   \n",
       "42       (Android, Vivo)     (128.0)            0.109996            0.409474   \n",
       "38    (Android, Samsung)     (128.0)            0.169008            0.409474   \n",
       "81    (Android, Infinix)      (64.0)            0.059815            0.258531   \n",
       "95      (Tecno, Android)      (64.0)            0.054998            0.258531   \n",
       "54    (Android, OnePlus)     (256.0)            0.067844            0.159374   \n",
       "85   (Android, Motorola)      (64.0)            0.038539            0.258531   \n",
       "91     (Realme, Android)      (64.0)            0.074669            0.258531   \n",
       "99     (Android, Xiaomi)      (64.0)            0.168206            0.258531   \n",
       "60          (Apple, iOS)     (256.0)            0.150542            0.159374   \n",
       "70       (32.0, Android)    (Xiaomi)            0.099558            0.169410   \n",
       "39      (Android, 128.0)   (Samsung)            0.367322            0.171016   \n",
       "55      (Android, 256.0)   (OnePlus)            0.117623            0.067844   \n",
       "98       (64.0, Android)    (Xiaomi)            0.230831            0.169410   \n",
       "50       (Android, OPPO)     (256.0)            0.098756            0.159374   \n",
       "51      (Android, 256.0)      (OPPO)            0.117623            0.098756   \n",
       "66     (Realme, Android)      (32.0)            0.074669            0.106383   \n",
       "43      (Android, 128.0)      (Vivo)            0.367322            0.109996   \n",
       "71     (Android, Xiaomi)      (32.0)            0.168206            0.106383   \n",
       "75          (Apple, iOS)     (512.0)            0.150542            0.024488   \n",
       "58      (Android, 256.0)      (Vivo)            0.117623            0.109996   \n",
       "80       (64.0, Android)   (Infinix)            0.230831            0.059815   \n",
       "67       (32.0, Android)    (Realme)            0.099558            0.074669   \n",
       "88       (64.0, Android)      (OPPO)            0.230831            0.098756   \n",
       "35      (Android, 128.0)   (OnePlus)            0.367322            0.067844   \n",
       "90       (64.0, Android)    (Realme)            0.230831            0.074669   \n",
       "94       (64.0, Android)     (Tecno)            0.230831            0.054998   \n",
       "84       (64.0, Android)  (Motorola)            0.230831            0.038539   \n",
       "\n",
       "      support  confidence      lift  leverage  conviction  zhangs_metric  \\\n",
       "103  0.026495    1.000000  6.642667  0.022507         inf       0.872577   \n",
       "61   0.041750    1.000000  6.642667  0.035465         inf       0.886468   \n",
       "102  0.026495    1.000000  6.642667  0.022507         inf       0.872577   \n",
       "76   0.021678    1.000000  6.642667  0.018415         inf       0.868281   \n",
       "74   0.021678    1.000000  6.642667  0.018415         inf       0.868281   \n",
       "62   0.041750    1.000000  6.642667  0.035465         inf       0.886468   \n",
       "46   0.040145    1.000000  6.642667  0.034101         inf       0.884985   \n",
       "47   0.040145    1.000000  6.642667  0.034101         inf       0.884985   \n",
       "34   0.037736    0.556213  1.358359  0.009955    1.330652       0.283019   \n",
       "42   0.059012    0.536496  1.310208  0.013972    1.274048       0.266024   \n",
       "38   0.089522    0.529691  1.293589  0.020318    1.255613       0.273116   \n",
       "81   0.030911    0.516779  1.998906  0.015447    1.534430       0.531519   \n",
       "95   0.023284    0.423358  1.637553  0.009065    1.285839       0.411991   \n",
       "54   0.028503    0.420118  2.636057  0.017690    1.449651       0.665817   \n",
       "85   0.016058    0.416667  1.611672  0.006094    1.271090       0.394739   \n",
       "91   0.023284    0.311828  1.206154  0.003980    1.077448       0.184711   \n",
       "99   0.052188    0.310263  1.200099  0.008702    1.075002       0.200453   \n",
       "60   0.041750    0.277333  1.740144  0.017758    1.163228       0.500713   \n",
       "70   0.026094    0.262097  1.547116  0.009228    1.125608       0.392736   \n",
       "39   0.089522    0.243716  1.425108  0.026704    1.096128       0.471487   \n",
       "55   0.028503    0.242321  3.571723  0.020523    1.230278       0.816004   \n",
       "98   0.052188    0.226087  1.334556  0.013083    1.073234       0.325919   \n",
       "50   0.019671    0.199187  1.249811  0.003932    1.049716       0.221781   \n",
       "51   0.019671    0.167235  1.693429  0.008055    1.082232       0.464068   \n",
       "66   0.012043    0.161290  1.516129  0.004100    1.065466       0.367896   \n",
       "43   0.059012    0.160656  1.460560  0.018608    1.060356       0.498407   \n",
       "71   0.026094    0.155131  1.458234  0.008200    1.057699       0.377784   \n",
       "75   0.021678    0.144000  5.880393  0.017992    1.139617       0.977027   \n",
       "58   0.016459    0.139932  1.272153  0.003521    1.034806       0.242449   \n",
       "80   0.030911    0.133913  2.238774  0.017104    1.085555       0.719383   \n",
       "67   0.012043    0.120968  1.620057  0.004609    1.052670       0.425056   \n",
       "88   0.027700    0.120000  1.215122  0.004904    1.024141       0.230167   \n",
       "35   0.037736    0.102732  1.514237  0.012815    1.038882       0.536768   \n",
       "90   0.023284    0.100870  1.350893  0.006048    1.029140       0.337701   \n",
       "94   0.023284    0.100870  1.834059  0.010589    1.051018       0.591237   \n",
       "84   0.016058    0.069565  1.805072  0.007162    1.033346       0.579854   \n",
       "\n",
       "     antecedents_length  consequents_length  \n",
       "103                   2                   1  \n",
       "61                    2                   1  \n",
       "102                   2                   1  \n",
       "76                    2                   1  \n",
       "74                    2                   1  \n",
       "62                    2                   1  \n",
       "46                    2                   1  \n",
       "47                    2                   1  \n",
       "34                    2                   1  \n",
       "42                    2                   1  \n",
       "38                    2                   1  \n",
       "81                    2                   1  \n",
       "95                    2                   1  \n",
       "54                    2                   1  \n",
       "85                    2                   1  \n",
       "91                    2                   1  \n",
       "99                    2                   1  \n",
       "60                    2                   1  \n",
       "70                    2                   1  \n",
       "39                    2                   1  \n",
       "55                    2                   1  \n",
       "98                    2                   1  \n",
       "50                    2                   1  \n",
       "51                    2                   1  \n",
       "66                    2                   1  \n",
       "43                    2                   1  \n",
       "71                    2                   1  \n",
       "75                    2                   1  \n",
       "58                    2                   1  \n",
       "80                    2                   1  \n",
       "67                    2                   1  \n",
       "88                    2                   1  \n",
       "35                    2                   1  \n",
       "90                    2                   1  \n",
       "94                    2                   1  \n",
       "84                    2                   1  "
      ]
     },
     "execution_count": 815,
     "metadata": {},
     "output_type": "execute_result"
    }
   ],
   "source": [
    "# taking association rules where antecedents length is 2 or greater and excluding other rules\n",
    "rules2 = rules[rules['antecedents_length']>=2]\n",
    "rules2.sort_values(\"confidence\",ascending=False)\n"
   ]
  },
  {
   "cell_type": "code",
   "execution_count": 816,
   "id": "02ecb9cb",
   "metadata": {},
   "outputs": [],
   "source": [
    "# extracting antecedents, consequents and confidence to design recemmneding algorithm\n",
    "ant = rules2['antecedents'].tolist()\n",
    "cons = rules2['consequents'].tolist()\n",
    "conf = rules2['confidence'].tolist()"
   ]
  },
  {
   "cell_type": "markdown",
   "id": "12244649",
   "metadata": {},
   "source": [
    "### APP"
   ]
  },
  {
   "cell_type": "code",
   "execution_count": 869,
   "id": "b70468dd",
   "metadata": {},
   "outputs": [
    {
     "data": {
      "application/vnd.jupyter.widget-view+json": {
       "model_id": "1aa00d3d02384c9899323fbdbb411790",
       "version_major": 2,
       "version_minor": 0
      },
      "text/plain": [
       "interactive(children=(Dropdown(description='Brand', options=('Apple', 'Samsung', 'Xiaomi', 'Motorola', 'Vivo',…"
      ]
     },
     "metadata": {},
     "output_type": "display_data"
    },
    {
     "data": {
      "application/vnd.jupyter.widget-view+json": {
       "model_id": "18e547197cf24488a1492f727b9a4601",
       "version_major": 2,
       "version_minor": 0
      },
      "text/plain": [
       "interactive(children=(Dropdown(description='Storage', options=(64.0, 128.0, 256.0, 32.0, 16.0, 8.0, 512.0, 102…"
      ]
     },
     "metadata": {},
     "output_type": "display_data"
    },
    {
     "data": {
      "application/vnd.jupyter.widget-view+json": {
       "model_id": "2801c39283284d9da78c9fb96fb7a230",
       "version_major": 2,
       "version_minor": 0
      },
      "text/plain": [
       "interactive(children=(IntSlider(value=6000, description='min_price', max=10000, min=2000), Output()), _dom_cla…"
      ]
     },
     "metadata": {},
     "output_type": "display_data"
    },
    {
     "data": {
      "application/vnd.jupyter.widget-view+json": {
       "model_id": "5f335f243dfe430abc996bc74f7005df",
       "version_major": 2,
       "version_minor": 0
      },
      "text/plain": [
       "interactive(children=(IntSlider(value=55000, description='max_price', max=100000, min=10000), Output()), _dom_…"
      ]
     },
     "metadata": {},
     "output_type": "display_data"
    },
    {
     "data": {
      "application/vnd.jupyter.widget-view+json": {
       "model_id": "9f4f6ca9893a40c992e59feef300a856",
       "version_major": 2,
       "version_minor": 0
      },
      "text/plain": [
       "Button(description='Search', style=ButtonStyle())"
      ]
     },
     "metadata": {},
     "output_type": "display_data"
    },
    {
     "data": {
      "application/vnd.jupyter.widget-view+json": {
       "model_id": "7a3aa5a8f6c147a386c0a85a4ee75915",
       "version_major": 2,
       "version_minor": 0
      },
      "text/plain": [
       "Output()"
      ]
     },
     "metadata": {},
     "output_type": "display_data"
    }
   ],
   "source": [
    "from ipywidgets import interact\n",
    "from IPython.display import clear_output\n",
    "from operator import itemgetter\n",
    "\n",
    "def update_list():\n",
    "    global list\n",
    "    global lst3\n",
    "    global full_list\n",
    "    list = find_mobiles(brand=brand2, storage=storage2,  min_price=min_p, max_price=max_p)\n",
    "\n",
    "    # Extracting rules based on input from users\n",
    "    strg = str(storage2)\n",
    "    brnd = brand2\n",
    "    if brnd=='Apple':\n",
    "        ops = 'iOS'\n",
    "    else:\n",
    "        ops = 'Android'\n",
    "\n",
    "    lst2=[]\n",
    "    for i in range(len(ant)):\n",
    "        if strg in ant[i] and ops in ant[i]:\n",
    "            lst=[]\n",
    "            lst.append(strg)\n",
    "            for x in cons[i]:\n",
    "                lst.append(x)\n",
    "            lst.append(conf[i])\n",
    "            lst2.append(lst)\n",
    "        elif strg in ant[i] and brnd in ant[i]:\n",
    "            lst=[]\n",
    "            lst.append(strg)\n",
    "            for x in cons[i]:\n",
    "                lst.append(x)\n",
    "            lst.append(conf[i])\n",
    "            lst2.append(lst)\n",
    "\n",
    "    lst3 = sorted(lst2, key=itemgetter(2), reverse=True)\n",
    "    \n",
    "    # to display recommended mobile phones\n",
    "    full_list = pd.DataFrame()\n",
    "    for e in lst3:\n",
    "        rec_list = recommend_mobiles(brand=e[1], storage=float(e[0]),  min_price=min_p, max_price=max_p)\n",
    "        frames = [full_list, rec_list]\n",
    "        full_list = pd.concat(frames)\n",
    "\n",
    "    if full_list.empty:\n",
    "        pass\n",
    "    else:\n",
    "        full_list = full_list.sort_values(by='ratings', ascending=False)\n",
    "    \n",
    "full_list = pd.DataFrame()\n",
    "lst3=[]\n",
    "brand2=\"\"\n",
    "ram2=\"\"\n",
    "storage2=\"\"\n",
    "min_p=0\n",
    "max_p=0\n",
    "\n",
    "def func_brand(Brand):\n",
    "    global brand2\n",
    "    brand2=Brand\n",
    "    update_list()\n",
    "    \n",
    "def func_storage(Storage):\n",
    "    global storage2\n",
    "    storage2=Storage\n",
    "    update_list()\n",
    "\n",
    "\n",
    "def func_min_price(min_price):\n",
    "    global min_p\n",
    "    min_p=min_price\n",
    "    update_list()\n",
    "\n",
    "def func_max_price(max_price):\n",
    "    global max_p\n",
    "    max_p=max_price\n",
    "    update_list()\n",
    "\n",
    "a  = interact(func_brand, Brand=['Apple', 'Samsung', 'Xiaomi', 'Motorola', 'Vivo', 'OPPO', 'Realme', 'Infinix', 'OnePlus', 'Tecno'])\n",
    "e  = interact(func_storage, Storage=[64.0, 128.0, 256.0, 32.0, 16.0, 8.0, 512.0, 1024.0])\n",
    "c = interact(func_min_price, min_price=(2000,10000));\n",
    "d = interact(func_max_price, max_price=(10000,100000));\n",
    "update_list()\n",
    "\n",
    "import ipywidgets as widgets\n",
    "\n",
    "\n",
    "button = widgets.Button(description=\"Search\")\n",
    "output = widgets.Output()\n",
    "\n",
    "display(button, output)\n",
    "\n",
    "@output.capture()\n",
    "def on_button_clicked(b):\n",
    "    global list\n",
    "    clear_output(wait=True)\n",
    "    print('Top 10 search result:- ')\n",
    "    i=1\n",
    "    for ind in list.index:\n",
    "        print(f\"{i}. {list['name'][ind]} at ₹{list['price'][ind]} - ({list['ratings'][ind]})\")\n",
    "        i=i+1\n",
    "        \n",
    "    print('\\n')\n",
    "    print('Recommended mobile phones')\n",
    "    i=1\n",
    "    for ind in full_list.index:\n",
    "        print(f\"{i}. {full_list['name'][ind]} at ₹{full_list['price'][ind]} - ({full_list['ratings'][ind]})\")\n",
    "        i=i+1\n",
    "\n",
    "button.on_click(on_button_clicked)"
   ]
  },
  {
   "cell_type": "code",
   "execution_count": 845,
   "id": "77517df4",
   "metadata": {},
   "outputs": [],
   "source": [
    "# # Extracting rules based on input from users\n",
    "\n",
    "# from operator import itemgetter\n",
    "\n",
    "# strg = str(storage2)\n",
    "# brnd = brand2\n",
    "# if brnd=='Apple':\n",
    "#     ops = 'iOS'\n",
    "# else:\n",
    "#     ops = 'Android'\n",
    "    \n",
    "# lst2=[]\n",
    "# for i in range(len(ant)):\n",
    "#     if strg in ant[i] and ops in ant[i]:\n",
    "#         lst=[]\n",
    "#         lst.append(strg)\n",
    "#         for x in cons[i]:\n",
    "#             lst.append(x)\n",
    "#         lst.append(conf[i])\n",
    "#         lst2.append(lst)\n",
    "#     elif strg in ant[i] and brnd in ant[i]:\n",
    "#         lst=[]\n",
    "#         lst.append(strg)\n",
    "#         for x in cons[i]:\n",
    "#             lst.append(x)\n",
    "#         lst.append(conf[i])\n",
    "#         lst2.append(lst)\n",
    "    \n",
    "# lst3 = sorted(lst2, key=itemgetter(2), reverse=True)"
   ]
  },
  {
   "cell_type": "code",
   "execution_count": 864,
   "id": "fb1d460c",
   "metadata": {},
   "outputs": [
    {
     "name": "stdout",
     "output_type": "stream",
     "text": [
      "1. SAMSUNG Galaxy A12 (Blue, 128 GB) at ₹14999 - (4.8)\n",
      "2. vivo T1 44W (Midnight Galaxy, 128 GB) at ₹14499 - (4.5)\n",
      "3. SAMSUNG Galaxy S23 5G (Phantom Black, 128 GB) at ₹9463 - (4.5)\n",
      "4. vivo T1 44W (Starry Sky, 128 GB) at ₹14499 - (4.5)\n",
      "5. vivo Y73 (Roman Black, 128 GB) at ₹19795 - (4.5)\n",
      "6. vivo Z1x (Fusion Blue, 128 GB) at ₹14299 - (4.5)\n",
      "7. vivo S1 (Diamond Black, 128 GB) at ₹19990 - (4.5)\n",
      "8. vivo T1X (Gravity Black, 128 GB) at ₹16990 - (4.5)\n",
      "9. vivo T1X (DIAMOND GLOW, 128 GB) at ₹16990 - (4.5)\n",
      "10. vivo Y27 (Burgundy Black, 128 GB) at ₹14999 - (4.5)\n",
      "11. vivo T1 44W (Ice Dawn, 128 GB) at ₹14499 - (4.5)\n",
      "12. vivo S1 (Skyline Blue, 128 GB) at ₹19990 - (4.5)\n",
      "13. vivo Z1Pro (Sonic Blue, 128 GB) at ₹20990 - (4.5)\n",
      "14. vivo X80 (Cosmic Black, 128 GB) at ₹10537 - (4.5)\n",
      "15. SAMSUNG Galaxy M31 (Space Black, 128 GB) at ₹18799 - (4.5)\n",
      "16. SAMSUNG Galaxy A12 (Blue, 128 GB) at ₹12867 - (4.5)\n",
      "17. SAMSUNG Galaxy S23 5G (Green, 128 GB) at ₹9463 - (4.5)\n",
      "18. SAMSUNG Galaxy S22 5G (Green, 128 GB) at ₹12536 - (4.5)\n",
      "19. SAMSUNG Galaxy S23 5G (Lavender, 128 GB) at ₹9463 - (4.5)\n",
      "20. SAMSUNG Galaxy S23 5G (Cream, 128 GB) at ₹9463 - (4.5)\n",
      "21. SAMSUNG Galaxy M40 (Seawater Blue, 128 GB) at ₹21490 - (4.5)\n",
      "22. vivo Y35 (Agate Black, 128 GB) at ₹16999 - (4.4)\n",
      "23. vivo T2x 5G (Aurora Gold, 128 GB) at ₹12999 - (4.4)\n",
      "24. vivo Y21T (Pearl White, 128 GB) at ₹15390 - (4.4)\n",
      "25. vivo T1X (Space Blue, 128 GB) at ₹14999 - (4.4)\n",
      "26. vivo Y75 5G (Glowing Galaxy, 128 GB) at ₹21990 - (4.4)\n",
      "27. OnePlus Nord CE 2 Lite 5G (Blue Tide, 128 GB) at ₹17676 - (4.4)\n",
      "28. vivo T1X (Gravity Black, 128 GB) at ₹14999 - (4.4)\n",
      "29. OnePlus Nord CE 2 Lite 5G (Black Dusk, 128 GB) at ₹17691 - (4.4)\n",
      "30. vivo T1 44W (Starry Sky, 128 GB) at ₹15999 - (4.4)\n",
      "31. vivo T1 44W (Midnight Galaxy, 128 GB) at ₹15999 - (4.4)\n",
      "32. vivo Y21T (Midnight Blue, 128 GB) at ₹15499 - (4.4)\n",
      "33. vivo T2 5G (Velocity Wave, 128 GB) at ₹20999 - (4.4)\n",
      "34. vivo T1 5G (Starlight Black, 128 GB) at ₹16990 - (4.4)\n",
      "35. vivo T2 5G (Velocity Wave, 128 GB) at ₹18999 - (4.4)\n",
      "36. vivo T2x 5G (Aurora Gold, 128 GB) at ₹13999 - (4.4)\n",
      "37. vivo Y73 (Diamond Flare, 128 GB) at ₹19900 - (4.4)\n",
      "38. vivo Y31 (Ocean Blue, 128 GB) at ₹16290 - (4.4)\n",
      "39. vivo T2x 5G (Glimmer Black, 128 GB) at ₹13999 - (4.4)\n",
      "40. OnePlus 11 5G (Eternal Green, 128 GB) at ₹8601 - (4.4)\n",
      "41. vivo Y50 (Pearl White, 128 GB) at ₹19949 - (4.4)\n",
      "42. vivo Y35 (Dawn Gold, 128 GB) at ₹16999 - (4.4)\n",
      "43. vivo Y33T (Mirror Black, 128 GB) at ₹18989 - (4.4)\n",
      "44. vivo T2 5G (Nitro Blaze, 128 GB) at ₹18999 - (4.4)\n",
      "45. vivo T1 5G (Silky White, 128 GB) at ₹16990 - (4.4)\n",
      "46. vivo Y50 (Iris Blue, 128 GB) at ₹19990 - (4.4)\n",
      "47. vivo T2x 5G (Marine Blue, 128 GB) at ₹13999 - (4.4)\n",
      "48. vivo Y31 (Racing Black, 128 GB) at ₹16490 - (4.4)\n",
      "49. vivo T1 44W (Ice Dawn, 128 GB) at ₹19999 - (4.4)\n",
      "50. vivo T1 5G (Rainbow Fantasy, 128 GB) at ₹18990 - (4.4)\n",
      "51. vivo T2 5G (Nitro Blaze, 128 GB) at ₹20999 - (4.4)\n",
      "52. vivo S1 Pro (Jazzy Blue, 128 GB) at ₹20990 - (4.4)\n",
      "53. vivo T2x 5G (Glimmer Black, 128 GB) at ₹12999 - (4.4)\n",
      "54. vivo T2x 5G (Marine Blue, 128 GB) at ₹12999 - (4.4)\n",
      "55. OnePlus 11 5G (Titan Black, 128 GB) at ₹8538 - (4.4)\n",
      "56. vivo S1 Pro (Dreamy White, 128 GB) at ₹20990 - (4.4)\n",
      "57. SAMSUNG Galaxy F41 (Fusion Black, 128 GB) at ₹14499 - (4.4)\n",
      "58. SAMSUNG Galaxy A31 (Prism Crush Blue, 128 GB) at ₹16999 - (4.4)\n",
      "59. SAMSUNG Galaxy M21 (Raven Black, 128 GB) at ₹15980 - (4.4)\n",
      "60. SAMSUNG Galaxy S20+ (Cosmic Black, 128 GB) at ₹17464 - (4.4)\n",
      "61. SAMSUNG Galaxy F41 (Fusion Blue, 128 GB) at ₹14499 - (4.4)\n",
      "62. SAMSUNG Galaxy S22 5G (Phantom White, 128 GB) at ₹7454 - (4.4)\n",
      "63. OnePlus Nord CE 3 Lite 5G (Pastel Lime, 128 GB) at ₹18999 - (4.3)\n",
      "64. SAMSUNG Galaxy Z Flip3 5G (Cream, 128 GB) at ₹20537 - (4.3)\n",
      "65. SAMSUNG Galaxy A22 (Mint, 128 GB) at ₹16999 - (4.3)\n",
      "66. SAMSUNG Galaxy M32 Prime Edition (Black, 128 GB) at ₹15200 - (4.3)\n",
      "67. SAMSUNG M21 2021 Edition (Charcoal Black, 128 GB) at ₹16989 - (4.3)\n",
      "68. SAMSUNG Galaxy F42 5G (Matte Black, 128 GB) at ₹20999 - (4.3)\n",
      "69. SAMSUNG Galaxy F23 5G (Copper Blush, 128 GB) at ₹15499 - (4.3)\n",
      "70. SAMSUNG Galaxy A23 (Peach, 128 GB) at ₹18999 - (4.3)\n",
      "71. SAMSUNG Galaxy M12 (Blue, 128 GB) at ₹15499 - (4.3)\n",
      "72. SAMSUNG Galaxy F23 5G (Aqua Blue, 128 GB) at ₹15499 - (4.3)\n",
      "73. OnePlus Nord CE 3 Lite 5G (Chromatic Gray, 128 GB) at ₹19999 - (4.3)\n",
      "74. SAMSUNG Galaxy A22 5G (Gray, 128 GB) at ₹15690 - (4.3)\n",
      "75. OnePlus Nord CE 3 Lite 5G (Chromatic Gray, 128 GB) at ₹17890 - (4.3)\n",
      "76. OnePlus Nord CE 2 5G (Gray Mirror, 128 GB) at ₹17999 - (4.3)\n",
      "77. SAMSUNG Galaxy M31s (Mirage Black, 128 GB) at ₹17999 - (4.3)\n",
      "78. OnePlus Nord CE 2 Lite 5G (Blue Tide, 128 GB) at ₹21800 - (4.3)\n",
      "79. OnePlus Nord CE 2 5G (Bahama Blue, 128 GB) at ₹17999 - (4.3)\n",
      "80. vivo T1X (Space Blue, 128 GB) at ₹16999 - (4.3)\n",
      "81. vivo Y22 (Metaverse Green, 128 GB) at ₹15499 - (4.3)\n",
      "82. vivo Y22 (Starlit Blue, 128 GB) at ₹15499 - (4.3)\n",
      "83. SAMSUNG Galaxy F13 (Nightsky Green, 128 GB) at ₹10499 - (4.3)\n",
      "84. SAMSUNG Galaxy F12 (Sea Green, 128 GB) at ₹12990 - (4.3)\n",
      "85. SAMSUNG Galaxy M34 5G without charger (Prism Silver, 128 GB) at ₹21399 - (4.3)\n",
      "86. SAMSUNG Galaxy F23 5G (Forest Green, 128 GB) at ₹15499 - (4.3)\n",
      "87. SAMSUNG Galaxy S22 5G (White, 128 GB) at ₹7463 - (4.3)\n",
      "88. SAMSUNG Galaxy A13 (Green, 128 GB) at ₹19990 - (4.3)\n",
      "89. SAMSUNG Galaxy A50s (Prism Crush Violet, 128 GB) at ₹21070 - (4.3)\n",
      "90. SAMSUNG Galaxy A51 (Haze Crush Silver, 128 GB) at ₹20990 - (4.3)\n",
      "91. SAMSUNG Galaxy A80 (Phantom Black, 128 GB) at ₹13536 - (4.3)\n",
      "92. SAMSUNG Galaxy A23 (Blue, 128 GB) at ₹19990 - (4.3)\n",
      "93. SAMSUNG Galaxy M32 Prime Edition (Black, 128 GB) at ₹14499 - (4.3)\n",
      "94. SAMSUNG Galaxy M32 (Black, 128 GB) at ₹13402 - (4.3)\n",
      "95. SAMSUNG Galaxy A51 (Prism Crush Black, 128 GB) at ₹20999 - (4.3)\n",
      "96. SAMSUNG Galaxy S22 5G (Green, 128 GB) at ₹12536 - (4.3)\n",
      "97. SAMSUNG Galaxy F13 (Waterfall Blue, 128 GB) at ₹10499 - (4.3)\n",
      "98. SAMSUNG Galaxy F12 (Sky Blue, 128 GB) at ₹11990 - (4.3)\n",
      "99. SAMSUNG Galaxy A23 (Black, 128 GB) at ₹18790 - (4.3)\n",
      "100. SAMSUNG Galaxy F42 5G (Matte Aqua, 128 GB) at ₹20999 - (4.3)\n",
      "101. SAMSUNG Galaxy Z Flip3 5G (Phantom Black, 128 GB) at ₹20537 - (4.3)\n",
      "102. SAMSUNG Galaxy S20 FE (Cloud Red, 128 GB) at ₹11537 - (4.3)\n",
      "103. OnePlus Nord CE 2 Lite 5G (Blue Tide, 128 GB) at ₹18299 - (4.3)\n",
      "104. vivo T2x 5G (Aurora Gold, 128 GB) at ₹15999 - (4.3)\n",
      "105. vivo V20 SE (Aquamarine Green, 128 GB) at ₹21199 - (4.3)\n",
      "106. vivo T1 44W (Ice Dawn, 128 GB) at ₹17999 - (4.3)\n",
      "107. vivo T1 44W (Starry Sky, 128 GB) at ₹17999 - (4.3)\n",
      "108. vivo Y75 (Moonlight Shadow, 128 GB) at ₹19890 - (4.3)\n",
      "109. vivo T1 5G (Starlight Black, 128 GB) at ₹17990 - (4.3)\n",
      "110. vivo Y53s (Deep Sea Blue, 128 GB) at ₹15490 - (4.3)\n",
      "111. vivo Y20G (Purist Blue, 128 GB) at ₹14990 - (4.3)\n",
      "112. OnePlus Nord CE 2 5G (Bahama Blue, 128 GB) at ₹17999 - (4.3)\n",
      "113. vivo Y30 (Dazzle Blue, 128 GB) at ₹18990 - (4.3)\n",
      "114. vivo Y30 (Emerald Black, 128 GB) at ₹18990 - (4.3)\n",
      "115. vivo Y27 (Garden Green, 128 GB) at ₹14999 - (4.3)\n",
      "116. vivo T2x 5G (Glimmer Black, 128 GB) at ₹15999 - (4.3)\n",
      "117. vivo Y75 (Dancing waves, 128 GB) at ₹19990 - (4.3)\n",
      "118. vivo Y16 (Drizzling Gold, 128 GB) at ₹16999 - (4.3)\n",
      "119. vivo T1 5G (Starlight Black, 128 GB) at ₹21990 - (4.3)\n",
      "120. vivo Y21 (Midnight Blue, 128 GB) at ₹13499 - (4.3)\n",
      "121. vivo Y16 (Steller Black, 128 GB) at ₹16999 - (4.3)\n",
      "122. vivo T1 44W (Midnight Galaxy, 128 GB) at ₹17999 - (4.3)\n",
      "123. vivo Y56 (Gold, Orange, 128 GB) at ₹19979 - (4.3)\n",
      "124. OnePlus Nord CE 2 Lite 5G (Black Dusk, 128 GB) at ₹17990 - (4.3)\n",
      "125. vivo T2x 5G (Marine Blue, 128 GB) at ₹15999 - (4.3)\n",
      "126. vivo Y51 (Titanium Sapphire, 128 GB) at ₹21990 - (4.3)\n",
      "127. vivo Y565G (Black Engine, 128 GB) at ₹19999 - (4.3)\n",
      "128. vivo Y33T (Starry Gold, 128 GB) at ₹18884 - (4.3)\n",
      "129. vivo Y72 5G (Slate Gray, 128 GB) at ₹17754 - (4.3)\n",
      "130. vivo Y565G (Orange Shimmer, 128 GB) at ₹19989 - (4.3)\n",
      "131. vivo Y22 (Metaverse Green, 128 GB) at ₹14499 - (4.3)\n",
      "132. vivo Y20G (Obsidian Black, 128 GB) at ₹14990 - (4.3)\n",
      "133. vivo X80 5G (Cosmic Black, 128 GB) at ₹19546 - (4.3)\n",
      "134. vivo T1 5G (Rainbow Fantasy, 128 GB) at ₹20990 - (4.3)\n",
      "135. vivo Y72 5G (Prism Magic, 128 GB) at ₹17999 - (4.3)\n",
      "136. vivo Y51A (Titanium Sapphire, 128 GB) at ₹16990 - (4.3)\n",
      "137. vivo Y22 (Starlit Blue, 128 GB) at ₹14499 - (4.3)\n",
      "138. vivo Y16 (Stellar Black, 128 GB) at ₹12740 - (4.3)\n",
      "139. vivo Y51A (Crystal Symphony, 128 GB) at ₹16990 - (4.3)\n",
      "140. vivo Y51A (Crystal Symphony, 128 GB) at ₹21990 - (4.3)\n",
      "141. vivo Y20G (Obsidiant Black, 128 GB) at ₹17999 - (4.3)\n",
      "142. vivo Y21 (Diamond Glow, 128 GB) at ₹13499 - (4.3)\n",
      "143. vivo Y36 (Meteor Black, 128 GB) at ₹16999 - (4.3)\n",
      "144. vivo Y16 (Steller Black, 128 GB) at ₹12899 - (4.3)\n",
      "145. vivo T1 5G (Rainbow Fantasy, 128 GB) at ₹17990 - (4.3)\n",
      "146. vivo Y16 (Drizzling Gold, 128 GB) at ₹12797 - (4.3)\n",
      "147. vivo Y56 5G (Orange Shimmer, 128 GB) at ₹17999 - (4.2)\n",
      "148. vivo Y56 5G (Black Engine, 128 GB) at ₹19999 - (4.2)\n",
      "149. vivo Y33s (Midday Dream, 128 GB) at ₹15249 - (4.2)\n",
      "150. vivo Y56 5G (Black Engine, 128 GB) at ₹17999 - (4.2)\n",
      "151. vivo Y56 5G (Orange Shimmer, 128 GB) at ₹19999 - (4.2)\n",
      "152. OnePlus 9 Pro 5G (Stellar Black, 128 GB) at ₹20546 - (4.2)\n",
      "153. OnePlus 9 Pro 5G (Morning Mist, 128 GB) at ₹20546 - (4.2)\n",
      "154. OnePlus NORD CE2 LITE 5G (Blue, Black, 128 GB) at ₹17699 - (4.2)\n",
      "155. SAMSUNG Galaxy F23 5G (Copper Blush, 128 GB) at ₹14499 - (4.2)\n",
      "156. SAMSUNG M32 5G (Sky blue, 128 GB) at ₹16200 - (4.2)\n",
      "157. SAMSUNG Galaxy M33 5G (Mystique Green, 128 GB) at ₹16479 - (4.2)\n",
      "158. SAMSUNG Galaxy F14 5G (OMG Black, 128 GB) at ₹12990 - (4.2)\n",
      "159. SAMSUNG Galaxy M32 (Black, 128 GB) at ₹14995 - (4.2)\n",
      "160. SAMSUNG Galaxy M32 5G (Slate Black, 128 GB) at ₹19000 - (4.2)\n",
      "161. SAMSUNG Galaxy A13 (White, 128 GB) at ₹14999 - (4.2)\n",
      "162. SAMSUNG GALAXY M13 (Midnight Blue, 128 GB) at ₹12879 - (4.2)\n",
      "163. SAMSUNG Galaxy M32 5G (Slate Black, 128 GB) at ₹20999 - (4.2)\n",
      "164. SAMSUNG Galaxy F14 5G (GOAT Green, 128 GB) at ₹12990 - (4.2)\n",
      "165. SAMSUNG Galaxy M14 5G (Smoky Teal, 128 GB) at ₹17989 - (4.2)\n",
      "166. SAMSUNG Galaxy M42 5G (Prism Dot Gray, 128 GB) at ₹20909 - (4.2)\n",
      "167. SAMSUNG Galaxy M12 (Blue, 128 GB) at ₹15499 - (4.2)\n",
      "168. SAMSUNG Galaxy M33 5G (Emerald Brown, 128 GB) at ₹17678 - (4.2)\n",
      "169. SAMSUNG Galaxy M33 5G (Deep Ocean Blue, 128 GB) at ₹16899 - (4.2)\n",
      "170. SAMSUNG Galaxy M32 5G (Sky Blue, 128 GB) at ₹19999 - (4.2)\n",
      "171. SAMSUNG Galaxy F14 5G (OMG Black, 128 GB) at ₹13990 - (4.2)\n",
      "172. SAMSUNG Galaxy A22 5G (Mint, 128 GB) at ₹19999 - (4.2)\n",
      "173. SAMSUNG Galaxy F23 5G (Forest Green, 128 GB) at ₹14499 - (4.2)\n",
      "174. SAMSUNG Galaxy A22 (Black, 128 GB) at ₹20499 - (4.2)\n",
      "175. SAMSUNG Galaxy M32 5G (Sky Blue, 128 GB) at ₹17990 - (4.2)\n",
      "176. SAMSUNG GALAXY M13 (Stardust Brown, 128 GB) at ₹12894 - (4.2)\n",
      "177. SAMSUNG Galaxy A21s (Silver, 128 GB) at ₹16999 - (4.2)\n",
      "178. SAMSUNG Galaxy M32 5G (Sky Blue, 128 GB) at ₹19499 - (4.2)\n",
      "179. SAMSUNG Galaxy M33 5G (Mystique Green, 128 GB) at ₹16479 - (4.2)\n",
      "180. SAMSUNG Galaxy F14 5G (GOAT Green, 128 GB) at ₹13990 - (4.2)\n",
      "181. SAMSUNG Galaxy M14 5G (ICY Silver, 128 GB) at ₹14885 - (4.2)\n",
      "182. SAMSUNG Galaxy M14 5G (Smoky Teal, 128 GB) at ₹14989 - (4.2)\n",
      "183. SAMSUNG GALAXY M13 5G (Aqua Green, 128 GB) at ₹14990 - (4.2)\n",
      "184. SAMSUNG Galaxy A23 (Black, 128 GB) at ₹17499 - (4.2)\n",
      "185. SAMSUNG Galaxy M32 5G (Sky Blue, 128 GB) at ₹18999 - (4.2)\n",
      "186. SAMSUNG Galaxy M13 (Aqua Green, 128 GB) at ₹13999 - (4.2)\n",
      "187. SAMSUNG Galaxy A13 (Green, 128 GB) at ₹16295 - (4.2)\n",
      "188. SAMSUNG Galaxy M14 5G (Berry Blue, 128 GB) at ₹15490 - (4.2)\n",
      "189. SAMSUNG Galaxy M14 5G (Icy Silver, 128 GB) at ₹16490 - (4.2)\n",
      "190. SAMSUNG Galaxy A14 (Silver, 128 GB) at ₹16399 - (4.2)\n",
      "191. SAMSUNG Galaxy A12 (Blue, 128 GB) at ₹17999 - (4.2)\n",
      "192. SAMSUNG Galaxy A13 (Peach, 128 GB) at ₹16499 - (4.2)\n",
      "193. SAMSUNG Galaxy M42 (Prism Dot Gray, 128 GB) at ₹18990 - (4.2)\n",
      "194. SAMSUNG Galaxy S21 Plus (Phantom Silver, 128 GB) at ₹14137 - (4.2)\n",
      "195. SAMSUNG Galaxy F14 5G (B.A.E. Purple, 128 GB) at ₹13990 - (4.2)\n",
      "196. SAMSUNG GALAXY M51 (ELECTRIC BLUE, 128 GB) at ₹17996 - (4.2)\n",
      "197. OnePlus 11 5G (Eternal Green, 128 GB) at ₹9537 - (4.2)\n",
      "198. SAMSUNG Galaxy A23 (Peach, 128 GB) at ₹17499 - (4.2)\n",
      "199. OnePlus 10 Pro 5G (Volcanic Black, 128 GB) at ₹15537 - (4.1)\n",
      "200. SAMSUNG GALAXY M13 5G (Midnight Blue, 128 GB) at ₹14235 - (4.1)\n",
      "201. OnePlus 10T 5G (Jade Green, 128 GB) at ₹19087 - (4.1)\n",
      "202. vivo Y36 (Vibrant Gold, 128 GB) at ₹16999 - (4.1)\n",
      "203. SAMSUNG Galaxy M04 (Dark Blue, 128 GB) at ₹10470 - (4.1)\n",
      "204. SAMSUNG Galaxy A13 (Black, 128 GB) at ₹14999 - (4.1)\n",
      "205. SAMSUNG Galaxy A22 5G (Mint, 128 GB) at ₹17700 - (4.1)\n",
      "206. SAMSUNG Galaxy M32 Prime Edition (Light Blue, 128 GB) at ₹14640 - (4.1)\n",
      "207. SAMSUNG Galaxy M12 (White, 128 GB) at ₹16999 - (4.1)\n",
      "208. SAMSUNG Galaxy A12 (Black, 128 GB) at ₹17999 - (4.1)\n",
      "209. SAMSUNG Galaxy A14 5G (Light Green, 128 GB) at ₹19999 - (4.1)\n",
      "210. SAMSUNG Galaxy A12 (Blue, 128 GB) at ₹17999 - (4.1)\n",
      "211. SAMSUNG Galaxy A23 5G (Silver, 128 GB) at ₹21999 - (4.1)\n",
      "212. SAMSUNG Galaxy A14 5G (Black, 128 GB) at ₹19999 - (4.1)\n",
      "213. SAMSUNG Galaxy A04e (Copper, 128 GB) at ₹11499 - (4.1)\n",
      "214. SAMSUNG M32 5G (Slate Black, 128 GB) at ₹16999 - (4.1)\n",
      "215. SAMSUNG Galaxy F22 (Denim Blue, 128 GB) at ₹13499 - (4.1)\n",
      "216. SAMSUNG Galaxy A22 5G (Violet, 128 GB) at ₹19999 - (4.1)\n",
      "217. SAMSUNG Galaxy A04e (Light Blue, 128 GB) at ₹11499 - (4.1)\n",
      "218. SAMSUNG GALAXY M13 5G (Aqua Green, 128 GB) at ₹14049 - (4.1)\n",
      "219. SAMSUNG Galaxy M21 (Midnight Blue, 128 GB) at ₹16499 - (4.1)\n",
      "220. SAMSUNG Galaxy M31s (Mirage Blue, 128 GB) at ₹18999 - (4.1)\n",
      "221. SAMSUNG Galaxy A13 (Blue, 128 GB) at ₹15499 - (4.1)\n",
      "222. SAMSUNG GALAXY M51 (Celestial Black, 128 GB) at ₹20990 - (4.1)\n",
      "223. SAMSUNG GALAXY M13 5G (?Stardust Brown, 128 GB) at ₹14298 - (4.1)\n",
      "224. SAMSUNG Galaxy A13 (Peach, 128 GB) at ₹14999 - (4.0)\n",
      "225. SAMSUNG Galaxy S20 FE (Cloud Navy, 128 GB) at ₹15526 - (4.0)\n",
      "226. SAMSUNG Galaxy M40 (Midnight Blue, 128 GB) at ₹15798 - (4.0)\n",
      "227. SAMSUNG Galaxy M32 (Light Blue, 128 GB) at ₹13402 - (4.0)\n",
      "228. SAMSUNG Galaxy A14 5G (Dark Red, 128 GB) at ₹17999 - (4.0)\n",
      "229. SAMSUNG Galaxy A14 5G (Black, 128 GB) at ₹17999 - (4.0)\n",
      "230. SAMSUNG Galaxy M12 (Black, 128 GB) at ₹16999 - (4.0)\n",
      "231. SAMSUNG Galaxy A23 (Peach, 128 GB) at ₹18990 - (4.0)\n",
      "232. SAMSUNG Galaxy A21s (Black, 128 GB) at ₹16999 - (4.0)\n",
      "233. SAMSUNG Galaxy A04 (Green, 128 GB) at ₹12999 - (4.0)\n",
      "234. SAMSUNG Galaxy A04 (Copper, 128 GB) at ₹12799 - (4.0)\n",
      "235. SAMSUNG Galaxy A04s (Copper, 128 GB) at ₹14499 - (4.0)\n",
      "236. SAMSUNG Galaxy A22 (Black, 128 GB) at ₹16999 - (4.0)\n",
      "237. SAMSUNG Galaxy A04 (Black, 128 GB) at ₹11990 - (4.0)\n",
      "238. OnePlus 9 Pro (Pine Green, 128 GB) at ₹15537 - (3.9)\n",
      "239. OnePlus NORD CE2 LITE 5G (Blue, Black, 128 GB) at ₹17699 - (3.9)\n",
      "240. SAMSUNG Galaxy M33 5G (Deep Ocean Blue, 128 GB) at ₹19990 - (3.9)\n",
      "241. vivo T1X (Diamond Glow, 128 GB) at ₹18290 - (3.9)\n",
      "242. SAMSUNG Galaxy A14 (Light Green, 128 GB) at ₹15499 - (3.9)\n",
      "243. SAMSUNG Galaxy A14 (Black, 128 GB) at ₹15499 - (3.9)\n",
      "244. OnePlus 9 Pro 5G (Morning Mist, 128 GB) at ₹17537 - (3.8)\n",
      "245. SAMSUNG Galaxy M34 5G without charger (Prism Silver, 128 GB) at ₹21299 - (3.7)\n",
      "246. SAMSUNG Galaxy F12 (Celestial Black, 128 GB) at ₹11499 - (3.6)\n",
      "247. OnePlus Nord CE 5G (Silver Gray, 128 GB) at ₹21999 - (3.5)\n",
      "248. OnePlus Nord CE 5G (Charcoal Ink, 128 GB) at ₹21999 - (3.5)\n",
      "249. OnePlus Nord CE 5G (Blue Void, 128 GB) at ₹21999 - (3.5)\n",
      "250. SAMSUNG Galaxy A50s (Prism Crush Black, 128 GB) at ₹21070 - (2.9)\n"
     ]
    }
   ],
   "source": [
    "# to display recommended mobile phones\n",
    "\n",
    "# full_list = pd.DataFrame()\n",
    "# for e in lst3:\n",
    "#     rec_list = recommend_mobiles(brand=e[1], storage=float(e[0]),  min_price=min_p, max_price=max_p)\n",
    "#     frames = [full_list, rec_list]\n",
    "#     full_list = pd.concat(frames)\n",
    "\n",
    "# full_list = full_list.sort_values(by='ratings', ascending=False)\n",
    "\n",
    "i=1\n",
    "for ind in full_list.index:\n",
    "    print(f\"{i}. {full_list['name'][ind]} at ₹{full_list['price'][ind]} - ({full_list['ratings'][ind]})\")\n",
    "    i=i+1\n"
   ]
  },
  {
   "cell_type": "code",
   "execution_count": 860,
   "id": "aa640fa1",
   "metadata": {},
   "outputs": [],
   "source": [
    "# full_list.head(435)\n",
    "full_list = pd.DataFrame()"
   ]
  },
  {
   "cell_type": "code",
   "execution_count": 861,
   "id": "5bb3e812",
   "metadata": {},
   "outputs": [
    {
     "data": {
      "text/html": [
       "<div>\n",
       "<style scoped>\n",
       "    .dataframe tbody tr th:only-of-type {\n",
       "        vertical-align: middle;\n",
       "    }\n",
       "\n",
       "    .dataframe tbody tr th {\n",
       "        vertical-align: top;\n",
       "    }\n",
       "\n",
       "    .dataframe thead th {\n",
       "        text-align: right;\n",
       "    }\n",
       "</style>\n",
       "<table border=\"1\" class=\"dataframe\">\n",
       "  <thead>\n",
       "    <tr style=\"text-align: right;\">\n",
       "      <th></th>\n",
       "    </tr>\n",
       "  </thead>\n",
       "  <tbody>\n",
       "  </tbody>\n",
       "</table>\n",
       "</div>"
      ],
      "text/plain": [
       "Empty DataFrame\n",
       "Columns: []\n",
       "Index: []"
      ]
     },
     "execution_count": 861,
     "metadata": {},
     "output_type": "execute_result"
    }
   ],
   "source": [
    "full_list.head(435)"
   ]
  },
  {
   "cell_type": "code",
   "execution_count": 862,
   "id": "8117c33c",
   "metadata": {},
   "outputs": [
    {
     "name": "stdout",
     "output_type": "stream",
     "text": [
      "DataFrame is empty!\n"
     ]
    }
   ],
   "source": [
    "if full_list.empty:\n",
    "    print('DataFrame is empty!')"
   ]
  },
  {
   "cell_type": "code",
   "execution_count": null,
   "id": "e384ab08",
   "metadata": {},
   "outputs": [],
   "source": []
  }
 ],
 "metadata": {
  "kernelspec": {
   "display_name": "Python 3 (ipykernel)",
   "language": "python",
   "name": "python3"
  },
  "language_info": {
   "codemirror_mode": {
    "name": "ipython",
    "version": 3
   },
   "file_extension": ".py",
   "mimetype": "text/x-python",
   "name": "python",
   "nbconvert_exporter": "python",
   "pygments_lexer": "ipython3",
   "version": "3.11.5"
  }
 },
 "nbformat": 4,
 "nbformat_minor": 5
}

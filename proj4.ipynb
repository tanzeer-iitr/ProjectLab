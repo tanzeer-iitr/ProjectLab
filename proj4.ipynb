{
 "cells": [
  {
   "cell_type": "markdown",
   "id": "f91ce70c-3fc5-418a-9aa4-acdac9d99ee0",
   "metadata": {},
   "source": [
    "### SMOTE"
   ]
  },
  {
   "cell_type": "code",
   "execution_count": 1,
   "id": "3219b937-dd0a-49f2-b695-038824ee47a1",
   "metadata": {},
   "outputs": [
    {
     "ename": "ModuleNotFoundError",
     "evalue": "No module named 'imblearn'",
     "output_type": "error",
     "traceback": [
      "\u001b[1;31m---------------------------------------------------------------------------\u001b[0m",
      "\u001b[1;31mModuleNotFoundError\u001b[0m                       Traceback (most recent call last)",
      "Cell \u001b[1;32mIn[1], line 7\u001b[0m\n\u001b[0;32m      5\u001b[0m \u001b[38;5;28;01mimport\u001b[39;00m \u001b[38;5;21;01mmatplotlib\u001b[39;00m \u001b[38;5;28;01mas\u001b[39;00m \u001b[38;5;21;01mmpl\u001b[39;00m\n\u001b[0;32m      6\u001b[0m \u001b[38;5;28;01mfrom\u001b[39;00m \u001b[38;5;21;01msklearn\u001b[39;00m\u001b[38;5;21;01m.\u001b[39;00m\u001b[38;5;21;01mmodel_selection\u001b[39;00m \u001b[38;5;28;01mimport\u001b[39;00m train_test_split\n\u001b[1;32m----> 7\u001b[0m \u001b[38;5;28;01mimport\u001b[39;00m \u001b[38;5;21;01mimblearn\u001b[39;00m\n\u001b[0;32m      8\u001b[0m \u001b[38;5;28;01mfrom\u001b[39;00m \u001b[38;5;21;01mimblearn\u001b[39;00m\u001b[38;5;21;01m.\u001b[39;00m\u001b[38;5;21;01mover_sampling\u001b[39;00m \u001b[38;5;28;01mimport\u001b[39;00m SMOTE\n\u001b[0;32m     11\u001b[0m data \u001b[38;5;241m=\u001b[39m pd\u001b[38;5;241m.\u001b[39mread_csv(\u001b[38;5;124m\"\u001b[39m\u001b[38;5;124mcreditcard.csv\u001b[39m\u001b[38;5;124m\"\u001b[39m)\n",
      "\u001b[1;31mModuleNotFoundError\u001b[0m: No module named 'imblearn'"
     ]
    }
   ],
   "source": [
    "#importing\n",
    "\n",
    "import numpy as np\n",
    "import pandas as pd\n",
    "import matplotlib as mpl\n",
    "from sklearn.model_selection import train_test_split\n",
    "import imblearn\n",
    "from imblearn.over_sampling import SMOTE\n",
    "\n",
    "\n",
    "data = pd.read_csv(\"creditcard.csv\")\n",
    "data.head()\n",
    "X=data.iloc[:,1:30]\n",
    "y=data.iloc[:,-1]\n",
    "\n",
    "# sampling\n",
    "\n",
    "oversample = SMOTE(random_state=42)\n",
    "\n",
    "X_over, y_over = oversample.fit_resample(X, y)\n",
    "\n",
    "y_over = y_over.to_frame()\n",
    "\n",
    "horizontal_concat = pd.concat([X_over, y_over], axis=1)\n",
    "data = horizontal_concat"
   ]
  },
  {
   "cell_type": "code",
   "execution_count": 3,
   "id": "50038b14",
   "metadata": {},
   "outputs": [],
   "source": []
  },
  {
   "cell_type": "code",
   "execution_count": 4,
   "id": "7578efaa",
   "metadata": {},
   "outputs": [],
   "source": []
  },
  {
   "cell_type": "code",
   "execution_count": 29,
   "id": "75b5ea80-4d80-45ca-9d3f-f8c55ab9dcf3",
   "metadata": {},
   "outputs": [
    {
     "name": "stdout",
     "output_type": "stream",
     "text": [
      "(568630, 30)\n",
      "(568630, 30)\n",
      "568630\n"
     ]
    }
   ],
   "source": [
    "# data = pd.read_csv(\"creditcard.csv\")\n",
    "# data.head()\n",
    "data10= data.sample(frac = 1,random_state=1)\n",
    "data2 = data10\n",
    "print(data.shape)\n",
    "print(data10.shape)\n",
    "print(len(data10))\n"
   ]
  },
  {
   "cell_type": "code",
   "execution_count": 30,
   "id": "9cc6452f-c9cb-45f5-9463-20d605cb3d27",
   "metadata": {},
   "outputs": [
    {
     "name": "stdout",
     "output_type": "stream",
     "text": [
      "568630\n",
      "(454904, 30)\n",
      "(113726, 30)\n",
      "0.8\n"
     ]
    }
   ],
   "source": [
    "# (data_train, data_test) = train_test_split(data10, test_size=0.2, stratify=data['Class'], random_state=11)\n",
    "print(len(data10))\n",
    "(data_train, data_test) = train_test_split(data10, test_size=0.2, stratify=data10['Class'], random_state=11)\n",
    "\n",
    "print(data_train.shape)\n",
    "print(data_test.shape)\n",
    "print(len(data_train)/len(data_train+data_test))"
   ]
  },
  {
   "cell_type": "code",
   "execution_count": 31,
   "id": "12114a59-fd0a-48f1-a511-7748ed753988",
   "metadata": {},
   "outputs": [
    {
     "name": "stdout",
     "output_type": "stream",
     "text": [
      "227452\n",
      "56863\n",
      "0.8\n"
     ]
    }
   ],
   "source": [
    "print(data_train.Class.sum())\n",
    "print(data_test.Class.sum())\n",
    "print(data_train.Class.sum()/(data_train.Class.sum()+data_test.Class.sum()))"
   ]
  },
  {
   "cell_type": "code",
   "execution_count": 8,
   "id": "9942821c-138a-4e49-9bdd-6ef66627a5d9",
   "metadata": {},
   "outputs": [],
   "source": [
    "# data_train.describe()"
   ]
  },
  {
   "cell_type": "code",
   "execution_count": 32,
   "id": "13222ffa-ed62-4861-b208-9fbf4fa01fd8",
   "metadata": {},
   "outputs": [
    {
     "name": "stdout",
     "output_type": "stream",
     "text": [
      "(454904, 29)\n",
      "(454904,)\n",
      "(113726, 29)\n",
      "(113726,)\n"
     ]
    }
   ],
   "source": [
    "#separate dependent feature from independent features\n",
    "(data_train_indep, data_test_indep) = [dt.drop(['Class'], axis=1, inplace=False) for dt in [data_train, data_test]]\n",
    "(data_train_dep, data_test_dep) = [dt['Class'] for dt in [data_train, data_test]]\n",
    "print(data_train_indep.shape)\n",
    "print(data_train_dep.shape)\n",
    "print(data_test_indep.shape)\n",
    "print(data_test_dep.shape)"
   ]
  },
  {
   "cell_type": "markdown",
   "id": "5da140c2",
   "metadata": {},
   "source": [
    "### Random Forest - SMOTE"
   ]
  },
  {
   "cell_type": "code",
   "execution_count": 33,
   "id": "751b3acf-dc44-46be-889b-643e822ce52d",
   "metadata": {},
   "outputs": [
    {
     "name": "stdout",
     "output_type": "stream",
     "text": [
      "Wrong predictions = 8 / 113726\n",
      "Accuracy score = 0.9999296554877513\n",
      "\n",
      "ROC-AUC score = 0.9999296554877513\n",
      "\n",
      "Classification Report :\n",
      "              precision    recall  f1-score   support\n",
      "\n",
      "           0       1.00      1.00      1.00     56863\n",
      "           1       1.00      1.00      1.00     56863\n",
      "\n",
      "    accuracy                           1.00    113726\n",
      "   macro avg       1.00      1.00      1.00    113726\n",
      "weighted avg       1.00      1.00      1.00    113726\n",
      "\n"
     ]
    }
   ],
   "source": [
    "from sklearn.ensemble import RandomForestClassifier\n",
    "from sklearn.metrics import classification_report,accuracy_score, confusion_matrix, roc_auc_score\n",
    "rfc = RandomForestClassifier()\n",
    "rfc.fit(data_train_indep, data_train_dep)\n",
    "pred = rfc.predict(data_test_indep)\n",
    "n_errors = (pred != data_test_dep).sum()\n",
    "\n",
    "print(\"Wrong predictions = {} / {}\".format(n_errors, len(data_test_indep)))\n",
    "print(\"Accuracy score = {}\\n\".format(accuracy_score(data_test_dep,pred)))\n",
    "\n",
    "print(\"ROC-AUC score = {}\\n\".format(roc_auc_score(data_test_dep,pred)))\n",
    "\n",
    "print(\"Classification Report :\")\n",
    "print(classification_report(data_test_dep,pred))\n",
    "\n",
    "#colab"
   ]
  },
  {
   "cell_type": "code",
   "execution_count": 34,
   "id": "cc31595d-fc49-4369-811d-4ccbb36aebd4",
   "metadata": {},
   "outputs": [
    {
     "data": {
      "image/png": "[encoded data removed]",
      "text/plain": [
       "<Figure size 640x480 with 2 Axes>"
      ]
     },
     "metadata": {},
     "output_type": "display_data"
    }
   ],
   "source": [
    "from sklearn import metrics\n",
    "import matplotlib.pyplot as plt\n",
    "cm = metrics.confusion_matrix(data_test_dep,pred)\n",
    "\n",
    "cm_display = metrics.ConfusionMatrixDisplay(confusion_matrix = cm, display_labels = [\"Normal\", \"Fraud\"])\n",
    "\n",
    "cm_display.plot()\n",
    "plt.show()"
   ]
  },
  {
   "cell_type": "markdown",
   "id": "a07cd6b9-5095-4ab6-b0d9-6e325c98f55d",
   "metadata": {},
   "source": [
    "### Logistic Regression - SMOTE"
   ]
  },
  {
   "cell_type": "code",
   "execution_count": 35,
   "id": "6e54bf35-9bcd-4b76-bc74-d6a19b058655",
   "metadata": {},
   "outputs": [
    {
     "name": "stdout",
     "output_type": "stream",
     "text": [
      "Wrong predictions = 4591 / 113726\n",
      "Accuracy score = 0.9596310430332554\n",
      "\n",
      "ROC-AUC score = 0.9596310430332553\n",
      "\n",
      "Classification Report :\n",
      "              precision    recall  f1-score   support\n",
      "\n",
      "           0       0.94      0.98      0.96     56863\n",
      "           1       0.98      0.94      0.96     56863\n",
      "\n",
      "    accuracy                           0.96    113726\n",
      "   macro avg       0.96      0.96      0.96    113726\n",
      "weighted avg       0.96      0.96      0.96    113726\n",
      "\n"
     ]
    }
   ],
   "source": [
    "from sklearn.linear_model import LogisticRegression\n",
    "from sklearn.metrics import roc_auc_score#, roc_auc_curve\n",
    "lr = LogisticRegression(solver='liblinear')\n",
    "lr.fit(data_train_indep, data_train_dep)\n",
    "# lr_prob = lr.predict_proba(data_test_indep)\n",
    "pred = lr.predict(data_test_indep)\n",
    "n_errors = (pred != data_test_dep).sum()\n",
    "print(\"Wrong predictions = {} / {}\".format(n_errors, len(data_test_indep)))\n",
    "print(\"Accuracy score = {}\\n\".format(accuracy_score(data_test_dep, pred)))\n",
    "\n",
    "print(\"ROC-AUC score = {}\\n\".format(roc_auc_score(data_test_dep,pred)))\n",
    "\n",
    "print(\"Classification Report :\")\n",
    "print(classification_report(data_test_dep,pred))\n",
    "\n"
   ]
  },
  {
   "cell_type": "code",
   "execution_count": 21,
   "id": "762fc9eb-b8c0-4a64-85ba-1714dadfeb88",
   "metadata": {},
   "outputs": [
    {
     "data": {
      "image/png": "[encoded data removed]",
      "text/plain": [
       "<Figure size 640x480 with 2 Axes>"
      ]
     },
     "metadata": {},
     "output_type": "display_data"
    }
   ],
   "source": [
    "from sklearn import metrics\n",
    "import matplotlib.pyplot as plt\n",
    "cm = metrics.confusion_matrix(data_test_dep,pred)\n",
    "\n",
    "cm_display = metrics.ConfusionMatrixDisplay(confusion_matrix = cm, display_labels = [\"Normal\", \"Fraud\"])\n",
    "\n",
    "cm_display.plot()\n",
    "plt.show()"
   ]
  },
  {
   "cell_type": "code",
   "execution_count": null,
   "id": "2acca508-e221-4780-81de-6fbbb83db9f9",
   "metadata": {},
   "outputs": [],
   "source": []
  }
 ],
 "metadata": {
  "kernelspec": {
   "display_name": "Python 3 (ipykernel)",
   "language": "python",
   "name": "python3"
  },
  "language_info": {
   "codemirror_mode": {
    "name": "ipython",
    "version": 3
   },
   "file_extension": ".py",
   "mimetype": "text/x-python",
   "name": "python",
   "nbconvert_exporter": "python",
   "pygments_lexer": "ipython3",
   "version": "3.11.4"
  }
 },
 "nbformat": 4,
 "nbformat_minor": 5
}
